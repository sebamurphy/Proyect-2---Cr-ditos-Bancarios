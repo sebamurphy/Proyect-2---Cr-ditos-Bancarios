{
 "cells": [
  {
   "cell_type": "markdown",
   "metadata": {},
   "source": [
    "----"
   ]
  },
  {
   "cell_type": "markdown",
   "metadata": {},
   "source": [
    "# Análisis del riesgo de incumplimiento de los prestatarios\n",
    "\n",
    "Tu proyecto consiste en preparar un informe para la división de préstamos de un banco. Deberás averiguar si el estado civil y el número de hijos de un cliente tienen un impacto en el incumplimiento de pago de un préstamo. El banco ya tiene algunos datos sobre la solvencia crediticia de los clientes.\n",
    "\n",
    "Tu informe se tendrá en cuenta al crear una **puntuación de crédito** para un cliente potencial. La **puntuación de crédito** se utiliza para evaluar la capacidad de un prestatario potencial para pagar su préstamo.\n",
    "\n",
    "[En este cuaderno se te brindan pistas, breves instrucciones y sugerencias para pensar. No los ignores, ya que están diseñados para equiparte con la estructura del proyecto y te ayudarán a analizar lo que estás haciendo en un nivel más profundo. Antes de enviar tu proyecto, asegúrate de eliminar todas las sugerencias y descripciones que se te hayan proporcionado. Más bien, haz que este informe parezca como si se lo estuvieras enviando a tus compañeros de equipo para demostrar tus hallazgos: ¡no deben saber que recibiste ayuda externa de nuestra parte! Para ayudarte, hemos colocado las pistas que debes eliminar entre corchetes.]\n",
    "\n",
    "[Antes de sumergirte en el análisis de tus datos, explica los propósitos del proyecto y las hipótesis que vas a evaluar.]"
   ]
  },
  {
   "cell_type": "markdown",
   "metadata": {},
   "source": [
    "## Abre el archivo de datos y mira la información general. \n",
    "\n",
    "[Empieza con la importación de las librerías y la carga de los datos. Es posible que te des cuenta de que necesitas librerías adicionales a medida que avanzas, lo cual es totalmente normal, solo asegúrate de actualizar esta sección cuando lo hagas.]"
   ]
  },
  {
   "cell_type": "code",
   "execution_count": 2,
   "metadata": {},
   "outputs": [],
   "source": [
    "import pandas as pd\n",
    "\n",
    "credit_proyect = pd.read_csv(\"/datasets/credit_scoring_eng.csv\")# Cargar todas las librerías\n",
    "\n",
    "\n",
    "# Carga los datos\n"
   ]
  },
  {
   "cell_type": "code",
   "execution_count": 3,
   "metadata": {},
   "outputs": [
    {
     "data": {
      "text/html": [
       "<div>\n",
       "<style scoped>\n",
       "    .dataframe tbody tr th:only-of-type {\n",
       "        vertical-align: middle;\n",
       "    }\n",
       "\n",
       "    .dataframe tbody tr th {\n",
       "        vertical-align: top;\n",
       "    }\n",
       "\n",
       "    .dataframe thead th {\n",
       "        text-align: right;\n",
       "    }\n",
       "</style>\n",
       "<table border=\"1\" class=\"dataframe\">\n",
       "  <thead>\n",
       "    <tr style=\"text-align: right;\">\n",
       "      <th></th>\n",
       "      <th>children</th>\n",
       "      <th>days_employed</th>\n",
       "      <th>dob_years</th>\n",
       "      <th>education</th>\n",
       "      <th>education_id</th>\n",
       "      <th>family_status</th>\n",
       "      <th>family_status_id</th>\n",
       "      <th>gender</th>\n",
       "      <th>income_type</th>\n",
       "      <th>debt</th>\n",
       "      <th>total_income</th>\n",
       "      <th>purpose</th>\n",
       "    </tr>\n",
       "  </thead>\n",
       "  <tbody>\n",
       "    <tr>\n",
       "      <th>0</th>\n",
       "      <td>1</td>\n",
       "      <td>-8437.673028</td>\n",
       "      <td>42</td>\n",
       "      <td>bachelor's degree</td>\n",
       "      <td>0</td>\n",
       "      <td>married</td>\n",
       "      <td>0</td>\n",
       "      <td>F</td>\n",
       "      <td>employee</td>\n",
       "      <td>0</td>\n",
       "      <td>40620.102</td>\n",
       "      <td>purchase of the house</td>\n",
       "    </tr>\n",
       "    <tr>\n",
       "      <th>1</th>\n",
       "      <td>1</td>\n",
       "      <td>-4024.803754</td>\n",
       "      <td>36</td>\n",
       "      <td>secondary education</td>\n",
       "      <td>1</td>\n",
       "      <td>married</td>\n",
       "      <td>0</td>\n",
       "      <td>F</td>\n",
       "      <td>employee</td>\n",
       "      <td>0</td>\n",
       "      <td>17932.802</td>\n",
       "      <td>car purchase</td>\n",
       "    </tr>\n",
       "    <tr>\n",
       "      <th>2</th>\n",
       "      <td>0</td>\n",
       "      <td>-5623.422610</td>\n",
       "      <td>33</td>\n",
       "      <td>Secondary Education</td>\n",
       "      <td>1</td>\n",
       "      <td>married</td>\n",
       "      <td>0</td>\n",
       "      <td>M</td>\n",
       "      <td>employee</td>\n",
       "      <td>0</td>\n",
       "      <td>23341.752</td>\n",
       "      <td>purchase of the house</td>\n",
       "    </tr>\n",
       "    <tr>\n",
       "      <th>3</th>\n",
       "      <td>3</td>\n",
       "      <td>-4124.747207</td>\n",
       "      <td>32</td>\n",
       "      <td>secondary education</td>\n",
       "      <td>1</td>\n",
       "      <td>married</td>\n",
       "      <td>0</td>\n",
       "      <td>M</td>\n",
       "      <td>employee</td>\n",
       "      <td>0</td>\n",
       "      <td>42820.568</td>\n",
       "      <td>supplementary education</td>\n",
       "    </tr>\n",
       "    <tr>\n",
       "      <th>4</th>\n",
       "      <td>0</td>\n",
       "      <td>340266.072047</td>\n",
       "      <td>53</td>\n",
       "      <td>secondary education</td>\n",
       "      <td>1</td>\n",
       "      <td>civil partnership</td>\n",
       "      <td>1</td>\n",
       "      <td>F</td>\n",
       "      <td>retiree</td>\n",
       "      <td>0</td>\n",
       "      <td>25378.572</td>\n",
       "      <td>to have a wedding</td>\n",
       "    </tr>\n",
       "    <tr>\n",
       "      <th>...</th>\n",
       "      <td>...</td>\n",
       "      <td>...</td>\n",
       "      <td>...</td>\n",
       "      <td>...</td>\n",
       "      <td>...</td>\n",
       "      <td>...</td>\n",
       "      <td>...</td>\n",
       "      <td>...</td>\n",
       "      <td>...</td>\n",
       "      <td>...</td>\n",
       "      <td>...</td>\n",
       "      <td>...</td>\n",
       "    </tr>\n",
       "    <tr>\n",
       "      <th>21520</th>\n",
       "      <td>1</td>\n",
       "      <td>-4529.316663</td>\n",
       "      <td>43</td>\n",
       "      <td>secondary education</td>\n",
       "      <td>1</td>\n",
       "      <td>civil partnership</td>\n",
       "      <td>1</td>\n",
       "      <td>F</td>\n",
       "      <td>business</td>\n",
       "      <td>0</td>\n",
       "      <td>35966.698</td>\n",
       "      <td>housing transactions</td>\n",
       "    </tr>\n",
       "    <tr>\n",
       "      <th>21521</th>\n",
       "      <td>0</td>\n",
       "      <td>343937.404131</td>\n",
       "      <td>67</td>\n",
       "      <td>secondary education</td>\n",
       "      <td>1</td>\n",
       "      <td>married</td>\n",
       "      <td>0</td>\n",
       "      <td>F</td>\n",
       "      <td>retiree</td>\n",
       "      <td>0</td>\n",
       "      <td>24959.969</td>\n",
       "      <td>purchase of a car</td>\n",
       "    </tr>\n",
       "    <tr>\n",
       "      <th>21522</th>\n",
       "      <td>1</td>\n",
       "      <td>-2113.346888</td>\n",
       "      <td>38</td>\n",
       "      <td>secondary education</td>\n",
       "      <td>1</td>\n",
       "      <td>civil partnership</td>\n",
       "      <td>1</td>\n",
       "      <td>M</td>\n",
       "      <td>employee</td>\n",
       "      <td>1</td>\n",
       "      <td>14347.610</td>\n",
       "      <td>property</td>\n",
       "    </tr>\n",
       "    <tr>\n",
       "      <th>21523</th>\n",
       "      <td>3</td>\n",
       "      <td>-3112.481705</td>\n",
       "      <td>38</td>\n",
       "      <td>secondary education</td>\n",
       "      <td>1</td>\n",
       "      <td>married</td>\n",
       "      <td>0</td>\n",
       "      <td>M</td>\n",
       "      <td>employee</td>\n",
       "      <td>1</td>\n",
       "      <td>39054.888</td>\n",
       "      <td>buying my own car</td>\n",
       "    </tr>\n",
       "    <tr>\n",
       "      <th>21524</th>\n",
       "      <td>2</td>\n",
       "      <td>-1984.507589</td>\n",
       "      <td>40</td>\n",
       "      <td>secondary education</td>\n",
       "      <td>1</td>\n",
       "      <td>married</td>\n",
       "      <td>0</td>\n",
       "      <td>F</td>\n",
       "      <td>employee</td>\n",
       "      <td>0</td>\n",
       "      <td>13127.587</td>\n",
       "      <td>to buy a car</td>\n",
       "    </tr>\n",
       "  </tbody>\n",
       "</table>\n",
       "<p>21525 rows × 12 columns</p>\n",
       "</div>"
      ],
      "text/plain": [
       "       children  days_employed  dob_years            education  education_id  \\\n",
       "0             1   -8437.673028         42    bachelor's degree             0   \n",
       "1             1   -4024.803754         36  secondary education             1   \n",
       "2             0   -5623.422610         33  Secondary Education             1   \n",
       "3             3   -4124.747207         32  secondary education             1   \n",
       "4             0  340266.072047         53  secondary education             1   \n",
       "...         ...            ...        ...                  ...           ...   \n",
       "21520         1   -4529.316663         43  secondary education             1   \n",
       "21521         0  343937.404131         67  secondary education             1   \n",
       "21522         1   -2113.346888         38  secondary education             1   \n",
       "21523         3   -3112.481705         38  secondary education             1   \n",
       "21524         2   -1984.507589         40  secondary education             1   \n",
       "\n",
       "           family_status  family_status_id gender income_type  debt  \\\n",
       "0                married                 0      F    employee     0   \n",
       "1                married                 0      F    employee     0   \n",
       "2                married                 0      M    employee     0   \n",
       "3                married                 0      M    employee     0   \n",
       "4      civil partnership                 1      F     retiree     0   \n",
       "...                  ...               ...    ...         ...   ...   \n",
       "21520  civil partnership                 1      F    business     0   \n",
       "21521            married                 0      F     retiree     0   \n",
       "21522  civil partnership                 1      M    employee     1   \n",
       "21523            married                 0      M    employee     1   \n",
       "21524            married                 0      F    employee     0   \n",
       "\n",
       "       total_income                  purpose  \n",
       "0         40620.102    purchase of the house  \n",
       "1         17932.802             car purchase  \n",
       "2         23341.752    purchase of the house  \n",
       "3         42820.568  supplementary education  \n",
       "4         25378.572        to have a wedding  \n",
       "...             ...                      ...  \n",
       "21520     35966.698     housing transactions  \n",
       "21521     24959.969        purchase of a car  \n",
       "21522     14347.610                 property  \n",
       "21523     39054.888        buying my own car  \n",
       "21524     13127.587             to buy a car  \n",
       "\n",
       "[21525 rows x 12 columns]"
      ]
     },
     "execution_count": 3,
     "metadata": {},
     "output_type": "execute_result"
    }
   ],
   "source": [
    "credit_proyect"
   ]
  },
  {
   "cell_type": "markdown",
   "metadata": {},
   "source": [
    "## Ejercicio 1. Exploración de datos\n",
    "\n",
    "**Descripción de los datos**\n",
    "- `children` - el número de hijos en la familia\n",
    "- `days_employed` - experiencia laboral en días\n",
    "- `dob_years` - la edad del cliente en años\n",
    "- `education` - la educación del cliente\n",
    "- `education_id` - identificador de educación\n",
    "- `family_status` - estado civil\n",
    "- `family_status_id` - identificador de estado civil\n",
    "- `gender` - género del cliente\n",
    "- `income_type` - tipo de empleo\n",
    "- `debt` - ¿había alguna deuda en el pago de un préstamo?\n",
    "- `total_income` - ingreso mensual\n",
    "- `purpose` - el propósito de obtener un préstamo\n",
    "\n",
    "[Ahora vamos a explorar nuestros datos. Querrás ver cuántas columnas y filas hay, observa algunas filas para identificar posibles problemas con los datos.]"
   ]
  },
  {
   "cell_type": "code",
   "execution_count": 4,
   "metadata": {},
   "outputs": [
    {
     "data": {
      "text/plain": [
       "(21525, 12)"
      ]
     },
     "execution_count": 4,
     "metadata": {},
     "output_type": "execute_result"
    }
   ],
   "source": [
    "credit_proyect.shape# Vamos a ver cuántas filas y columnas tiene nuestro conjunto de datos\n",
    "\n"
   ]
  },
  {
   "cell_type": "code",
   "execution_count": 5,
   "metadata": {
    "scrolled": true
   },
   "outputs": [
    {
     "data": {
      "text/html": [
       "<div>\n",
       "<style scoped>\n",
       "    .dataframe tbody tr th:only-of-type {\n",
       "        vertical-align: middle;\n",
       "    }\n",
       "\n",
       "    .dataframe tbody tr th {\n",
       "        vertical-align: top;\n",
       "    }\n",
       "\n",
       "    .dataframe thead th {\n",
       "        text-align: right;\n",
       "    }\n",
       "</style>\n",
       "<table border=\"1\" class=\"dataframe\">\n",
       "  <thead>\n",
       "    <tr style=\"text-align: right;\">\n",
       "      <th></th>\n",
       "      <th>children</th>\n",
       "      <th>days_employed</th>\n",
       "      <th>dob_years</th>\n",
       "      <th>education</th>\n",
       "      <th>education_id</th>\n",
       "      <th>family_status</th>\n",
       "      <th>family_status_id</th>\n",
       "      <th>gender</th>\n",
       "      <th>income_type</th>\n",
       "      <th>debt</th>\n",
       "      <th>total_income</th>\n",
       "      <th>purpose</th>\n",
       "    </tr>\n",
       "  </thead>\n",
       "  <tbody>\n",
       "    <tr>\n",
       "      <th>0</th>\n",
       "      <td>1</td>\n",
       "      <td>-8437.673028</td>\n",
       "      <td>42</td>\n",
       "      <td>bachelor's degree</td>\n",
       "      <td>0</td>\n",
       "      <td>married</td>\n",
       "      <td>0</td>\n",
       "      <td>F</td>\n",
       "      <td>employee</td>\n",
       "      <td>0</td>\n",
       "      <td>40620.102</td>\n",
       "      <td>purchase of the house</td>\n",
       "    </tr>\n",
       "    <tr>\n",
       "      <th>1</th>\n",
       "      <td>1</td>\n",
       "      <td>-4024.803754</td>\n",
       "      <td>36</td>\n",
       "      <td>secondary education</td>\n",
       "      <td>1</td>\n",
       "      <td>married</td>\n",
       "      <td>0</td>\n",
       "      <td>F</td>\n",
       "      <td>employee</td>\n",
       "      <td>0</td>\n",
       "      <td>17932.802</td>\n",
       "      <td>car purchase</td>\n",
       "    </tr>\n",
       "    <tr>\n",
       "      <th>2</th>\n",
       "      <td>0</td>\n",
       "      <td>-5623.422610</td>\n",
       "      <td>33</td>\n",
       "      <td>Secondary Education</td>\n",
       "      <td>1</td>\n",
       "      <td>married</td>\n",
       "      <td>0</td>\n",
       "      <td>M</td>\n",
       "      <td>employee</td>\n",
       "      <td>0</td>\n",
       "      <td>23341.752</td>\n",
       "      <td>purchase of the house</td>\n",
       "    </tr>\n",
       "    <tr>\n",
       "      <th>3</th>\n",
       "      <td>3</td>\n",
       "      <td>-4124.747207</td>\n",
       "      <td>32</td>\n",
       "      <td>secondary education</td>\n",
       "      <td>1</td>\n",
       "      <td>married</td>\n",
       "      <td>0</td>\n",
       "      <td>M</td>\n",
       "      <td>employee</td>\n",
       "      <td>0</td>\n",
       "      <td>42820.568</td>\n",
       "      <td>supplementary education</td>\n",
       "    </tr>\n",
       "    <tr>\n",
       "      <th>4</th>\n",
       "      <td>0</td>\n",
       "      <td>340266.072047</td>\n",
       "      <td>53</td>\n",
       "      <td>secondary education</td>\n",
       "      <td>1</td>\n",
       "      <td>civil partnership</td>\n",
       "      <td>1</td>\n",
       "      <td>F</td>\n",
       "      <td>retiree</td>\n",
       "      <td>0</td>\n",
       "      <td>25378.572</td>\n",
       "      <td>to have a wedding</td>\n",
       "    </tr>\n",
       "  </tbody>\n",
       "</table>\n",
       "</div>"
      ],
      "text/plain": [
       "   children  days_employed  dob_years            education  education_id  \\\n",
       "0         1   -8437.673028         42    bachelor's degree             0   \n",
       "1         1   -4024.803754         36  secondary education             1   \n",
       "2         0   -5623.422610         33  Secondary Education             1   \n",
       "3         3   -4124.747207         32  secondary education             1   \n",
       "4         0  340266.072047         53  secondary education             1   \n",
       "\n",
       "       family_status  family_status_id gender income_type  debt  total_income  \\\n",
       "0            married                 0      F    employee     0     40620.102   \n",
       "1            married                 0      F    employee     0     17932.802   \n",
       "2            married                 0      M    employee     0     23341.752   \n",
       "3            married                 0      M    employee     0     42820.568   \n",
       "4  civil partnership                 1      F     retiree     0     25378.572   \n",
       "\n",
       "                   purpose  \n",
       "0    purchase of the house  \n",
       "1             car purchase  \n",
       "2    purchase of the house  \n",
       "3  supplementary education  \n",
       "4        to have a wedding  "
      ]
     },
     "execution_count": 5,
     "metadata": {},
     "output_type": "execute_result"
    }
   ],
   "source": [
    "credit_proyect.head()# vamos a mostrar las primeras filas N\n",
    "\n"
   ]
  },
  {
   "cell_type": "markdown",
   "metadata": {},
   "source": [
    "[Describe lo que ves y notas en tu muestra de datos mostrada en la pantalla. ¿Existe algún problema que pueda necesitar investigación y cambios adicionales?]\n",
    "- Días de experiencia laboral en negativo.\n",
    "- Columna education tiene valores en mayúscula"
   ]
  },
  {
   "cell_type": "code",
   "execution_count": 6,
   "metadata": {
    "scrolled": false
   },
   "outputs": [
    {
     "name": "stdout",
     "output_type": "stream",
     "text": [
      "<class 'pandas.core.frame.DataFrame'>\n",
      "RangeIndex: 21525 entries, 0 to 21524\n",
      "Data columns (total 12 columns):\n",
      " #   Column            Non-Null Count  Dtype  \n",
      "---  ------            --------------  -----  \n",
      " 0   children          21525 non-null  int64  \n",
      " 1   days_employed     19351 non-null  float64\n",
      " 2   dob_years         21525 non-null  int64  \n",
      " 3   education         21525 non-null  object \n",
      " 4   education_id      21525 non-null  int64  \n",
      " 5   family_status     21525 non-null  object \n",
      " 6   family_status_id  21525 non-null  int64  \n",
      " 7   gender            21525 non-null  object \n",
      " 8   income_type       21525 non-null  object \n",
      " 9   debt              21525 non-null  int64  \n",
      " 10  total_income      19351 non-null  float64\n",
      " 11  purpose           21525 non-null  object \n",
      "dtypes: float64(2), int64(5), object(5)\n",
      "memory usage: 2.0+ MB\n"
     ]
    }
   ],
   "source": [
    "credit_proyect.info()# Obtener información sobre los datos\n"
   ]
  },
  {
   "cell_type": "markdown",
   "metadata": {},
   "source": [
    "[¿Hay valores ausentes en todas las columnas o solo en algunas? Describe brevemente lo que ves en 1 o 2 oraciones.]\n",
    "- Existen valores ausentes en columnas days_employed y columna total_income.\n",
    "- Ambas columnas tienen la misma cantidad de información ausente."
   ]
  },
  {
   "cell_type": "code",
   "execution_count": 7,
   "metadata": {
    "scrolled": false
   },
   "outputs": [
    {
     "data": {
      "text/html": [
       "<div>\n",
       "<style scoped>\n",
       "    .dataframe tbody tr th:only-of-type {\n",
       "        vertical-align: middle;\n",
       "    }\n",
       "\n",
       "    .dataframe tbody tr th {\n",
       "        vertical-align: top;\n",
       "    }\n",
       "\n",
       "    .dataframe thead th {\n",
       "        text-align: right;\n",
       "    }\n",
       "</style>\n",
       "<table border=\"1\" class=\"dataframe\">\n",
       "  <thead>\n",
       "    <tr style=\"text-align: right;\">\n",
       "      <th></th>\n",
       "      <th>children</th>\n",
       "      <th>days_employed</th>\n",
       "      <th>dob_years</th>\n",
       "      <th>education</th>\n",
       "      <th>education_id</th>\n",
       "      <th>family_status</th>\n",
       "      <th>family_status_id</th>\n",
       "      <th>gender</th>\n",
       "      <th>income_type</th>\n",
       "      <th>debt</th>\n",
       "      <th>total_income</th>\n",
       "      <th>purpose</th>\n",
       "    </tr>\n",
       "  </thead>\n",
       "  <tbody>\n",
       "    <tr>\n",
       "      <th>12</th>\n",
       "      <td>0</td>\n",
       "      <td>NaN</td>\n",
       "      <td>65</td>\n",
       "      <td>secondary education</td>\n",
       "      <td>1</td>\n",
       "      <td>civil partnership</td>\n",
       "      <td>1</td>\n",
       "      <td>M</td>\n",
       "      <td>retiree</td>\n",
       "      <td>0</td>\n",
       "      <td>NaN</td>\n",
       "      <td>to have a wedding</td>\n",
       "    </tr>\n",
       "    <tr>\n",
       "      <th>26</th>\n",
       "      <td>0</td>\n",
       "      <td>NaN</td>\n",
       "      <td>41</td>\n",
       "      <td>secondary education</td>\n",
       "      <td>1</td>\n",
       "      <td>married</td>\n",
       "      <td>0</td>\n",
       "      <td>M</td>\n",
       "      <td>civil servant</td>\n",
       "      <td>0</td>\n",
       "      <td>NaN</td>\n",
       "      <td>education</td>\n",
       "    </tr>\n",
       "    <tr>\n",
       "      <th>29</th>\n",
       "      <td>0</td>\n",
       "      <td>NaN</td>\n",
       "      <td>63</td>\n",
       "      <td>secondary education</td>\n",
       "      <td>1</td>\n",
       "      <td>unmarried</td>\n",
       "      <td>4</td>\n",
       "      <td>F</td>\n",
       "      <td>retiree</td>\n",
       "      <td>0</td>\n",
       "      <td>NaN</td>\n",
       "      <td>building a real estate</td>\n",
       "    </tr>\n",
       "    <tr>\n",
       "      <th>41</th>\n",
       "      <td>0</td>\n",
       "      <td>NaN</td>\n",
       "      <td>50</td>\n",
       "      <td>secondary education</td>\n",
       "      <td>1</td>\n",
       "      <td>married</td>\n",
       "      <td>0</td>\n",
       "      <td>F</td>\n",
       "      <td>civil servant</td>\n",
       "      <td>0</td>\n",
       "      <td>NaN</td>\n",
       "      <td>second-hand car purchase</td>\n",
       "    </tr>\n",
       "    <tr>\n",
       "      <th>55</th>\n",
       "      <td>0</td>\n",
       "      <td>NaN</td>\n",
       "      <td>54</td>\n",
       "      <td>secondary education</td>\n",
       "      <td>1</td>\n",
       "      <td>civil partnership</td>\n",
       "      <td>1</td>\n",
       "      <td>F</td>\n",
       "      <td>retiree</td>\n",
       "      <td>1</td>\n",
       "      <td>NaN</td>\n",
       "      <td>to have a wedding</td>\n",
       "    </tr>\n",
       "    <tr>\n",
       "      <th>...</th>\n",
       "      <td>...</td>\n",
       "      <td>...</td>\n",
       "      <td>...</td>\n",
       "      <td>...</td>\n",
       "      <td>...</td>\n",
       "      <td>...</td>\n",
       "      <td>...</td>\n",
       "      <td>...</td>\n",
       "      <td>...</td>\n",
       "      <td>...</td>\n",
       "      <td>...</td>\n",
       "      <td>...</td>\n",
       "    </tr>\n",
       "    <tr>\n",
       "      <th>21489</th>\n",
       "      <td>2</td>\n",
       "      <td>NaN</td>\n",
       "      <td>47</td>\n",
       "      <td>Secondary Education</td>\n",
       "      <td>1</td>\n",
       "      <td>married</td>\n",
       "      <td>0</td>\n",
       "      <td>M</td>\n",
       "      <td>business</td>\n",
       "      <td>0</td>\n",
       "      <td>NaN</td>\n",
       "      <td>purchase of a car</td>\n",
       "    </tr>\n",
       "    <tr>\n",
       "      <th>21495</th>\n",
       "      <td>1</td>\n",
       "      <td>NaN</td>\n",
       "      <td>50</td>\n",
       "      <td>secondary education</td>\n",
       "      <td>1</td>\n",
       "      <td>civil partnership</td>\n",
       "      <td>1</td>\n",
       "      <td>F</td>\n",
       "      <td>employee</td>\n",
       "      <td>0</td>\n",
       "      <td>NaN</td>\n",
       "      <td>wedding ceremony</td>\n",
       "    </tr>\n",
       "    <tr>\n",
       "      <th>21497</th>\n",
       "      <td>0</td>\n",
       "      <td>NaN</td>\n",
       "      <td>48</td>\n",
       "      <td>BACHELOR'S DEGREE</td>\n",
       "      <td>0</td>\n",
       "      <td>married</td>\n",
       "      <td>0</td>\n",
       "      <td>F</td>\n",
       "      <td>business</td>\n",
       "      <td>0</td>\n",
       "      <td>NaN</td>\n",
       "      <td>building a property</td>\n",
       "    </tr>\n",
       "    <tr>\n",
       "      <th>21502</th>\n",
       "      <td>1</td>\n",
       "      <td>NaN</td>\n",
       "      <td>42</td>\n",
       "      <td>secondary education</td>\n",
       "      <td>1</td>\n",
       "      <td>married</td>\n",
       "      <td>0</td>\n",
       "      <td>F</td>\n",
       "      <td>employee</td>\n",
       "      <td>0</td>\n",
       "      <td>NaN</td>\n",
       "      <td>building a real estate</td>\n",
       "    </tr>\n",
       "    <tr>\n",
       "      <th>21510</th>\n",
       "      <td>2</td>\n",
       "      <td>NaN</td>\n",
       "      <td>28</td>\n",
       "      <td>secondary education</td>\n",
       "      <td>1</td>\n",
       "      <td>married</td>\n",
       "      <td>0</td>\n",
       "      <td>F</td>\n",
       "      <td>employee</td>\n",
       "      <td>0</td>\n",
       "      <td>NaN</td>\n",
       "      <td>car purchase</td>\n",
       "    </tr>\n",
       "  </tbody>\n",
       "</table>\n",
       "<p>2174 rows × 12 columns</p>\n",
       "</div>"
      ],
      "text/plain": [
       "       children  days_employed  dob_years            education  education_id  \\\n",
       "12            0            NaN         65  secondary education             1   \n",
       "26            0            NaN         41  secondary education             1   \n",
       "29            0            NaN         63  secondary education             1   \n",
       "41            0            NaN         50  secondary education             1   \n",
       "55            0            NaN         54  secondary education             1   \n",
       "...         ...            ...        ...                  ...           ...   \n",
       "21489         2            NaN         47  Secondary Education             1   \n",
       "21495         1            NaN         50  secondary education             1   \n",
       "21497         0            NaN         48    BACHELOR'S DEGREE             0   \n",
       "21502         1            NaN         42  secondary education             1   \n",
       "21510         2            NaN         28  secondary education             1   \n",
       "\n",
       "           family_status  family_status_id gender    income_type  debt  \\\n",
       "12     civil partnership                 1      M        retiree     0   \n",
       "26               married                 0      M  civil servant     0   \n",
       "29             unmarried                 4      F        retiree     0   \n",
       "41               married                 0      F  civil servant     0   \n",
       "55     civil partnership                 1      F        retiree     1   \n",
       "...                  ...               ...    ...            ...   ...   \n",
       "21489            married                 0      M       business     0   \n",
       "21495  civil partnership                 1      F       employee     0   \n",
       "21497            married                 0      F       business     0   \n",
       "21502            married                 0      F       employee     0   \n",
       "21510            married                 0      F       employee     0   \n",
       "\n",
       "       total_income                   purpose  \n",
       "12              NaN         to have a wedding  \n",
       "26              NaN                 education  \n",
       "29              NaN    building a real estate  \n",
       "41              NaN  second-hand car purchase  \n",
       "55              NaN         to have a wedding  \n",
       "...             ...                       ...  \n",
       "21489           NaN         purchase of a car  \n",
       "21495           NaN          wedding ceremony  \n",
       "21497           NaN       building a property  \n",
       "21502           NaN    building a real estate  \n",
       "21510           NaN              car purchase  \n",
       "\n",
       "[2174 rows x 12 columns]"
      ]
     },
     "execution_count": 7,
     "metadata": {},
     "output_type": "execute_result"
    }
   ],
   "source": [
    "# Veamos la tabla filtrada con valores ausentes de la primera columna donde faltan datos\n",
    "credit_proyect_filtered = credit_proyect[credit_proyect[\"days_employed\"].isnull()]\n",
    "credit_proyect_filtered"
   ]
  },
  {
   "cell_type": "markdown",
   "metadata": {},
   "source": [
    "[¿Los valores ausentes parecen simétricos? ¿Podemos estar seguros de esta suposición? Explica brevemente tus pensamientos en esta sección. Probablemente desees realizar investigaciones adicionales y contar los valores ausentes en todas las filas con valores ausentes para confirmar que las muestras que faltan son del mismo tamaño.]\n",
    "- Al parecer los valores ausentes son simétricos en las columnas \"days_employed\" y \"total_income\""
   ]
  },
  {
   "cell_type": "code",
   "execution_count": 8,
   "metadata": {},
   "outputs": [
    {
     "name": "stdout",
     "output_type": "stream",
     "text": [
      " tenemos un total de 2174 valores ausentes\n"
     ]
    }
   ],
   "source": [
    "# Apliquemos múltiples condiciones para filtrar datos y veamos el número de filas en la tabla filtrada.\n",
    "credit_proyect_filtered = credit_proyect[(credit_proyect[\"days_employed\"].isnull()) & (credit_proyect[\"total_income\"].isnull())]\n",
    "print(f\" tenemos un total de {len(credit_proyect_filtered)} valores ausentes\")"
   ]
  },
  {
   "cell_type": "code",
   "execution_count": 9,
   "metadata": {},
   "outputs": [
    {
     "name": "stdout",
     "output_type": "stream",
     "text": [
      " tenemos un total de 21525 valores\n"
     ]
    }
   ],
   "source": [
    "print(f\" tenemos un total de {len(credit_proyect)} valores\")"
   ]
  },
  {
   "cell_type": "code",
   "execution_count": 10,
   "metadata": {},
   "outputs": [
    {
     "name": "stdout",
     "output_type": "stream",
     "text": [
      " los valores ausentes son un 10.1% de los datos totales\n"
     ]
    }
   ],
   "source": [
    "porcentaje_ausentes = round(len(credit_proyect_filtered) / len(credit_proyect) * 100,2)\n",
    "print(f\" los valores ausentes son un {porcentaje_ausentes}% de los datos totales\")"
   ]
  },
  {
   "cell_type": "markdown",
   "metadata": {},
   "source": [
    "**Conclusión intermedia**\n",
    "\n",
    "[¿El número de filas en la tabla filtrada coincide con el número de valores ausentes? ¿Qué conclusión podemos sacar de esto?]\n",
    "\n",
    "[Calcula el porcentaje de los valores ausentes en comparación con el conjunto de datos completo. ¿Se trata de una porción de datos considerablemente grande? Si es así, es posible que quieras completar los valores ausentes. Para hacer eso, primero debemos definir si los datos ausentes podrían deberse a la característica específica del cliente, como el tipo de empleo u otra cosa. Tendrás que decidir qué característica, según *tú*, podría ser la razón. En segundo lugar, debemos verificar si los valores ausentes dependen de alguna manera del valor de otros indicadores con las columnas con características de clientes, específicas e identificadas.]\n",
    "\n",
    "[Explica tus próximos pasos y cómo se correlacionan con las conclusiones que has hecho hasta ahora.]"
   ]
  },
  {
   "cell_type": "markdown",
   "metadata": {},
   "source": [
    "- El número de filas coincide con los valores ausentes.\n",
    "- Dado el porcentaje de ausentes en relación a los datos totales, no puedo concluir si son muchos o pocos aún."
   ]
  },
  {
   "cell_type": "markdown",
   "metadata": {},
   "source": [
    "Crearemos una tabla limpia, sin datos ausentes, para ver la relación con la columna \"education_id\", y ver la distribución de chicha columna, para ver si encontramos datos que nos explique un poco los datos ausentes"
   ]
  },
  {
   "cell_type": "code",
   "execution_count": 11,
   "metadata": {},
   "outputs": [
    {
     "name": "stdout",
     "output_type": "stream",
     "text": [
      "       children  days_employed  dob_years            education  education_id  \\\n",
      "0             1   -8437.673028         42    bachelor's degree             0   \n",
      "1             1   -4024.803754         36  secondary education             1   \n",
      "2             0   -5623.422610         33  Secondary Education             1   \n",
      "3             3   -4124.747207         32  secondary education             1   \n",
      "4             0  340266.072047         53  secondary education             1   \n",
      "...         ...            ...        ...                  ...           ...   \n",
      "21520         1   -4529.316663         43  secondary education             1   \n",
      "21521         0  343937.404131         67  secondary education             1   \n",
      "21522         1   -2113.346888         38  secondary education             1   \n",
      "21523         3   -3112.481705         38  secondary education             1   \n",
      "21524         2   -1984.507589         40  secondary education             1   \n",
      "\n",
      "           family_status  family_status_id gender income_type  debt  \\\n",
      "0                married                 0      F    employee     0   \n",
      "1                married                 0      F    employee     0   \n",
      "2                married                 0      M    employee     0   \n",
      "3                married                 0      M    employee     0   \n",
      "4      civil partnership                 1      F     retiree     0   \n",
      "...                  ...               ...    ...         ...   ...   \n",
      "21520  civil partnership                 1      F    business     0   \n",
      "21521            married                 0      F     retiree     0   \n",
      "21522  civil partnership                 1      M    employee     1   \n",
      "21523            married                 0      M    employee     1   \n",
      "21524            married                 0      F    employee     0   \n",
      "\n",
      "       total_income                  purpose  \n",
      "0         40620.102    purchase of the house  \n",
      "1         17932.802             car purchase  \n",
      "2         23341.752    purchase of the house  \n",
      "3         42820.568  supplementary education  \n",
      "4         25378.572        to have a wedding  \n",
      "...             ...                      ...  \n",
      "21520     35966.698     housing transactions  \n",
      "21521     24959.969        purchase of a car  \n",
      "21522     14347.610                 property  \n",
      "21523     39054.888        buying my own car  \n",
      "21524     13127.587             to buy a car  \n",
      "\n",
      "[19351 rows x 12 columns]\n"
     ]
    }
   ],
   "source": [
    "# limpiar información\n",
    "credit_proyect_clean = credit_proyect.dropna()\n",
    "print(credit_proyect_clean)"
   ]
  },
  {
   "cell_type": "code",
   "execution_count": 12,
   "metadata": {},
   "outputs": [
    {
     "name": "stdout",
     "output_type": "stream",
     "text": [
      "<class 'pandas.core.frame.DataFrame'>\n",
      "Int64Index: 19351 entries, 0 to 21524\n",
      "Data columns (total 12 columns):\n",
      " #   Column            Non-Null Count  Dtype  \n",
      "---  ------            --------------  -----  \n",
      " 0   children          19351 non-null  int64  \n",
      " 1   days_employed     19351 non-null  float64\n",
      " 2   dob_years         19351 non-null  int64  \n",
      " 3   education         19351 non-null  object \n",
      " 4   education_id      19351 non-null  int64  \n",
      " 5   family_status     19351 non-null  object \n",
      " 6   family_status_id  19351 non-null  int64  \n",
      " 7   gender            19351 non-null  object \n",
      " 8   income_type       19351 non-null  object \n",
      " 9   debt              19351 non-null  int64  \n",
      " 10  total_income      19351 non-null  float64\n",
      " 11  purpose           19351 non-null  object \n",
      "dtypes: float64(2), int64(5), object(5)\n",
      "memory usage: 1.9+ MB\n"
     ]
    }
   ],
   "source": [
    "# comprobar que se limpiaron los datos\n",
    "credit_proyect_clean.info()"
   ]
  },
  {
   "cell_type": "code",
   "execution_count": 13,
   "metadata": {},
   "outputs": [
    {
     "name": "stdout",
     "output_type": "stream",
     "text": [
      "los valores con datos limpios\n",
      "1    13693\n",
      "0     4716\n",
      "2      675\n",
      "3      261\n",
      "4        6\n",
      "Name: education_id, dtype: int64\n",
      "-----\n",
      "los valores con datos ausentes\n",
      "1    1540\n",
      "0     544\n",
      "2      69\n",
      "3      21\n",
      "Name: education_id, dtype: int64\n"
     ]
    }
   ],
   "source": [
    "# Vamos a investigar a los clientes que no tienen datos sobre la característica identificada y la columna con los valores ausentes\n",
    "variable_ed = \"education_id\"\n",
    "\n",
    "serie_clean = credit_proyect_clean[variable_ed]\n",
    "serie_filtered = credit_proyect_filtered[variable_ed]\n",
    "\n",
    "print(\"los valores con datos limpios\")\n",
    "print(serie_clean.value_counts())\n",
    "print(\"-----\")\n",
    "print(\"los valores con datos ausentes\")\n",
    "print(serie_filtered.value_counts())"
   ]
  },
  {
   "cell_type": "code",
   "execution_count": 14,
   "metadata": {},
   "outputs": [
    {
     "name": "stdout",
     "output_type": "stream",
     "text": [
      "distribucion de los valores completos\n",
      "1    70.76\n",
      "0    24.37\n",
      "2     3.49\n",
      "3     1.35\n",
      "4     0.03\n",
      "Name: education_id, dtype: float64\n",
      "-----\n",
      "distribucion de los valores ausentes\n",
      "1    70.84\n",
      "0    25.02\n",
      "2     3.17\n",
      "3     0.97\n",
      "Name: education_id, dtype: float64\n"
     ]
    }
   ],
   "source": [
    "# Comprobación de la distribución\n",
    "p_serie_clean = len(serie_clean)\n",
    "p_serie_filtered = len(serie_filtered)\n",
    "\n",
    "print(\"distribucion de los valores completos\")\n",
    "print(round(serie_clean.value_counts() / p_serie_clean *100,2))\n",
    "print(\"-----\")\n",
    "print(\"distribucion de los valores ausentes\")\n",
    "print(round(serie_filtered.value_counts() / p_serie_filtered * 100,2))"
   ]
  },
  {
   "cell_type": "markdown",
   "metadata": {},
   "source": [
    "Describe aquí tus hallazgos.]\n",
    "- No existe mucha diferencia, por lo que este método no comprueba la correlación.\n",
    "\n",
    "**Posibles razones por las que hay valores ausentes en los datos**\n",
    "\n",
    "[Propón tus ideas sobre por qué crees que los valores pueden estar ausentes. ¿Crees que están ausentes al azar o hay algún patrón?]\n",
    "\n",
    "[Empecemos a comprobar si los valores ausentes son aleatorios.]\n",
    "- Según lo que pienso, es que hubieron personas que no quisieron facilitar los datos con respecto a días trabajados y el total de sueldo ganado."
   ]
  },
  {
   "cell_type": "code",
   "execution_count": 15,
   "metadata": {},
   "outputs": [
    {
     "name": "stdout",
     "output_type": "stream",
     "text": [
      "Datos enteros\n",
      "           children  days_employed     dob_years  education_id  \\\n",
      "count  21525.000000   19351.000000  21525.000000  21525.000000   \n",
      "mean       0.538908   63046.497661     43.293380      0.817236   \n",
      "std        1.381587  140827.311974     12.574584      0.548138   \n",
      "min       -1.000000  -18388.949901      0.000000      0.000000   \n",
      "25%        0.000000   -2747.423625     33.000000      1.000000   \n",
      "50%        0.000000   -1203.369529     42.000000      1.000000   \n",
      "75%        1.000000    -291.095954     53.000000      1.000000   \n",
      "max       20.000000  401755.400475     75.000000      4.000000   \n",
      "\n",
      "       family_status_id          debt   total_income  \n",
      "count      21525.000000  21525.000000   19351.000000  \n",
      "mean           0.972544      0.080883   26787.568355  \n",
      "std            1.420324      0.272661   16475.450632  \n",
      "min            0.000000      0.000000    3306.762000  \n",
      "25%            0.000000      0.000000   16488.504500  \n",
      "50%            0.000000      0.000000   23202.870000  \n",
      "75%            1.000000      0.000000   32549.611000  \n",
      "max            4.000000      1.000000  362496.645000  \n",
      "-----\n",
      "Datos ausentes\n",
      "          children  days_employed    dob_years  education_id  \\\n",
      "count  2174.000000            0.0  2174.000000   2174.000000   \n",
      "mean      0.552438            NaN    43.632015      0.800828   \n",
      "std       1.469356            NaN    12.531481      0.530157   \n",
      "min      -1.000000            NaN     0.000000      0.000000   \n",
      "25%       0.000000            NaN    34.000000      0.250000   \n",
      "50%       0.000000            NaN    43.000000      1.000000   \n",
      "75%       1.000000            NaN    54.000000      1.000000   \n",
      "max      20.000000            NaN    73.000000      3.000000   \n",
      "\n",
      "       family_status_id         debt  total_income  \n",
      "count       2174.000000  2174.000000           0.0  \n",
      "mean           0.975161     0.078197           NaN  \n",
      "std            1.418220     0.268543           NaN  \n",
      "min            0.000000     0.000000           NaN  \n",
      "25%            0.000000     0.000000           NaN  \n",
      "50%            0.000000     0.000000           NaN  \n",
      "75%            1.000000     0.000000           NaN  \n",
      "max            4.000000     1.000000           NaN  \n"
     ]
    }
   ],
   "source": [
    "# Comprobando la distribución en el conjunto de datos entero\n",
    "print(\"Datos enteros\")\n",
    "print(credit_proyect.describe())\n",
    "print(\"-----\")\n",
    "print(\"Datos ausentes\")\n",
    "print(credit_proyect_filtered.describe())\n"
   ]
  },
  {
   "cell_type": "markdown",
   "metadata": {},
   "source": [
    "**Conclusión intermedia**\n",
    "\n",
    "[¿Es similar la distribución en el conjunto de datos original a la distribución de la tabla filtrada? ¿Qué significa eso para nosotros?]\n",
    "\n",
    "- La distribución en todas las columnas es muy parecida, con poca diferencia, por lo que aún no podemos llegar a una conclusión.\n",
    "\n",
    "[Si crees que aún no podemos llegar a ninguna conclusión, investiguemos más a fondo nuestro conjunto de datos. Pensemos en otras razones que podrían llevar a la ausencia de datos y verifiquemos si podemos encontrar algún patrón que nos haga pensar que los valores ausentes no son aleatorios. Ya que es tu trabajo, esta sección es opcional.]"
   ]
  },
  {
   "cell_type": "code",
   "execution_count": 16,
   "metadata": {},
   "outputs": [
    {
     "name": "stdout",
     "output_type": "stream",
     "text": [
      "datos ausentes de days_employed por genre\n",
      "F    1484\n",
      "M     690\n",
      "Name: gender, dtype: int64\n",
      "-----\n",
      "datos ausentes de total_income por genre\n",
      "F    1484\n",
      "M     690\n",
      "Name: gender, dtype: int64\n"
     ]
    }
   ],
   "source": [
    "# Comprueba otras razones y patrones que podrían llevar a valores ausentes\n",
    "print(\"datos ausentes de days_employed por genre\")\n",
    "print(credit_proyect[credit_proyect['days_employed'].isnull()]['gender'].value_counts())\n",
    "print(\"-----\")\n",
    "print('datos ausentes de total_income por genre')\n",
    "print(credit_proyect[credit_proyect['total_income'].isnull()]['gender'].value_counts())"
   ]
  },
  {
   "cell_type": "markdown",
   "metadata": {},
   "source": [
    "**Conclusión intermedia**\n",
    "\n",
    "[¿Podemos finalmente confirmar que los valores ausentes son accidentales? Verifica cualquier otra cosa que creas que podría ser importante aquí.]\n",
    "\n",
    "- El recuento de datos faltantes por género muestra que los datos no faltan al azar, es decir, falta el mismo número de personas de ambos sexos en las columnas de días_empleados e ingresos_totales."
   ]
  },
  {
   "cell_type": "code",
   "execution_count": 17,
   "metadata": {
    "scrolled": true
   },
   "outputs": [],
   "source": [
    "# Comprobación de otros patrones: explica cuáles\n"
   ]
  },
  {
   "cell_type": "markdown",
   "metadata": {},
   "source": [
    "**Conclusiones**\n",
    "\n",
    "[¿Encontraste algunos patrones? ¿Cómo llegaste a esta conclusión?]\n",
    "- **Según se puede observar en las tablas de ausentes y las tablas con datos completos, de clasificación cuantitativa, la distribución en todas las columnas es muy similar, por lo que se podría concluir que los datos ausentes estan de manera aleatoria.**\n",
    "\n",
    "\n",
    "[Explica cómo abordarás los valores ausentes. Ten en cuenta las categorías en las que faltan valores.]\n",
    "\n",
    "- **Podría concluir que los datos ausentes muestran un 10% de los datos, podría no influir al eliminarlos, pero quiero estar seguro de esto**\n",
    "\n",
    "\n",
    "\n",
    "\n",
    "[Planifica brevemente tus próximos pasos en la transformación de datos. Probablemente tendrás que abordar diferentes tipos de problemas: duplicados, diferentes registros, artefactos incorrectos y valores ausentes.]"
   ]
  },
  {
   "cell_type": "markdown",
   "metadata": {},
   "source": [
    "## Transformación de datos\n",
    "\n",
    "[Repasemos cada columna para ver qué problemas podemos tener en ellas.]\n",
    "\n",
    "[Comienza con la eliminación de duplicados y la corrección de la información educativa si es necesario.]"
   ]
  },
  {
   "cell_type": "code",
   "execution_count": 18,
   "metadata": {},
   "outputs": [
    {
     "data": {
      "text/plain": [
       "array([\"bachelor's degree\", 'secondary education', 'Secondary Education',\n",
       "       'SECONDARY EDUCATION', \"BACHELOR'S DEGREE\", 'some college',\n",
       "       'primary education', \"Bachelor's Degree\", 'SOME COLLEGE',\n",
       "       'Some College', 'PRIMARY EDUCATION', 'Primary Education',\n",
       "       'Graduate Degree', 'GRADUATE DEGREE', 'graduate degree'],\n",
       "      dtype=object)"
      ]
     },
     "execution_count": 18,
     "metadata": {},
     "output_type": "execute_result"
    }
   ],
   "source": [
    "# Veamos todos los valores en la columna de educación para verificar si será necesario corregir la ortografía y qué habrá que corregir exactamente\n",
    "credit_proyect[\"education\"].unique()"
   ]
  },
  {
   "cell_type": "code",
   "execution_count": 19,
   "metadata": {
    "scrolled": true
   },
   "outputs": [
    {
     "data": {
      "text/plain": [
       "secondary education    15233\n",
       "bachelor's degree       5260\n",
       "some college             744\n",
       "primary education        282\n",
       "graduate degree            6\n",
       "Name: education, dtype: int64"
      ]
     },
     "execution_count": 19,
     "metadata": {},
     "output_type": "execute_result"
    }
   ],
   "source": [
    "# Arregla los registros si es necesario\n",
    "credit_proyect['education'] = credit_proyect['education'].str.lower()\n",
    "credit_proyect['education'].value_counts().sort_values(ascending=False)"
   ]
  },
  {
   "cell_type": "code",
   "execution_count": 20,
   "metadata": {},
   "outputs": [
    {
     "data": {
      "text/plain": [
       "array([\"bachelor's degree\", 'secondary education', 'some college',\n",
       "       'primary education', 'graduate degree'], dtype=object)"
      ]
     },
     "execution_count": 20,
     "metadata": {},
     "output_type": "execute_result"
    }
   ],
   "source": [
    "# Comprobar todos los valores en la columna para asegurarnos de que los hayamos corregido\n",
    "credit_proyect['education'].unique()\n"
   ]
  },
  {
   "cell_type": "markdown",
   "metadata": {},
   "source": [
    "[Comprueba los datos de la columna `children`]"
   ]
  },
  {
   "cell_type": "code",
   "execution_count": 21,
   "metadata": {},
   "outputs": [
    {
     "data": {
      "text/plain": [
       "array([ 1,  0,  3,  2, -1,  4, 20,  5])"
      ]
     },
     "execution_count": 21,
     "metadata": {},
     "output_type": "execute_result"
    }
   ],
   "source": [
    "# Veamos la distribución de los valores en la columna `children`\n",
    "credit_proyect[\"children\"].unique()"
   ]
  },
  {
   "cell_type": "markdown",
   "metadata": {},
   "source": [
    "[¿Hay cosas extrañas en esta columna? Si es así, ¿cuál es el porcentaje de datos problemáticos? ¿Cómo es posible que hayan ocurrido? Toma una decisión sobre lo que harás con estos datos y explica tu razonamiento.]\n",
    "\n",
    "- Primero contabilizaremos la cantidad de personas en los datos extraños que existen en esta columna."
   ]
  },
  {
   "cell_type": "code",
   "execution_count": 22,
   "metadata": {},
   "outputs": [
    {
     "data": {
      "text/plain": [
       " 0     14149\n",
       " 1      4818\n",
       " 2      2055\n",
       " 3       330\n",
       " 20       76\n",
       "-1        47\n",
       " 4        41\n",
       " 5         9\n",
       "Name: children, dtype: int64"
      ]
     },
     "execution_count": 22,
     "metadata": {},
     "output_type": "execute_result"
    }
   ],
   "source": [
    "# [arregla los datos según tu decisión]\n",
    "credit_proyect[\"children\"].value_counts()\n"
   ]
  },
  {
   "cell_type": "markdown",
   "metadata": {},
   "source": [
    "- Lo que haremos será pasar el valor -1 a positivo, ya que porbablemente fue error de tipeo, y dada la cantidad de personas con el dato -1, no inlfuirá mucho en los datos."
   ]
  },
  {
   "cell_type": "code",
   "execution_count": 23,
   "metadata": {},
   "outputs": [],
   "source": [
    "credit_proyect['children'] = credit_proyect['children'].abs()"
   ]
  },
  {
   "cell_type": "code",
   "execution_count": 24,
   "metadata": {},
   "outputs": [
    {
     "name": "stdout",
     "output_type": "stream",
     "text": [
      "0     14149\n",
      "1      4865\n",
      "2      2055\n",
      "3       330\n",
      "20       76\n",
      "4        41\n",
      "5         9\n",
      "Name: children, dtype: int64\n",
      "----\n",
      "21525\n"
     ]
    }
   ],
   "source": [
    "print(credit_proyect[\"children\"].value_counts())\n",
    "print(\"----\")\n",
    "print(credit_proyect[\"children\"].count())"
   ]
  },
  {
   "cell_type": "markdown",
   "metadata": {},
   "source": [
    "- Ya no tenemos el problema del valor -1.\n",
    "- Ahora veremos el % de la cantidad que tiene 20 hijos, dato extraño también."
   ]
  },
  {
   "cell_type": "code",
   "execution_count": 25,
   "metadata": {},
   "outputs": [
    {
     "name": "stdout",
     "output_type": "stream",
     "text": [
      " El porcentaje con valor 20 es de 0.35% del valor total\n"
     ]
    }
   ],
   "source": [
    "#Vamos a sacar el % de los valores con 20 hijos, para ver si podemos eliminarlo o no\n",
    "twenty_date = 76\n",
    "total = 21525\n",
    "porcentaje_twenty = round((twenty_date / total) * 100,2)\n",
    "print(f\" El porcentaje con valor 20 es de {porcentaje_twenty}% del valor total\")"
   ]
  },
  {
   "cell_type": "code",
   "execution_count": 26,
   "metadata": {},
   "outputs": [],
   "source": [
    "#Es un porcentaje muy bajo, por lo que procederemos a eliminar todos los valores con 20 hijos\n",
    "credit_proyect = credit_proyect.drop(credit_proyect[credit_proyect[\"children\"] == 20].index)"
   ]
  },
  {
   "cell_type": "code",
   "execution_count": 27,
   "metadata": {},
   "outputs": [
    {
     "data": {
      "text/plain": [
       "0    14149\n",
       "1     4865\n",
       "2     2055\n",
       "3      330\n",
       "4       41\n",
       "5        9\n",
       "Name: children, dtype: int64"
      ]
     },
     "execution_count": 27,
     "metadata": {},
     "output_type": "execute_result"
    }
   ],
   "source": [
    "# Comprobar la columna `children` de nuevo para asegurarnos de que todo está arreglado\n",
    "credit_proyect[\"children\"].value_counts()\n"
   ]
  },
  {
   "cell_type": "markdown",
   "metadata": {},
   "source": [
    "[Comprueba los datos en la columna `days_employed`. En primer lugar, piensa qué tipo de problemas podría haber, qué posiblemente desees comprobar y cómo lo harás.]"
   ]
  },
  {
   "cell_type": "code",
   "execution_count": 28,
   "metadata": {},
   "outputs": [
    {
     "data": {
      "text/plain": [
       "count     19284.000000\n",
       "mean      63141.233527\n",
       "std      140910.281638\n",
       "min      -18388.949901\n",
       "25%       -2747.876441\n",
       "50%       -1204.164714\n",
       "75%        -290.206221\n",
       "max      401755.400475\n",
       "Name: days_employed, dtype: float64"
      ]
     },
     "execution_count": 28,
     "metadata": {},
     "output_type": "execute_result"
    }
   ],
   "source": [
    "# Encuentra datos problemáticos en `days_employed`, si existen, y calcula el porcentaje\n",
    "credit_proyect[\"days_employed\"].describe()\n"
   ]
  },
  {
   "cell_type": "code",
   "execution_count": 29,
   "metadata": {
    "scrolled": true
   },
   "outputs": [
    {
     "data": {
      "text/html": [
       "<div>\n",
       "<style scoped>\n",
       "    .dataframe tbody tr th:only-of-type {\n",
       "        vertical-align: middle;\n",
       "    }\n",
       "\n",
       "    .dataframe tbody tr th {\n",
       "        vertical-align: top;\n",
       "    }\n",
       "\n",
       "    .dataframe thead th {\n",
       "        text-align: right;\n",
       "    }\n",
       "</style>\n",
       "<table border=\"1\" class=\"dataframe\">\n",
       "  <thead>\n",
       "    <tr style=\"text-align: right;\">\n",
       "      <th></th>\n",
       "      <th>children</th>\n",
       "      <th>days_employed</th>\n",
       "      <th>dob_years</th>\n",
       "      <th>education_id</th>\n",
       "      <th>family_status_id</th>\n",
       "      <th>debt</th>\n",
       "      <th>total_income</th>\n",
       "    </tr>\n",
       "  </thead>\n",
       "  <tbody>\n",
       "    <tr>\n",
       "      <th>count</th>\n",
       "      <td>3438.000000</td>\n",
       "      <td>3438.000000</td>\n",
       "      <td>3438.000000</td>\n",
       "      <td>3438.000000</td>\n",
       "      <td>3438.000000</td>\n",
       "      <td>3438.000000</td>\n",
       "      <td>3438.000000</td>\n",
       "    </tr>\n",
       "    <tr>\n",
       "      <th>mean</th>\n",
       "      <td>0.091914</td>\n",
       "      <td>365012.752580</td>\n",
       "      <td>59.124200</td>\n",
       "      <td>0.914485</td>\n",
       "      <td>0.984875</td>\n",
       "      <td>0.052938</td>\n",
       "      <td>21943.583773</td>\n",
       "    </tr>\n",
       "    <tr>\n",
       "      <th>std</th>\n",
       "      <td>0.327640</td>\n",
       "      <td>21084.103702</td>\n",
       "      <td>7.583268</td>\n",
       "      <td>0.517615</td>\n",
       "      <td>1.316754</td>\n",
       "      <td>0.223942</td>\n",
       "      <td>12848.298935</td>\n",
       "    </tr>\n",
       "    <tr>\n",
       "      <th>min</th>\n",
       "      <td>0.000000</td>\n",
       "      <td>328728.720605</td>\n",
       "      <td>0.000000</td>\n",
       "      <td>0.000000</td>\n",
       "      <td>0.000000</td>\n",
       "      <td>0.000000</td>\n",
       "      <td>3306.762000</td>\n",
       "    </tr>\n",
       "    <tr>\n",
       "      <th>25%</th>\n",
       "      <td>0.000000</td>\n",
       "      <td>346644.380031</td>\n",
       "      <td>56.000000</td>\n",
       "      <td>1.000000</td>\n",
       "      <td>0.000000</td>\n",
       "      <td>0.000000</td>\n",
       "      <td>13260.622500</td>\n",
       "    </tr>\n",
       "    <tr>\n",
       "      <th>50%</th>\n",
       "      <td>0.000000</td>\n",
       "      <td>365249.346345</td>\n",
       "      <td>60.000000</td>\n",
       "      <td>1.000000</td>\n",
       "      <td>0.000000</td>\n",
       "      <td>0.000000</td>\n",
       "      <td>18945.005500</td>\n",
       "    </tr>\n",
       "    <tr>\n",
       "      <th>75%</th>\n",
       "      <td>0.000000</td>\n",
       "      <td>383275.750772</td>\n",
       "      <td>64.000000</td>\n",
       "      <td>1.000000</td>\n",
       "      <td>2.000000</td>\n",
       "      <td>0.000000</td>\n",
       "      <td>27162.396750</td>\n",
       "    </tr>\n",
       "    <tr>\n",
       "      <th>max</th>\n",
       "      <td>4.000000</td>\n",
       "      <td>401755.400475</td>\n",
       "      <td>74.000000</td>\n",
       "      <td>4.000000</td>\n",
       "      <td>4.000000</td>\n",
       "      <td>1.000000</td>\n",
       "      <td>117616.523000</td>\n",
       "    </tr>\n",
       "  </tbody>\n",
       "</table>\n",
       "</div>"
      ],
      "text/plain": [
       "          children  days_employed    dob_years  education_id  \\\n",
       "count  3438.000000    3438.000000  3438.000000   3438.000000   \n",
       "mean      0.091914  365012.752580    59.124200      0.914485   \n",
       "std       0.327640   21084.103702     7.583268      0.517615   \n",
       "min       0.000000  328728.720605     0.000000      0.000000   \n",
       "25%       0.000000  346644.380031    56.000000      1.000000   \n",
       "50%       0.000000  365249.346345    60.000000      1.000000   \n",
       "75%       0.000000  383275.750772    64.000000      1.000000   \n",
       "max       4.000000  401755.400475    74.000000      4.000000   \n",
       "\n",
       "       family_status_id         debt   total_income  \n",
       "count       3438.000000  3438.000000    3438.000000  \n",
       "mean           0.984875     0.052938   21943.583773  \n",
       "std            1.316754     0.223942   12848.298935  \n",
       "min            0.000000     0.000000    3306.762000  \n",
       "25%            0.000000     0.000000   13260.622500  \n",
       "50%            0.000000     0.000000   18945.005500  \n",
       "75%            2.000000     0.000000   27162.396750  \n",
       "max            4.000000     1.000000  117616.523000  "
      ]
     },
     "execution_count": 29,
     "metadata": {},
     "output_type": "execute_result"
    }
   ],
   "source": [
    "credit_proyect[credit_proyect[\"days_employed\"] > 0].describe()"
   ]
  },
  {
   "cell_type": "code",
   "execution_count": 30,
   "metadata": {},
   "outputs": [
    {
     "data": {
      "text/plain": [
       "16.1"
      ]
     },
     "execution_count": 30,
     "metadata": {},
     "output_type": "execute_result"
    }
   ],
   "source": [
    "# Se sacará el porcentaje de datos\n",
    "datos_totales_days = 21348\n",
    "datos_positivos_days = 3438\n",
    "porcentaje_days = round((datos_positivos_days / datos_totales_days) * 100,2)\n",
    "porcentaje_days"
   ]
  },
  {
   "cell_type": "markdown",
   "metadata": {},
   "source": [
    "-**En consideración que los datos que aparecen en positivo, son datos incongruentes, los eliminaré**"
   ]
  },
  {
   "cell_type": "code",
   "execution_count": 31,
   "metadata": {
    "scrolled": true
   },
   "outputs": [],
   "source": [
    "credit_proyect = credit_proyect.drop(credit_proyect[credit_proyect[\"days_employed\"] > 0].index)"
   ]
  },
  {
   "cell_type": "code",
   "execution_count": 32,
   "metadata": {},
   "outputs": [
    {
     "data": {
      "text/html": [
       "<div>\n",
       "<style scoped>\n",
       "    .dataframe tbody tr th:only-of-type {\n",
       "        vertical-align: middle;\n",
       "    }\n",
       "\n",
       "    .dataframe tbody tr th {\n",
       "        vertical-align: top;\n",
       "    }\n",
       "\n",
       "    .dataframe thead th {\n",
       "        text-align: right;\n",
       "    }\n",
       "</style>\n",
       "<table border=\"1\" class=\"dataframe\">\n",
       "  <thead>\n",
       "    <tr style=\"text-align: right;\">\n",
       "      <th></th>\n",
       "      <th>children</th>\n",
       "      <th>days_employed</th>\n",
       "      <th>dob_years</th>\n",
       "      <th>education_id</th>\n",
       "      <th>family_status_id</th>\n",
       "      <th>debt</th>\n",
       "      <th>total_income</th>\n",
       "    </tr>\n",
       "  </thead>\n",
       "  <tbody>\n",
       "    <tr>\n",
       "      <th>count</th>\n",
       "      <td>0.0</td>\n",
       "      <td>0.0</td>\n",
       "      <td>0.0</td>\n",
       "      <td>0.0</td>\n",
       "      <td>0.0</td>\n",
       "      <td>0.0</td>\n",
       "      <td>0.0</td>\n",
       "    </tr>\n",
       "    <tr>\n",
       "      <th>mean</th>\n",
       "      <td>NaN</td>\n",
       "      <td>NaN</td>\n",
       "      <td>NaN</td>\n",
       "      <td>NaN</td>\n",
       "      <td>NaN</td>\n",
       "      <td>NaN</td>\n",
       "      <td>NaN</td>\n",
       "    </tr>\n",
       "    <tr>\n",
       "      <th>std</th>\n",
       "      <td>NaN</td>\n",
       "      <td>NaN</td>\n",
       "      <td>NaN</td>\n",
       "      <td>NaN</td>\n",
       "      <td>NaN</td>\n",
       "      <td>NaN</td>\n",
       "      <td>NaN</td>\n",
       "    </tr>\n",
       "    <tr>\n",
       "      <th>min</th>\n",
       "      <td>NaN</td>\n",
       "      <td>NaN</td>\n",
       "      <td>NaN</td>\n",
       "      <td>NaN</td>\n",
       "      <td>NaN</td>\n",
       "      <td>NaN</td>\n",
       "      <td>NaN</td>\n",
       "    </tr>\n",
       "    <tr>\n",
       "      <th>25%</th>\n",
       "      <td>NaN</td>\n",
       "      <td>NaN</td>\n",
       "      <td>NaN</td>\n",
       "      <td>NaN</td>\n",
       "      <td>NaN</td>\n",
       "      <td>NaN</td>\n",
       "      <td>NaN</td>\n",
       "    </tr>\n",
       "    <tr>\n",
       "      <th>50%</th>\n",
       "      <td>NaN</td>\n",
       "      <td>NaN</td>\n",
       "      <td>NaN</td>\n",
       "      <td>NaN</td>\n",
       "      <td>NaN</td>\n",
       "      <td>NaN</td>\n",
       "      <td>NaN</td>\n",
       "    </tr>\n",
       "    <tr>\n",
       "      <th>75%</th>\n",
       "      <td>NaN</td>\n",
       "      <td>NaN</td>\n",
       "      <td>NaN</td>\n",
       "      <td>NaN</td>\n",
       "      <td>NaN</td>\n",
       "      <td>NaN</td>\n",
       "      <td>NaN</td>\n",
       "    </tr>\n",
       "    <tr>\n",
       "      <th>max</th>\n",
       "      <td>NaN</td>\n",
       "      <td>NaN</td>\n",
       "      <td>NaN</td>\n",
       "      <td>NaN</td>\n",
       "      <td>NaN</td>\n",
       "      <td>NaN</td>\n",
       "      <td>NaN</td>\n",
       "    </tr>\n",
       "  </tbody>\n",
       "</table>\n",
       "</div>"
      ],
      "text/plain": [
       "       children  days_employed  dob_years  education_id  family_status_id  \\\n",
       "count       0.0            0.0        0.0           0.0               0.0   \n",
       "mean        NaN            NaN        NaN           NaN               NaN   \n",
       "std         NaN            NaN        NaN           NaN               NaN   \n",
       "min         NaN            NaN        NaN           NaN               NaN   \n",
       "25%         NaN            NaN        NaN           NaN               NaN   \n",
       "50%         NaN            NaN        NaN           NaN               NaN   \n",
       "75%         NaN            NaN        NaN           NaN               NaN   \n",
       "max         NaN            NaN        NaN           NaN               NaN   \n",
       "\n",
       "       debt  total_income  \n",
       "count   0.0           0.0  \n",
       "mean    NaN           NaN  \n",
       "std     NaN           NaN  \n",
       "min     NaN           NaN  \n",
       "25%     NaN           NaN  \n",
       "50%     NaN           NaN  \n",
       "75%     NaN           NaN  \n",
       "max     NaN           NaN  "
      ]
     },
     "execution_count": 32,
     "metadata": {},
     "output_type": "execute_result"
    }
   ],
   "source": [
    "credit_proyect[credit_proyect[\"days_employed\"] > 0].describe()"
   ]
  },
  {
   "cell_type": "code",
   "execution_count": 33,
   "metadata": {},
   "outputs": [],
   "source": [
    "# Transformaremos los datos en negativo a positivo\n",
    "credit_proyect['days_employed'] = abs(credit_proyect['days_employed'])\n"
   ]
  },
  {
   "cell_type": "code",
   "execution_count": 34,
   "metadata": {},
   "outputs": [
    {
     "data": {
      "text/plain": [
       "count    15846.000000\n",
       "mean      2353.798816\n",
       "std       2304.164544\n",
       "min         24.141633\n",
       "25%        757.151250\n",
       "50%       1631.100855\n",
       "75%       3157.881359\n",
       "max      18388.949901\n",
       "Name: days_employed, dtype: float64"
      ]
     },
     "execution_count": 34,
     "metadata": {},
     "output_type": "execute_result"
    }
   ],
   "source": [
    "credit_proyect[\"days_employed\"].describe()"
   ]
  },
  {
   "cell_type": "markdown",
   "metadata": {},
   "source": [
    "[Si la cantidad de datos problemáticos es alta, podría deberse a problemas técnicos. Puede que queramos proponer la razón más obvia por la que podría haber sucedido y cuáles podrían haber sido los datos correctos, ya que no podemos eliminar estas filas problemáticas.]\n",
    "- **Se cambiaron los datos negativos a positivos.**\n",
    "\n",
    "- **Se eliminaron los datos que se encontraban en un principio en positivos, ya que éstos datos corespondían a 172 años hacia arriba**\n",
    "\n",
    "\n"
   ]
  },
  {
   "cell_type": "code",
   "execution_count": 35,
   "metadata": {},
   "outputs": [
    {
     "data": {
      "text/plain": [
       "0     8437.673028\n",
       "1     4024.803754\n",
       "2     5623.422610\n",
       "3     4124.747207\n",
       "5      926.185831\n",
       "6     2879.202052\n",
       "7      152.779569\n",
       "8     6929.865299\n",
       "9     2188.756445\n",
       "10    4171.483647\n",
       "Name: days_employed, dtype: float64"
      ]
     },
     "execution_count": 35,
     "metadata": {},
     "output_type": "execute_result"
    }
   ],
   "source": [
    "# Comprueba el resultado - asegúrate de que esté arreglado\n",
    "credit_proyect['days_employed'].head(10)"
   ]
  },
  {
   "cell_type": "markdown",
   "metadata": {},
   "source": [
    "Ahora echemos un vistazo a la edad de clientes para ver si hay algún problema allí. Una vez más, piensa qué datos pueden ser extraños en esta columna, es decir, qué dato no puede ser la edad de alguien.]"
   ]
  },
  {
   "cell_type": "code",
   "execution_count": 36,
   "metadata": {
    "scrolled": false
   },
   "outputs": [
    {
     "data": {
      "text/plain": [
       "array([42, 36, 33, 32, 27, 43, 50, 35, 41, 40, 65, 54, 56, 26, 48, 24, 21,\n",
       "       28, 63, 47, 34, 25, 31, 30, 20, 49, 37, 45, 61, 44, 53, 52, 46, 23,\n",
       "       38, 39, 51, 62, 29, 59, 55, 64, 58,  0, 60, 22, 66, 69, 57, 19, 67,\n",
       "       71, 70, 68, 72, 75, 74, 73])"
      ]
     },
     "execution_count": 36,
     "metadata": {},
     "output_type": "execute_result"
    }
   ],
   "source": [
    "# Revisa `dob_years` en busca de valores sospechosos y cuenta el porcentaje\n",
    "credit_proyect[\"dob_years\"].unique()\n"
   ]
  },
  {
   "cell_type": "markdown",
   "metadata": {},
   "source": [
    "- Aca el problema que veo, es que hay un valor de personas con 0 años.\n",
    "- Contaremos cuantas personas con 0 años existe, para sacar el % y decidir que hacer con este problema"
   ]
  },
  {
   "cell_type": "code",
   "execution_count": 37,
   "metadata": {},
   "outputs": [
    {
     "data": {
      "text/plain": [
       "75      1\n",
       "73      2\n",
       "74      2\n",
       "72      5\n",
       "71     10\n",
       "69     11\n",
       "70     11\n",
       "19     14\n",
       "68     19\n",
       "67     35\n",
       "66     44\n",
       "20     51\n",
       "65     58\n",
       "63     77\n",
       "0      83\n",
       "64     86\n",
       "21    110\n",
       "62    117\n",
       "60    133\n",
       "61    141\n",
       "22    182\n",
       "59    188\n",
       "57    247\n",
       "23    253\n",
       "58    253\n",
       "24    263\n",
       "55    281\n",
       "56    299\n",
       "54    333\n",
       "53    353\n",
       "25    356\n",
       "51    374\n",
       "52    388\n",
       "26    405\n",
       "50    450\n",
       "46    459\n",
       "47    467\n",
       "49    476\n",
       "45    483\n",
       "27    488\n",
       "28    502\n",
       "43    502\n",
       "32    505\n",
       "48    517\n",
       "37    528\n",
       "44    535\n",
       "30    537\n",
       "29    543\n",
       "36    550\n",
       "31    557\n",
       "39    568\n",
       "33    577\n",
       "42    585\n",
       "38    589\n",
       "34    597\n",
       "40    598\n",
       "41    599\n",
       "35    614\n",
       "Name: dob_years, dtype: int64"
      ]
     },
     "execution_count": 37,
     "metadata": {},
     "output_type": "execute_result"
    }
   ],
   "source": [
    "credit_proyect[\"dob_years\"].value_counts().sort_values()"
   ]
  },
  {
   "cell_type": "code",
   "execution_count": 38,
   "metadata": {},
   "outputs": [
    {
     "data": {
      "text/plain": [
       "18011"
      ]
     },
     "execution_count": 38,
     "metadata": {},
     "output_type": "execute_result"
    }
   ],
   "source": [
    "credit_proyect[\"dob_years\"].count()"
   ]
  },
  {
   "cell_type": "code",
   "execution_count": 39,
   "metadata": {},
   "outputs": [
    {
     "name": "stdout",
     "output_type": "stream",
     "text": [
      " el porcentaje de los valores con edad 0 es de 0.46%\n"
     ]
    }
   ],
   "source": [
    "# Se encontraron 83 personas con 0 años, por lo que sacaremos el porcentaje de ese dato\n",
    "credit_proyect_v = 83\n",
    "total = 18011\n",
    "credit_porcentaje = round((credit_proyect_v / total) * 100,2)\n",
    "print(f\" el porcentaje de los valores con edad 0 es de {credit_porcentaje}%\")"
   ]
  },
  {
   "cell_type": "markdown",
   "metadata": {},
   "source": [
    "[Decide qué harás con los valores problemáticos y explica por qué.]\n",
    "- El % es muy bajo, por lo que eliminaremos este dato con 0 años, ya que darle una media no sirve, ya que transformaría a float64"
   ]
  },
  {
   "cell_type": "code",
   "execution_count": 40,
   "metadata": {},
   "outputs": [],
   "source": [
    "# Resuelve los problemas en la columna `dob_years`, si existen\n",
    "credit_proyect = credit_proyect.drop(credit_proyect[credit_proyect[\"dob_years\"] == 0].index)\n"
   ]
  },
  {
   "cell_type": "code",
   "execution_count": 41,
   "metadata": {},
   "outputs": [
    {
     "data": {
      "text/plain": [
       "35    614\n",
       "41    599\n",
       "40    598\n",
       "34    597\n",
       "38    589\n",
       "42    585\n",
       "33    577\n",
       "39    568\n",
       "31    557\n",
       "36    550\n",
       "29    543\n",
       "30    537\n",
       "44    535\n",
       "37    528\n",
       "48    517\n",
       "32    505\n",
       "28    502\n",
       "43    502\n",
       "27    488\n",
       "45    483\n",
       "49    476\n",
       "47    467\n",
       "46    459\n",
       "50    450\n",
       "26    405\n",
       "52    388\n",
       "51    374\n",
       "25    356\n",
       "53    353\n",
       "54    333\n",
       "56    299\n",
       "55    281\n",
       "24    263\n",
       "58    253\n",
       "23    253\n",
       "57    247\n",
       "59    188\n",
       "22    182\n",
       "61    141\n",
       "60    133\n",
       "62    117\n",
       "21    110\n",
       "64     86\n",
       "63     77\n",
       "65     58\n",
       "20     51\n",
       "66     44\n",
       "67     35\n",
       "68     19\n",
       "19     14\n",
       "70     11\n",
       "69     11\n",
       "71     10\n",
       "72      5\n",
       "74      2\n",
       "73      2\n",
       "75      1\n",
       "Name: dob_years, dtype: int64"
      ]
     },
     "execution_count": 41,
     "metadata": {},
     "output_type": "execute_result"
    }
   ],
   "source": [
    "# Comprueba el resultado - asegúrate de que esté arreglado\n",
    "credit_proyect[\"dob_years\"].value_counts()"
   ]
  },
  {
   "cell_type": "markdown",
   "metadata": {},
   "source": [
    "[Ahora revisemos la columna `family_status`. Mira qué tipo de valores hay y qué problemas puedes tener que abordar.]"
   ]
  },
  {
   "cell_type": "code",
   "execution_count": 42,
   "metadata": {},
   "outputs": [
    {
     "data": {
      "text/plain": [
       "married              10422\n",
       "civil partnership     3568\n",
       "unmarried             2479\n",
       "divorced               986\n",
       "widow / widower        473\n",
       "Name: family_status, dtype: int64"
      ]
     },
     "execution_count": 42,
     "metadata": {},
     "output_type": "execute_result"
    }
   ],
   "source": [
    "# Veamos los valores de la columna\n",
    "credit_proyect[\"family_status\"].value_counts()\n"
   ]
  },
  {
   "cell_type": "code",
   "execution_count": 43,
   "metadata": {},
   "outputs": [],
   "source": [
    "# Aborda los valores problemáticos en `family_status`, si existen\n",
    "# No se visualizan datos problamáticos\n"
   ]
  },
  {
   "cell_type": "code",
   "execution_count": 44,
   "metadata": {},
   "outputs": [
    {
     "data": {
      "text/plain": [
       "married              10422\n",
       "civil partnership     3568\n",
       "unmarried             2479\n",
       "divorced               986\n",
       "widow / widower        473\n",
       "Name: family_status, dtype: int64"
      ]
     },
     "execution_count": 44,
     "metadata": {},
     "output_type": "execute_result"
    }
   ],
   "source": [
    "# Comprueba el resultado - asegúrate de que esté arreglado\n",
    "credit_proyect[\"family_status\"].value_counts()"
   ]
  },
  {
   "cell_type": "markdown",
   "metadata": {},
   "source": [
    "[Ahora revisemos la columna `gender`. Mira qué tipo de valores hay y qué problemas puedes tener que abordar]"
   ]
  },
  {
   "cell_type": "code",
   "execution_count": 45,
   "metadata": {},
   "outputs": [
    {
     "data": {
      "text/plain": [
       "array(['F', 'M', 'XNA'], dtype=object)"
      ]
     },
     "execution_count": 45,
     "metadata": {},
     "output_type": "execute_result"
    }
   ],
   "source": [
    "# Veamos los valores en la columna\n",
    "credit_proyect[\"gender\"].unique()"
   ]
  },
  {
   "cell_type": "code",
   "execution_count": 46,
   "metadata": {},
   "outputs": [
    {
     "data": {
      "text/plain": [
       "F      11333\n",
       "M       6594\n",
       "XNA        1\n",
       "Name: gender, dtype: int64"
      ]
     },
     "execution_count": 46,
     "metadata": {},
     "output_type": "execute_result"
    }
   ],
   "source": [
    "credit_proyect[\"gender\"].value_counts()"
   ]
  },
  {
   "cell_type": "code",
   "execution_count": 47,
   "metadata": {},
   "outputs": [],
   "source": [
    "#Como el valor de XNA es 1 sola persona, lo eliminaremos\n",
    "credit_proyect = credit_proyect.drop(credit_proyect[credit_proyect[\"gender\"] == \"XNA\"].index)"
   ]
  },
  {
   "cell_type": "code",
   "execution_count": 48,
   "metadata": {},
   "outputs": [
    {
     "data": {
      "text/plain": [
       "F    11333\n",
       "M     6594\n",
       "Name: gender, dtype: int64"
      ]
     },
     "execution_count": 48,
     "metadata": {},
     "output_type": "execute_result"
    }
   ],
   "source": [
    "credit_proyect[\"gender\"].value_counts()"
   ]
  },
  {
   "cell_type": "markdown",
   "metadata": {},
   "source": [
    "- Aca el problema era el dato XNA, que tenia solo una persona, por lo que se eliminó ese dato"
   ]
  },
  {
   "cell_type": "code",
   "execution_count": 49,
   "metadata": {},
   "outputs": [],
   "source": [
    "# Aborda los valores problemáticos, si existen\n"
   ]
  },
  {
   "cell_type": "code",
   "execution_count": 50,
   "metadata": {},
   "outputs": [
    {
     "data": {
      "text/plain": [
       "array(['F', 'M'], dtype=object)"
      ]
     },
     "execution_count": 50,
     "metadata": {},
     "output_type": "execute_result"
    }
   ],
   "source": [
    "# Comprueba el resultado - asegúrate de que esté arreglado\n",
    "credit_proyect[\"gender\"].unique()\n"
   ]
  },
  {
   "cell_type": "markdown",
   "metadata": {},
   "source": [
    "[Ahora vamos a revisar la columna `income_type`. Mira qué tipo de valores hay y qué problemas puedes tener que abordar]"
   ]
  },
  {
   "cell_type": "code",
   "execution_count": 51,
   "metadata": {},
   "outputs": [
    {
     "data": {
      "text/plain": [
       "array(['employee', 'business', 'retiree', 'civil servant', 'entrepreneur',\n",
       "       'student', 'paternity / maternity leave'], dtype=object)"
      ]
     },
     "execution_count": 51,
     "metadata": {},
     "output_type": "execute_result"
    }
   ],
   "source": [
    "# Veamos los valores en la columna\n",
    "credit_proyect[\"income_type\"].unique()"
   ]
  },
  {
   "cell_type": "code",
   "execution_count": 52,
   "metadata": {},
   "outputs": [],
   "source": [
    "# Aborda los valores problemáticos, si existen\n",
    "# Cambiare los datos de \"paternity / maternity leave\" a \"paternitys leave\"\n",
    "credit_proyect.loc[credit_proyect['income_type'] == \"paternity / maternity leave\", 'income_type'] = 'paternitys leave'"
   ]
  },
  {
   "cell_type": "code",
   "execution_count": 53,
   "metadata": {},
   "outputs": [
    {
     "data": {
      "text/plain": [
       "array(['employee', 'business', 'retiree', 'civil servant', 'entrepreneur',\n",
       "       'student', 'paternitys leave'], dtype=object)"
      ]
     },
     "execution_count": 53,
     "metadata": {},
     "output_type": "execute_result"
    }
   ],
   "source": [
    "# Comprueba el resultado - asegúrate de que esté arreglado\n",
    "credit_proyect[\"income_type\"].unique()\n"
   ]
  },
  {
   "cell_type": "markdown",
   "metadata": {},
   "source": [
    "[Ahora veamos si hay duplicados en nuestros datos. Si los hay, tendrás que decidir qué harás con ellos y explicar por qué.]"
   ]
  },
  {
   "cell_type": "code",
   "execution_count": 54,
   "metadata": {},
   "outputs": [
    {
     "data": {
      "text/plain": [
       "71"
      ]
     },
     "execution_count": 54,
     "metadata": {},
     "output_type": "execute_result"
    }
   ],
   "source": [
    "# Comprobar los duplicados\n",
    "credit_proyect.duplicated().sum()\n"
   ]
  },
  {
   "cell_type": "code",
   "execution_count": 55,
   "metadata": {},
   "outputs": [
    {
     "data": {
      "text/html": [
       "<div>\n",
       "<style scoped>\n",
       "    .dataframe tbody tr th:only-of-type {\n",
       "        vertical-align: middle;\n",
       "    }\n",
       "\n",
       "    .dataframe tbody tr th {\n",
       "        vertical-align: top;\n",
       "    }\n",
       "\n",
       "    .dataframe thead th {\n",
       "        text-align: right;\n",
       "    }\n",
       "</style>\n",
       "<table border=\"1\" class=\"dataframe\">\n",
       "  <thead>\n",
       "    <tr style=\"text-align: right;\">\n",
       "      <th></th>\n",
       "      <th>children</th>\n",
       "      <th>days_employed</th>\n",
       "      <th>dob_years</th>\n",
       "      <th>education</th>\n",
       "      <th>education_id</th>\n",
       "      <th>family_status</th>\n",
       "      <th>family_status_id</th>\n",
       "      <th>gender</th>\n",
       "      <th>income_type</th>\n",
       "      <th>debt</th>\n",
       "      <th>total_income</th>\n",
       "      <th>purpose</th>\n",
       "    </tr>\n",
       "  </thead>\n",
       "  <tbody>\n",
       "    <tr>\n",
       "      <th>14432</th>\n",
       "      <td>2</td>\n",
       "      <td>NaN</td>\n",
       "      <td>36</td>\n",
       "      <td>bachelor's degree</td>\n",
       "      <td>0</td>\n",
       "      <td>married</td>\n",
       "      <td>0</td>\n",
       "      <td>F</td>\n",
       "      <td>civil servant</td>\n",
       "      <td>0</td>\n",
       "      <td>NaN</td>\n",
       "      <td>getting an education</td>\n",
       "    </tr>\n",
       "    <tr>\n",
       "      <th>3690</th>\n",
       "      <td>1</td>\n",
       "      <td>NaN</td>\n",
       "      <td>34</td>\n",
       "      <td>bachelor's degree</td>\n",
       "      <td>0</td>\n",
       "      <td>civil partnership</td>\n",
       "      <td>1</td>\n",
       "      <td>F</td>\n",
       "      <td>employee</td>\n",
       "      <td>0</td>\n",
       "      <td>NaN</td>\n",
       "      <td>wedding ceremony</td>\n",
       "    </tr>\n",
       "    <tr>\n",
       "      <th>3452</th>\n",
       "      <td>0</td>\n",
       "      <td>NaN</td>\n",
       "      <td>29</td>\n",
       "      <td>bachelor's degree</td>\n",
       "      <td>0</td>\n",
       "      <td>married</td>\n",
       "      <td>0</td>\n",
       "      <td>M</td>\n",
       "      <td>employee</td>\n",
       "      <td>0</td>\n",
       "      <td>NaN</td>\n",
       "      <td>buy residential real estate</td>\n",
       "    </tr>\n",
       "    <tr>\n",
       "      <th>9013</th>\n",
       "      <td>2</td>\n",
       "      <td>NaN</td>\n",
       "      <td>36</td>\n",
       "      <td>bachelor's degree</td>\n",
       "      <td>0</td>\n",
       "      <td>married</td>\n",
       "      <td>0</td>\n",
       "      <td>F</td>\n",
       "      <td>civil servant</td>\n",
       "      <td>0</td>\n",
       "      <td>NaN</td>\n",
       "      <td>getting an education</td>\n",
       "    </tr>\n",
       "    <tr>\n",
       "      <th>18349</th>\n",
       "      <td>1</td>\n",
       "      <td>NaN</td>\n",
       "      <td>30</td>\n",
       "      <td>bachelor's degree</td>\n",
       "      <td>0</td>\n",
       "      <td>married</td>\n",
       "      <td>0</td>\n",
       "      <td>F</td>\n",
       "      <td>civil servant</td>\n",
       "      <td>0</td>\n",
       "      <td>NaN</td>\n",
       "      <td>purchase of the house for my family</td>\n",
       "    </tr>\n",
       "    <tr>\n",
       "      <th>...</th>\n",
       "      <td>...</td>\n",
       "      <td>...</td>\n",
       "      <td>...</td>\n",
       "      <td>...</td>\n",
       "      <td>...</td>\n",
       "      <td>...</td>\n",
       "      <td>...</td>\n",
       "      <td>...</td>\n",
       "      <td>...</td>\n",
       "      <td>...</td>\n",
       "      <td>...</td>\n",
       "      <td>...</td>\n",
       "    </tr>\n",
       "    <tr>\n",
       "      <th>7995</th>\n",
       "      <td>0</td>\n",
       "      <td>NaN</td>\n",
       "      <td>57</td>\n",
       "      <td>secondary education</td>\n",
       "      <td>1</td>\n",
       "      <td>civil partnership</td>\n",
       "      <td>1</td>\n",
       "      <td>F</td>\n",
       "      <td>retiree</td>\n",
       "      <td>0</td>\n",
       "      <td>NaN</td>\n",
       "      <td>wedding ceremony</td>\n",
       "    </tr>\n",
       "    <tr>\n",
       "      <th>7938</th>\n",
       "      <td>0</td>\n",
       "      <td>NaN</td>\n",
       "      <td>71</td>\n",
       "      <td>secondary education</td>\n",
       "      <td>1</td>\n",
       "      <td>civil partnership</td>\n",
       "      <td>1</td>\n",
       "      <td>F</td>\n",
       "      <td>retiree</td>\n",
       "      <td>0</td>\n",
       "      <td>NaN</td>\n",
       "      <td>having a wedding</td>\n",
       "    </tr>\n",
       "    <tr>\n",
       "      <th>7808</th>\n",
       "      <td>0</td>\n",
       "      <td>NaN</td>\n",
       "      <td>57</td>\n",
       "      <td>secondary education</td>\n",
       "      <td>1</td>\n",
       "      <td>civil partnership</td>\n",
       "      <td>1</td>\n",
       "      <td>F</td>\n",
       "      <td>retiree</td>\n",
       "      <td>0</td>\n",
       "      <td>NaN</td>\n",
       "      <td>having a wedding</td>\n",
       "    </tr>\n",
       "    <tr>\n",
       "      <th>9627</th>\n",
       "      <td>0</td>\n",
       "      <td>NaN</td>\n",
       "      <td>56</td>\n",
       "      <td>secondary education</td>\n",
       "      <td>1</td>\n",
       "      <td>married</td>\n",
       "      <td>0</td>\n",
       "      <td>F</td>\n",
       "      <td>retiree</td>\n",
       "      <td>0</td>\n",
       "      <td>NaN</td>\n",
       "      <td>transactions with my real estate</td>\n",
       "    </tr>\n",
       "    <tr>\n",
       "      <th>21415</th>\n",
       "      <td>0</td>\n",
       "      <td>NaN</td>\n",
       "      <td>54</td>\n",
       "      <td>secondary education</td>\n",
       "      <td>1</td>\n",
       "      <td>married</td>\n",
       "      <td>0</td>\n",
       "      <td>F</td>\n",
       "      <td>retiree</td>\n",
       "      <td>0</td>\n",
       "      <td>NaN</td>\n",
       "      <td>housing transactions</td>\n",
       "    </tr>\n",
       "  </tbody>\n",
       "</table>\n",
       "<p>137 rows × 12 columns</p>\n",
       "</div>"
      ],
      "text/plain": [
       "       children  days_employed  dob_years            education  education_id  \\\n",
       "14432         2            NaN         36    bachelor's degree             0   \n",
       "3690          1            NaN         34    bachelor's degree             0   \n",
       "3452          0            NaN         29    bachelor's degree             0   \n",
       "9013          2            NaN         36    bachelor's degree             0   \n",
       "18349         1            NaN         30    bachelor's degree             0   \n",
       "...         ...            ...        ...                  ...           ...   \n",
       "7995          0            NaN         57  secondary education             1   \n",
       "7938          0            NaN         71  secondary education             1   \n",
       "7808          0            NaN         57  secondary education             1   \n",
       "9627          0            NaN         56  secondary education             1   \n",
       "21415         0            NaN         54  secondary education             1   \n",
       "\n",
       "           family_status  family_status_id gender    income_type  debt  \\\n",
       "14432            married                 0      F  civil servant     0   \n",
       "3690   civil partnership                 1      F       employee     0   \n",
       "3452             married                 0      M       employee     0   \n",
       "9013             married                 0      F  civil servant     0   \n",
       "18349            married                 0      F  civil servant     0   \n",
       "...                  ...               ...    ...            ...   ...   \n",
       "7995   civil partnership                 1      F        retiree     0   \n",
       "7938   civil partnership                 1      F        retiree     0   \n",
       "7808   civil partnership                 1      F        retiree     0   \n",
       "9627             married                 0      F        retiree     0   \n",
       "21415            married                 0      F        retiree     0   \n",
       "\n",
       "       total_income                              purpose  \n",
       "14432           NaN                 getting an education  \n",
       "3690            NaN                     wedding ceremony  \n",
       "3452            NaN          buy residential real estate  \n",
       "9013            NaN                 getting an education  \n",
       "18349           NaN  purchase of the house for my family  \n",
       "...             ...                                  ...  \n",
       "7995            NaN                     wedding ceremony  \n",
       "7938            NaN                     having a wedding  \n",
       "7808            NaN                     having a wedding  \n",
       "9627            NaN     transactions with my real estate  \n",
       "21415           NaN                 housing transactions  \n",
       "\n",
       "[137 rows x 12 columns]"
      ]
     },
     "execution_count": 55,
     "metadata": {},
     "output_type": "execute_result"
    }
   ],
   "source": [
    "credit_proyect[credit_proyect.duplicated(keep=False)].sort_values(by=\"education\")"
   ]
  },
  {
   "cell_type": "code",
   "execution_count": 56,
   "metadata": {},
   "outputs": [],
   "source": [
    "# Aborda los duplicados, si existen\n",
    "credit_proyect = credit_proyect.drop_duplicates().reset_index()"
   ]
  },
  {
   "cell_type": "code",
   "execution_count": 57,
   "metadata": {},
   "outputs": [
    {
     "data": {
      "text/plain": [
       "0"
      ]
     },
     "execution_count": 57,
     "metadata": {},
     "output_type": "execute_result"
    }
   ],
   "source": [
    "# Última comprobación para ver si tenemos duplicados\n",
    "credit_proyect.duplicated().sum()"
   ]
  },
  {
   "cell_type": "code",
   "execution_count": 58,
   "metadata": {},
   "outputs": [
    {
     "data": {
      "text/plain": [
       "(17856, 13)"
      ]
     },
     "execution_count": 58,
     "metadata": {},
     "output_type": "execute_result"
    }
   ],
   "source": [
    "# Comprueba el tamaño del conjunto de datos que tienes ahora, después de haber ejecutado estas primeras manipulaciones\n",
    "credit_proyect.shape"
   ]
  },
  {
   "cell_type": "markdown",
   "metadata": {},
   "source": [
    "[Describe tu nuevo conjunto de datos: di brevemente qué has cambiado y cuál es el porcentaje de cambios, si hubo alguno.]\n",
    "- **Se eliminan los duplicados**"
   ]
  },
  {
   "cell_type": "markdown",
   "metadata": {},
   "source": [
    "# Trabajar con valores ausentes"
   ]
  },
  {
   "cell_type": "markdown",
   "metadata": {},
   "source": [
    "[Para acelerar el trabajo con algunos datos, puede que necesites trabajar con diccionarios para algunos valores, en los que se proporcionan IDs. Explica por qué y con qué diccionarios vas a trabajar.]"
   ]
  },
  {
   "cell_type": "code",
   "execution_count": 59,
   "metadata": {},
   "outputs": [
    {
     "data": {
      "text/html": [
       "<div>\n",
       "<style scoped>\n",
       "    .dataframe tbody tr th:only-of-type {\n",
       "        vertical-align: middle;\n",
       "    }\n",
       "\n",
       "    .dataframe tbody tr th {\n",
       "        vertical-align: top;\n",
       "    }\n",
       "\n",
       "    .dataframe thead th {\n",
       "        text-align: right;\n",
       "    }\n",
       "</style>\n",
       "<table border=\"1\" class=\"dataframe\">\n",
       "  <thead>\n",
       "    <tr style=\"text-align: right;\">\n",
       "      <th></th>\n",
       "      <th>family_status</th>\n",
       "      <th>family_status_id</th>\n",
       "    </tr>\n",
       "  </thead>\n",
       "  <tbody>\n",
       "    <tr>\n",
       "      <th>0</th>\n",
       "      <td>married</td>\n",
       "      <td>0</td>\n",
       "    </tr>\n",
       "    <tr>\n",
       "      <th>1</th>\n",
       "      <td>married</td>\n",
       "      <td>0</td>\n",
       "    </tr>\n",
       "    <tr>\n",
       "      <th>2</th>\n",
       "      <td>married</td>\n",
       "      <td>0</td>\n",
       "    </tr>\n",
       "    <tr>\n",
       "      <th>3</th>\n",
       "      <td>married</td>\n",
       "      <td>0</td>\n",
       "    </tr>\n",
       "    <tr>\n",
       "      <th>4</th>\n",
       "      <td>civil partnership</td>\n",
       "      <td>1</td>\n",
       "    </tr>\n",
       "    <tr>\n",
       "      <th>...</th>\n",
       "      <td>...</td>\n",
       "      <td>...</td>\n",
       "    </tr>\n",
       "    <tr>\n",
       "      <th>17851</th>\n",
       "      <td>divorced</td>\n",
       "      <td>3</td>\n",
       "    </tr>\n",
       "    <tr>\n",
       "      <th>17852</th>\n",
       "      <td>civil partnership</td>\n",
       "      <td>1</td>\n",
       "    </tr>\n",
       "    <tr>\n",
       "      <th>17853</th>\n",
       "      <td>civil partnership</td>\n",
       "      <td>1</td>\n",
       "    </tr>\n",
       "    <tr>\n",
       "      <th>17854</th>\n",
       "      <td>married</td>\n",
       "      <td>0</td>\n",
       "    </tr>\n",
       "    <tr>\n",
       "      <th>17855</th>\n",
       "      <td>married</td>\n",
       "      <td>0</td>\n",
       "    </tr>\n",
       "  </tbody>\n",
       "</table>\n",
       "<p>17856 rows × 2 columns</p>\n",
       "</div>"
      ],
      "text/plain": [
       "           family_status  family_status_id\n",
       "0                married                 0\n",
       "1                married                 0\n",
       "2                married                 0\n",
       "3                married                 0\n",
       "4      civil partnership                 1\n",
       "...                  ...               ...\n",
       "17851           divorced                 3\n",
       "17852  civil partnership                 1\n",
       "17853  civil partnership                 1\n",
       "17854            married                 0\n",
       "17855            married                 0\n",
       "\n",
       "[17856 rows x 2 columns]"
      ]
     },
     "execution_count": 59,
     "metadata": {},
     "output_type": "execute_result"
    }
   ],
   "source": [
    "# Encuentra los diccionarios\n",
    "education_dict = credit_proyect[['education','education_id']]\n",
    "\n",
    "family_dict = credit_proyect[['family_status','family_status_id']]\n",
    "\n",
    "education_dict\n",
    "family_dict"
   ]
  },
  {
   "cell_type": "markdown",
   "metadata": {},
   "source": [
    "### Restaurar valores ausentes en `total_income`"
   ]
  },
  {
   "cell_type": "markdown",
   "metadata": {},
   "source": [
    "[Indica brevemente qué columnas tienen valores ausentes que debes abordar. Explica cómo las arreglarás.]\n",
    "\n",
    "\n",
    "[Empieza por abordar los valores ausentes del ingreso total. Crea una categoría de edad para los clientes. Crea una nueva columna con la categoría de edad. Esta estrategia puede ayudar a calcular valores para el ingreso total.]\n",
    "\n",
    "- Creo que por error cambie de lugar la parte del proyecto de restaurar valores ausentes"
   ]
  },
  {
   "cell_type": "code",
   "execution_count": 60,
   "metadata": {},
   "outputs": [
    {
     "data": {
      "text/plain": [
       "10815    19\n",
       "7637     19\n",
       "6875     19\n",
       "12983    19\n",
       "8504     19\n",
       "         ..\n",
       "12813    73\n",
       "15484    73\n",
       "10238    74\n",
       "9587     74\n",
       "7345     75\n",
       "Name: dob_years, Length: 17856, dtype: int64"
      ]
     },
     "execution_count": 60,
     "metadata": {},
     "output_type": "execute_result"
    }
   ],
   "source": [
    "credit_proyect[\"dob_years\"].sort_values()"
   ]
  },
  {
   "cell_type": "code",
   "execution_count": 61,
   "metadata": {},
   "outputs": [],
   "source": [
    "# Vamos a escribir una función que calcule la categoría de edad\n",
    "def age_group(dob_years):\n",
    "    if dob_years <= 35:\n",
    "        return \"joven\"\n",
    "    if dob_years <= 60:\n",
    "        return \"adulto\"\n",
    "    if dob_years > 60:\n",
    "        return \"adulto mayor\"\n",
    "    \n",
    "    "
   ]
  },
  {
   "cell_type": "code",
   "execution_count": 62,
   "metadata": {},
   "outputs": [
    {
     "name": "stdout",
     "output_type": "stream",
     "text": [
      "adulto\n"
     ]
    }
   ],
   "source": [
    "# Prueba si la función funciona bien\n",
    "print(age_group(42))"
   ]
  },
  {
   "cell_type": "code",
   "execution_count": 63,
   "metadata": {},
   "outputs": [],
   "source": [
    "# Crear una nueva columna basada en la función\n",
    "credit_proyect['age_group'] = credit_proyect['dob_years'].apply(age_group)\n"
   ]
  },
  {
   "cell_type": "code",
   "execution_count": 64,
   "metadata": {},
   "outputs": [
    {
     "data": {
      "text/html": [
       "<div>\n",
       "<style scoped>\n",
       "    .dataframe tbody tr th:only-of-type {\n",
       "        vertical-align: middle;\n",
       "    }\n",
       "\n",
       "    .dataframe tbody tr th {\n",
       "        vertical-align: top;\n",
       "    }\n",
       "\n",
       "    .dataframe thead th {\n",
       "        text-align: right;\n",
       "    }\n",
       "</style>\n",
       "<table border=\"1\" class=\"dataframe\">\n",
       "  <thead>\n",
       "    <tr style=\"text-align: right;\">\n",
       "      <th></th>\n",
       "      <th>index</th>\n",
       "      <th>children</th>\n",
       "      <th>days_employed</th>\n",
       "      <th>dob_years</th>\n",
       "      <th>education</th>\n",
       "      <th>education_id</th>\n",
       "      <th>family_status</th>\n",
       "      <th>family_status_id</th>\n",
       "      <th>gender</th>\n",
       "      <th>income_type</th>\n",
       "      <th>debt</th>\n",
       "      <th>total_income</th>\n",
       "      <th>purpose</th>\n",
       "      <th>age_group</th>\n",
       "    </tr>\n",
       "  </thead>\n",
       "  <tbody>\n",
       "    <tr>\n",
       "      <th>0</th>\n",
       "      <td>0</td>\n",
       "      <td>1</td>\n",
       "      <td>8437.673028</td>\n",
       "      <td>42</td>\n",
       "      <td>bachelor's degree</td>\n",
       "      <td>0</td>\n",
       "      <td>married</td>\n",
       "      <td>0</td>\n",
       "      <td>F</td>\n",
       "      <td>employee</td>\n",
       "      <td>0</td>\n",
       "      <td>40620.102</td>\n",
       "      <td>purchase of the house</td>\n",
       "      <td>adulto</td>\n",
       "    </tr>\n",
       "    <tr>\n",
       "      <th>1</th>\n",
       "      <td>1</td>\n",
       "      <td>1</td>\n",
       "      <td>4024.803754</td>\n",
       "      <td>36</td>\n",
       "      <td>secondary education</td>\n",
       "      <td>1</td>\n",
       "      <td>married</td>\n",
       "      <td>0</td>\n",
       "      <td>F</td>\n",
       "      <td>employee</td>\n",
       "      <td>0</td>\n",
       "      <td>17932.802</td>\n",
       "      <td>car purchase</td>\n",
       "      <td>adulto</td>\n",
       "    </tr>\n",
       "    <tr>\n",
       "      <th>2</th>\n",
       "      <td>2</td>\n",
       "      <td>0</td>\n",
       "      <td>5623.422610</td>\n",
       "      <td>33</td>\n",
       "      <td>secondary education</td>\n",
       "      <td>1</td>\n",
       "      <td>married</td>\n",
       "      <td>0</td>\n",
       "      <td>M</td>\n",
       "      <td>employee</td>\n",
       "      <td>0</td>\n",
       "      <td>23341.752</td>\n",
       "      <td>purchase of the house</td>\n",
       "      <td>joven</td>\n",
       "    </tr>\n",
       "    <tr>\n",
       "      <th>3</th>\n",
       "      <td>3</td>\n",
       "      <td>3</td>\n",
       "      <td>4124.747207</td>\n",
       "      <td>32</td>\n",
       "      <td>secondary education</td>\n",
       "      <td>1</td>\n",
       "      <td>married</td>\n",
       "      <td>0</td>\n",
       "      <td>M</td>\n",
       "      <td>employee</td>\n",
       "      <td>0</td>\n",
       "      <td>42820.568</td>\n",
       "      <td>supplementary education</td>\n",
       "      <td>joven</td>\n",
       "    </tr>\n",
       "    <tr>\n",
       "      <th>4</th>\n",
       "      <td>5</td>\n",
       "      <td>0</td>\n",
       "      <td>926.185831</td>\n",
       "      <td>27</td>\n",
       "      <td>bachelor's degree</td>\n",
       "      <td>0</td>\n",
       "      <td>civil partnership</td>\n",
       "      <td>1</td>\n",
       "      <td>M</td>\n",
       "      <td>business</td>\n",
       "      <td>0</td>\n",
       "      <td>40922.170</td>\n",
       "      <td>purchase of the house</td>\n",
       "      <td>joven</td>\n",
       "    </tr>\n",
       "    <tr>\n",
       "      <th>5</th>\n",
       "      <td>6</td>\n",
       "      <td>0</td>\n",
       "      <td>2879.202052</td>\n",
       "      <td>43</td>\n",
       "      <td>bachelor's degree</td>\n",
       "      <td>0</td>\n",
       "      <td>married</td>\n",
       "      <td>0</td>\n",
       "      <td>F</td>\n",
       "      <td>business</td>\n",
       "      <td>0</td>\n",
       "      <td>38484.156</td>\n",
       "      <td>housing transactions</td>\n",
       "      <td>adulto</td>\n",
       "    </tr>\n",
       "    <tr>\n",
       "      <th>6</th>\n",
       "      <td>7</td>\n",
       "      <td>0</td>\n",
       "      <td>152.779569</td>\n",
       "      <td>50</td>\n",
       "      <td>secondary education</td>\n",
       "      <td>1</td>\n",
       "      <td>married</td>\n",
       "      <td>0</td>\n",
       "      <td>M</td>\n",
       "      <td>employee</td>\n",
       "      <td>0</td>\n",
       "      <td>21731.829</td>\n",
       "      <td>education</td>\n",
       "      <td>adulto</td>\n",
       "    </tr>\n",
       "    <tr>\n",
       "      <th>7</th>\n",
       "      <td>8</td>\n",
       "      <td>2</td>\n",
       "      <td>6929.865299</td>\n",
       "      <td>35</td>\n",
       "      <td>bachelor's degree</td>\n",
       "      <td>0</td>\n",
       "      <td>civil partnership</td>\n",
       "      <td>1</td>\n",
       "      <td>F</td>\n",
       "      <td>employee</td>\n",
       "      <td>0</td>\n",
       "      <td>15337.093</td>\n",
       "      <td>having a wedding</td>\n",
       "      <td>joven</td>\n",
       "    </tr>\n",
       "    <tr>\n",
       "      <th>8</th>\n",
       "      <td>9</td>\n",
       "      <td>0</td>\n",
       "      <td>2188.756445</td>\n",
       "      <td>41</td>\n",
       "      <td>secondary education</td>\n",
       "      <td>1</td>\n",
       "      <td>married</td>\n",
       "      <td>0</td>\n",
       "      <td>M</td>\n",
       "      <td>employee</td>\n",
       "      <td>0</td>\n",
       "      <td>23108.150</td>\n",
       "      <td>purchase of the house for my family</td>\n",
       "      <td>adulto</td>\n",
       "    </tr>\n",
       "    <tr>\n",
       "      <th>9</th>\n",
       "      <td>10</td>\n",
       "      <td>2</td>\n",
       "      <td>4171.483647</td>\n",
       "      <td>36</td>\n",
       "      <td>bachelor's degree</td>\n",
       "      <td>0</td>\n",
       "      <td>married</td>\n",
       "      <td>0</td>\n",
       "      <td>M</td>\n",
       "      <td>business</td>\n",
       "      <td>0</td>\n",
       "      <td>18230.959</td>\n",
       "      <td>buy real estate</td>\n",
       "      <td>adulto</td>\n",
       "    </tr>\n",
       "  </tbody>\n",
       "</table>\n",
       "</div>"
      ],
      "text/plain": [
       "   index  children  days_employed  dob_years            education  \\\n",
       "0      0         1    8437.673028         42    bachelor's degree   \n",
       "1      1         1    4024.803754         36  secondary education   \n",
       "2      2         0    5623.422610         33  secondary education   \n",
       "3      3         3    4124.747207         32  secondary education   \n",
       "4      5         0     926.185831         27    bachelor's degree   \n",
       "5      6         0    2879.202052         43    bachelor's degree   \n",
       "6      7         0     152.779569         50  secondary education   \n",
       "7      8         2    6929.865299         35    bachelor's degree   \n",
       "8      9         0    2188.756445         41  secondary education   \n",
       "9     10         2    4171.483647         36    bachelor's degree   \n",
       "\n",
       "   education_id      family_status  family_status_id gender income_type  debt  \\\n",
       "0             0            married                 0      F    employee     0   \n",
       "1             1            married                 0      F    employee     0   \n",
       "2             1            married                 0      M    employee     0   \n",
       "3             1            married                 0      M    employee     0   \n",
       "4             0  civil partnership                 1      M    business     0   \n",
       "5             0            married                 0      F    business     0   \n",
       "6             1            married                 0      M    employee     0   \n",
       "7             0  civil partnership                 1      F    employee     0   \n",
       "8             1            married                 0      M    employee     0   \n",
       "9             0            married                 0      M    business     0   \n",
       "\n",
       "   total_income                              purpose age_group  \n",
       "0     40620.102                purchase of the house    adulto  \n",
       "1     17932.802                         car purchase    adulto  \n",
       "2     23341.752                purchase of the house     joven  \n",
       "3     42820.568              supplementary education     joven  \n",
       "4     40922.170                purchase of the house     joven  \n",
       "5     38484.156                 housing transactions    adulto  \n",
       "6     21731.829                            education    adulto  \n",
       "7     15337.093                     having a wedding     joven  \n",
       "8     23108.150  purchase of the house for my family    adulto  \n",
       "9     18230.959                      buy real estate    adulto  "
      ]
     },
     "execution_count": 64,
     "metadata": {},
     "output_type": "execute_result"
    }
   ],
   "source": [
    "# Comprobar cómo los valores en la nueva columna\n",
    "credit_proyect.head(10)\n"
   ]
  },
  {
   "cell_type": "markdown",
   "metadata": {},
   "source": [
    "[Piensa en los factores de los que suelen depender los ingresos. Eventualmente, tendrás que averiguar si debes usar valores medios o medianos para reemplazar los valores ausentes. Para tomar esta decisión, probablemente querrás ver la distribución de los factores que, según tu análisis, pueden tener un impacto en los ingresos de uno.]"
   ]
  },
  {
   "cell_type": "markdown",
   "metadata": {},
   "source": [
    "[Crea una tabla que solo tenga datos sin valores ausentes. Estos datos se utilizarán para restaurar los valores ausentes.]"
   ]
  },
  {
   "cell_type": "code",
   "execution_count": 65,
   "metadata": {},
   "outputs": [],
   "source": [
    "# Crea una tabla sin valores ausentes y muestra algunas de sus filas para asegurarte de que se ve bien\n",
    "credit_proyect_clean = credit_proyect.dropna() "
   ]
  },
  {
   "cell_type": "code",
   "execution_count": 66,
   "metadata": {},
   "outputs": [
    {
     "data": {
      "text/plain": [
       "0"
      ]
     },
     "execution_count": 66,
     "metadata": {},
     "output_type": "execute_result"
    }
   ],
   "source": [
    "credit_proyect_clean['total_income'].isna().sum()"
   ]
  },
  {
   "cell_type": "code",
   "execution_count": 67,
   "metadata": {},
   "outputs": [
    {
     "data": {
      "text/plain": [
       "27845.938624017246"
      ]
     },
     "execution_count": 67,
     "metadata": {},
     "output_type": "execute_result"
    }
   ],
   "source": [
    "# Examina los valores medios de los ingresos en función de los factores que identificaste\n",
    "credit_proyect_clean['total_income'].mean()"
   ]
  },
  {
   "cell_type": "code",
   "execution_count": 68,
   "metadata": {
    "scrolled": true
   },
   "outputs": [
    {
     "data": {
      "text/plain": [
       "24179.1815"
      ]
     },
     "execution_count": 68,
     "metadata": {},
     "output_type": "execute_result"
    }
   ],
   "source": [
    "# Examina los valores medianos de los ingresos en función de los factores que identificaste\n",
    "credit_proyect_clean['total_income'].median()"
   ]
  },
  {
   "cell_type": "markdown",
   "metadata": {},
   "source": [
    "[Repite tales comparaciones para múltiples factores. Asegúrate de considerar diferentes aspectos y explica tu razonamiento.]\n",
    "\n"
   ]
  },
  {
   "cell_type": "code",
   "execution_count": 69,
   "metadata": {},
   "outputs": [],
   "source": [
    "#mean_values = credit_proyect.groupby(\"age_group\")['total_income'].mean()\n",
    "#median_values = credit_proyect.groupby(\"age_group\")['total_income'].median()\n",
    "\n",
    "#print(mean_values)\n",
    "#print(\"-----\")\n",
    "#print(median_values)\n"
   ]
  },
  {
   "cell_type": "markdown",
   "metadata": {},
   "source": [
    "[Determina qué características definen mejor los ingresos y decide si utilizarás una mediana o una media. Explica por qué tomaste esta decisión.]\n",
    "- Considero que en este caso lo mejor es asignarle la mediana a los datos ausentes, ya que hay mucha diferencia entre el valor mínimo y valor máximo, y la mayoria de las personas estan mas cerca del valor mínimo.\n"
   ]
  },
  {
   "cell_type": "code",
   "execution_count": 70,
   "metadata": {},
   "outputs": [
    {
     "name": "stdout",
     "output_type": "stream",
     "text": [
      "       index  children  days_employed  dob_years            education  \\\n",
      "0          0         1    8437.673028         42    bachelor's degree   \n",
      "1          1         1    4024.803754         36  secondary education   \n",
      "2          2         0    5623.422610         33  secondary education   \n",
      "3          3         3    4124.747207         32  secondary education   \n",
      "4          5         0     926.185831         27    bachelor's degree   \n",
      "...      ...       ...            ...        ...                  ...   \n",
      "17851  21519         1    2351.431934         37      graduate degree   \n",
      "17852  21520         1    4529.316663         43  secondary education   \n",
      "17853  21522         1    2113.346888         38  secondary education   \n",
      "17854  21523         3    3112.481705         38  secondary education   \n",
      "17855  21524         2    1984.507589         40  secondary education   \n",
      "\n",
      "       education_id      family_status  family_status_id gender income_type  \\\n",
      "0                 0            married                 0      F    employee   \n",
      "1                 1            married                 0      F    employee   \n",
      "2                 1            married                 0      M    employee   \n",
      "3                 1            married                 0      M    employee   \n",
      "4                 0  civil partnership                 1      M    business   \n",
      "...             ...                ...               ...    ...         ...   \n",
      "17851             4           divorced                 3      M    employee   \n",
      "17852             1  civil partnership                 1      F    business   \n",
      "17853             1  civil partnership                 1      M    employee   \n",
      "17854             1            married                 0      M    employee   \n",
      "17855             1            married                 0      F    employee   \n",
      "\n",
      "       debt  total_income                     purpose age_group  \n",
      "0         0     40620.102       purchase of the house    adulto  \n",
      "1         0     17932.802                car purchase    adulto  \n",
      "2         0     23341.752       purchase of the house     joven  \n",
      "3         0     42820.568     supplementary education     joven  \n",
      "4         0     40922.170       purchase of the house     joven  \n",
      "...     ...           ...                         ...       ...  \n",
      "17851     0     18551.846  buy commercial real estate    adulto  \n",
      "17852     0     35966.698        housing transactions    adulto  \n",
      "17853     1     14347.610                    property    adulto  \n",
      "17854     1     39054.888           buying my own car    adulto  \n",
      "17855     0     13127.587                to buy a car    adulto  \n",
      "\n",
      "[17856 rows x 14 columns]\n"
     ]
    }
   ],
   "source": [
    "#  Escribe una función que usaremos para completar los valores ausentes\n",
    "\n",
    "def reemplazar_nas_median(credit_proyect):\n",
    "    median_values = credit_proyect.groupby(\"age_group\")['total_income'].median()\n",
    "    \n",
    "    credit_proyect.loc[(credit_proyect[\"age_group\"] == \"joven\") & credit_proyect['total_income'].isna(), 'total_income'] = median_values.loc[\"joven\"]\n",
    "    credit_proyect.loc[(credit_proyect[\"age_group\"] == \"adulto\") & credit_proyect['total_income'].isna(), 'total_income'] = median_values.loc[\"adulto\"]\n",
    "    credit_proyect.loc[(credit_proyect[\"age_group\"] == \"adulto mayor\") & credit_proyect['total_income'].isna(), 'total_income'] = median_values.loc[\"adulto mayor\"]\n",
    "    return credit_proyect\n",
    "\n",
    "print(reemplazar_nas_median(credit_proyect))\n",
    "\n",
    "\n",
    "\n"
   ]
  },
  {
   "cell_type": "code",
   "execution_count": 71,
   "metadata": {},
   "outputs": [
    {
     "data": {
      "text/plain": [
       "0"
      ]
     },
     "execution_count": 71,
     "metadata": {},
     "output_type": "execute_result"
    }
   ],
   "source": [
    "# Comprueba si funciona\n",
    "credit_proyect['total_income'].isna().sum()"
   ]
  },
  {
   "cell_type": "code",
   "execution_count": 72,
   "metadata": {},
   "outputs": [],
   "source": [
    "# Aplícalo a cada fila\n",
    "# Creo que ya se aplicó a cada fila"
   ]
  },
  {
   "cell_type": "code",
   "execution_count": 73,
   "metadata": {},
   "outputs": [
    {
     "data": {
      "text/plain": [
       "0        False\n",
       "1        False\n",
       "2        False\n",
       "3        False\n",
       "4        False\n",
       "         ...  \n",
       "17851    False\n",
       "17852    False\n",
       "17853    False\n",
       "17854    False\n",
       "17855    False\n",
       "Name: total_income, Length: 17856, dtype: bool"
      ]
     },
     "execution_count": 73,
     "metadata": {},
     "output_type": "execute_result"
    }
   ],
   "source": [
    "# Comprueba si tenemos algún error\n",
    "credit_proyect['total_income'].isnull()"
   ]
  },
  {
   "cell_type": "code",
   "execution_count": 74,
   "metadata": {},
   "outputs": [
    {
     "data": {
      "text/plain": [
       "count     17856.000000\n",
       "mean      27437.398437\n",
       "std       16032.238753\n",
       "min        3418.824000\n",
       "25%       18129.348500\n",
       "50%       24547.677000\n",
       "75%       32011.075250\n",
       "max      362496.645000\n",
       "Name: total_income, dtype: float64"
      ]
     },
     "execution_count": 74,
     "metadata": {},
     "output_type": "execute_result"
    }
   ],
   "source": [
    "credit_proyect['total_income'].describe()"
   ]
  },
  {
   "cell_type": "code",
   "execution_count": 75,
   "metadata": {},
   "outputs": [
    {
     "name": "stdout",
     "output_type": "stream",
     "text": [
      "<class 'pandas.core.frame.DataFrame'>\n",
      "RangeIndex: 17856 entries, 0 to 17855\n",
      "Data columns (total 14 columns):\n",
      " #   Column            Non-Null Count  Dtype  \n",
      "---  ------            --------------  -----  \n",
      " 0   index             17856 non-null  int64  \n",
      " 1   children          17856 non-null  int64  \n",
      " 2   days_employed     15772 non-null  float64\n",
      " 3   dob_years         17856 non-null  int64  \n",
      " 4   education         17856 non-null  object \n",
      " 5   education_id      17856 non-null  int64  \n",
      " 6   family_status     17856 non-null  object \n",
      " 7   family_status_id  17856 non-null  int64  \n",
      " 8   gender            17856 non-null  object \n",
      " 9   income_type       17856 non-null  object \n",
      " 10  debt              17856 non-null  int64  \n",
      " 11  total_income      17856 non-null  int64  \n",
      " 12  purpose           17856 non-null  object \n",
      " 13  age_group         17856 non-null  object \n",
      "dtypes: float64(1), int64(7), object(6)\n",
      "memory usage: 1.9+ MB\n"
     ]
    }
   ],
   "source": [
    "#Se cambian el tipo de dato en \"total_income\" de float64 a int64\n",
    "credit_proyect['total_income'] = credit_proyect['total_income'].astype('int')\n",
    "\n",
    "credit_proyect.info()"
   ]
  },
  {
   "cell_type": "markdown",
   "metadata": {},
   "source": [
    "[Si has encontrado errores al preparar los valores para los datos ausentes, probablemente signifique que hay algo especial en los datos de la categoría. Piénsalo un poco: tal vez hará falta arreglar algunas cosas manualmente, si hay suficientes datos para encontrar medianas/medias.]\n",
    "\n",
    "-**Al parecer ya se reemplazaron los valores ausentes**\n"
   ]
  },
  {
   "cell_type": "code",
   "execution_count": 76,
   "metadata": {},
   "outputs": [
    {
     "name": "stdout",
     "output_type": "stream",
     "text": [
      "0        40620\n",
      "1        17932\n",
      "2        23341\n",
      "3        42820\n",
      "4        40922\n",
      "         ...  \n",
      "17851    18551\n",
      "17852    35966\n",
      "17853    14347\n",
      "17854    39054\n",
      "17855    13127\n",
      "Name: total_income, Length: 17856, dtype: int64\n"
     ]
    }
   ],
   "source": [
    "# Reemplazar los valores ausentes si hay algún error\n",
    "# No encontré errores al reemplazar los valores ausentes\n",
    "print(credit_proyect['total_income'])"
   ]
  },
  {
   "cell_type": "markdown",
   "metadata": {},
   "source": [
    "[Cuando creas que has terminado con `total_income`, comprueba que el número total de valores en esta columna coincida con el número de valores en otras columnas.]"
   ]
  },
  {
   "cell_type": "code",
   "execution_count": 77,
   "metadata": {},
   "outputs": [
    {
     "name": "stdout",
     "output_type": "stream",
     "text": [
      "<class 'pandas.core.frame.DataFrame'>\n",
      "RangeIndex: 17856 entries, 0 to 17855\n",
      "Data columns (total 14 columns):\n",
      " #   Column            Non-Null Count  Dtype  \n",
      "---  ------            --------------  -----  \n",
      " 0   index             17856 non-null  int64  \n",
      " 1   children          17856 non-null  int64  \n",
      " 2   days_employed     15772 non-null  float64\n",
      " 3   dob_years         17856 non-null  int64  \n",
      " 4   education         17856 non-null  object \n",
      " 5   education_id      17856 non-null  int64  \n",
      " 6   family_status     17856 non-null  object \n",
      " 7   family_status_id  17856 non-null  int64  \n",
      " 8   gender            17856 non-null  object \n",
      " 9   income_type       17856 non-null  object \n",
      " 10  debt              17856 non-null  int64  \n",
      " 11  total_income      17856 non-null  int64  \n",
      " 12  purpose           17856 non-null  object \n",
      " 13  age_group         17856 non-null  object \n",
      "dtypes: float64(1), int64(7), object(6)\n",
      "memory usage: 1.9+ MB\n"
     ]
    }
   ],
   "source": [
    "# Comprobar el número de entradas en las columnas\n",
    "credit_proyect.info()\n"
   ]
  },
  {
   "cell_type": "markdown",
   "metadata": {},
   "source": [
    "###  Restaurar valores en `days_employed`"
   ]
  },
  {
   "cell_type": "markdown",
   "metadata": {},
   "source": [
    "[Piensa en los parámetros que pueden ayudarte a restaurar los valores ausentes en esta columna. Eventualmente, tendrás que averiguar si debes usar valores medios o medianos para reemplazar los valores ausentes. Probablemente llevarás a cabo una investigación similar a la que realizaste cuando restauraste los datos en la columna anterior.]\n",
    "\n",
    "- Realizaremos el mismo metodo que hicimos para total_income"
   ]
  },
  {
   "cell_type": "code",
   "execution_count": 78,
   "metadata": {
    "pycharm": {
     "name": "#%%\n"
    }
   },
   "outputs": [
    {
     "name": "stdout",
     "output_type": "stream",
     "text": [
      "1631.7857046793995\n"
     ]
    }
   ],
   "source": [
    "# Distribución de las medianas de `days_employed` en función de los parámetros identificados\n",
    "print(credit_proyect_clean['days_employed'].median())\n"
   ]
  },
  {
   "cell_type": "code",
   "execution_count": 79,
   "metadata": {},
   "outputs": [
    {
     "name": "stdout",
     "output_type": "stream",
     "text": [
      "2354.5061640850236\n"
     ]
    }
   ],
   "source": [
    "# Distribución de las medias de `days_employed` en función de los parámetros identificados\n",
    "print(credit_proyect_clean['days_employed'].mean())\n",
    "\n"
   ]
  },
  {
   "cell_type": "markdown",
   "metadata": {},
   "source": [
    "[Decide qué vas a utilizar: medias o medianas. Explica por qué.]\n",
    "- Ocuparé la media, ya que es el valor que está mas en el medio entre la mínima y la máxima."
   ]
  },
  {
   "cell_type": "code",
   "execution_count": 80,
   "metadata": {
    "scrolled": true
   },
   "outputs": [
    {
     "data": {
      "text/plain": [
       "income_type\n",
       "business            2117.879986\n",
       "civil servant       3387.514221\n",
       "employee            2327.164891\n",
       "entrepreneur         520.848083\n",
       "paternitys leave    3296.759962\n",
       "retiree                     NaN\n",
       "student              578.751554\n",
       "Name: days_employed, dtype: float64"
      ]
     },
     "execution_count": 80,
     "metadata": {},
     "output_type": "execute_result"
    }
   ],
   "source": [
    "mean_values_days = credit_proyect.groupby(\"income_type\")['days_employed'].mean()\n",
    "mean_values_days"
   ]
  },
  {
   "cell_type": "code",
   "execution_count": 81,
   "metadata": {},
   "outputs": [
    {
     "data": {
      "text/html": [
       "<div>\n",
       "<style scoped>\n",
       "    .dataframe tbody tr th:only-of-type {\n",
       "        vertical-align: middle;\n",
       "    }\n",
       "\n",
       "    .dataframe tbody tr th {\n",
       "        vertical-align: top;\n",
       "    }\n",
       "\n",
       "    .dataframe thead th {\n",
       "        text-align: right;\n",
       "    }\n",
       "</style>\n",
       "<table border=\"1\" class=\"dataframe\">\n",
       "  <thead>\n",
       "    <tr style=\"text-align: right;\">\n",
       "      <th></th>\n",
       "      <th>index</th>\n",
       "      <th>children</th>\n",
       "      <th>days_employed</th>\n",
       "      <th>dob_years</th>\n",
       "      <th>education</th>\n",
       "      <th>education_id</th>\n",
       "      <th>family_status</th>\n",
       "      <th>family_status_id</th>\n",
       "      <th>gender</th>\n",
       "      <th>income_type</th>\n",
       "      <th>debt</th>\n",
       "      <th>total_income</th>\n",
       "      <th>purpose</th>\n",
       "      <th>age_group</th>\n",
       "    </tr>\n",
       "  </thead>\n",
       "  <tbody>\n",
       "    <tr>\n",
       "      <th>0</th>\n",
       "      <td>0</td>\n",
       "      <td>1</td>\n",
       "      <td>8437.673028</td>\n",
       "      <td>42</td>\n",
       "      <td>bachelor's degree</td>\n",
       "      <td>0</td>\n",
       "      <td>married</td>\n",
       "      <td>0</td>\n",
       "      <td>F</td>\n",
       "      <td>employee</td>\n",
       "      <td>0</td>\n",
       "      <td>40620</td>\n",
       "      <td>purchase of the house</td>\n",
       "      <td>adulto</td>\n",
       "    </tr>\n",
       "    <tr>\n",
       "      <th>1</th>\n",
       "      <td>1</td>\n",
       "      <td>1</td>\n",
       "      <td>4024.803754</td>\n",
       "      <td>36</td>\n",
       "      <td>secondary education</td>\n",
       "      <td>1</td>\n",
       "      <td>married</td>\n",
       "      <td>0</td>\n",
       "      <td>F</td>\n",
       "      <td>employee</td>\n",
       "      <td>0</td>\n",
       "      <td>17932</td>\n",
       "      <td>car purchase</td>\n",
       "      <td>adulto</td>\n",
       "    </tr>\n",
       "    <tr>\n",
       "      <th>2</th>\n",
       "      <td>2</td>\n",
       "      <td>0</td>\n",
       "      <td>5623.422610</td>\n",
       "      <td>33</td>\n",
       "      <td>secondary education</td>\n",
       "      <td>1</td>\n",
       "      <td>married</td>\n",
       "      <td>0</td>\n",
       "      <td>M</td>\n",
       "      <td>employee</td>\n",
       "      <td>0</td>\n",
       "      <td>23341</td>\n",
       "      <td>purchase of the house</td>\n",
       "      <td>joven</td>\n",
       "    </tr>\n",
       "    <tr>\n",
       "      <th>3</th>\n",
       "      <td>3</td>\n",
       "      <td>3</td>\n",
       "      <td>4124.747207</td>\n",
       "      <td>32</td>\n",
       "      <td>secondary education</td>\n",
       "      <td>1</td>\n",
       "      <td>married</td>\n",
       "      <td>0</td>\n",
       "      <td>M</td>\n",
       "      <td>employee</td>\n",
       "      <td>0</td>\n",
       "      <td>42820</td>\n",
       "      <td>supplementary education</td>\n",
       "      <td>joven</td>\n",
       "    </tr>\n",
       "    <tr>\n",
       "      <th>4</th>\n",
       "      <td>5</td>\n",
       "      <td>0</td>\n",
       "      <td>926.185831</td>\n",
       "      <td>27</td>\n",
       "      <td>bachelor's degree</td>\n",
       "      <td>0</td>\n",
       "      <td>civil partnership</td>\n",
       "      <td>1</td>\n",
       "      <td>M</td>\n",
       "      <td>business</td>\n",
       "      <td>0</td>\n",
       "      <td>40922</td>\n",
       "      <td>purchase of the house</td>\n",
       "      <td>joven</td>\n",
       "    </tr>\n",
       "    <tr>\n",
       "      <th>5</th>\n",
       "      <td>6</td>\n",
       "      <td>0</td>\n",
       "      <td>2879.202052</td>\n",
       "      <td>43</td>\n",
       "      <td>bachelor's degree</td>\n",
       "      <td>0</td>\n",
       "      <td>married</td>\n",
       "      <td>0</td>\n",
       "      <td>F</td>\n",
       "      <td>business</td>\n",
       "      <td>0</td>\n",
       "      <td>38484</td>\n",
       "      <td>housing transactions</td>\n",
       "      <td>adulto</td>\n",
       "    </tr>\n",
       "    <tr>\n",
       "      <th>6</th>\n",
       "      <td>7</td>\n",
       "      <td>0</td>\n",
       "      <td>152.779569</td>\n",
       "      <td>50</td>\n",
       "      <td>secondary education</td>\n",
       "      <td>1</td>\n",
       "      <td>married</td>\n",
       "      <td>0</td>\n",
       "      <td>M</td>\n",
       "      <td>employee</td>\n",
       "      <td>0</td>\n",
       "      <td>21731</td>\n",
       "      <td>education</td>\n",
       "      <td>adulto</td>\n",
       "    </tr>\n",
       "    <tr>\n",
       "      <th>7</th>\n",
       "      <td>8</td>\n",
       "      <td>2</td>\n",
       "      <td>6929.865299</td>\n",
       "      <td>35</td>\n",
       "      <td>bachelor's degree</td>\n",
       "      <td>0</td>\n",
       "      <td>civil partnership</td>\n",
       "      <td>1</td>\n",
       "      <td>F</td>\n",
       "      <td>employee</td>\n",
       "      <td>0</td>\n",
       "      <td>15337</td>\n",
       "      <td>having a wedding</td>\n",
       "      <td>joven</td>\n",
       "    </tr>\n",
       "    <tr>\n",
       "      <th>8</th>\n",
       "      <td>9</td>\n",
       "      <td>0</td>\n",
       "      <td>2188.756445</td>\n",
       "      <td>41</td>\n",
       "      <td>secondary education</td>\n",
       "      <td>1</td>\n",
       "      <td>married</td>\n",
       "      <td>0</td>\n",
       "      <td>M</td>\n",
       "      <td>employee</td>\n",
       "      <td>0</td>\n",
       "      <td>23108</td>\n",
       "      <td>purchase of the house for my family</td>\n",
       "      <td>adulto</td>\n",
       "    </tr>\n",
       "    <tr>\n",
       "      <th>9</th>\n",
       "      <td>10</td>\n",
       "      <td>2</td>\n",
       "      <td>4171.483647</td>\n",
       "      <td>36</td>\n",
       "      <td>bachelor's degree</td>\n",
       "      <td>0</td>\n",
       "      <td>married</td>\n",
       "      <td>0</td>\n",
       "      <td>M</td>\n",
       "      <td>business</td>\n",
       "      <td>0</td>\n",
       "      <td>18230</td>\n",
       "      <td>buy real estate</td>\n",
       "      <td>adulto</td>\n",
       "    </tr>\n",
       "    <tr>\n",
       "      <th>10</th>\n",
       "      <td>11</td>\n",
       "      <td>0</td>\n",
       "      <td>792.701887</td>\n",
       "      <td>40</td>\n",
       "      <td>secondary education</td>\n",
       "      <td>1</td>\n",
       "      <td>married</td>\n",
       "      <td>0</td>\n",
       "      <td>F</td>\n",
       "      <td>employee</td>\n",
       "      <td>0</td>\n",
       "      <td>12331</td>\n",
       "      <td>buy commercial real estate</td>\n",
       "      <td>adulto</td>\n",
       "    </tr>\n",
       "    <tr>\n",
       "      <th>11</th>\n",
       "      <td>12</td>\n",
       "      <td>0</td>\n",
       "      <td>NaN</td>\n",
       "      <td>65</td>\n",
       "      <td>secondary education</td>\n",
       "      <td>1</td>\n",
       "      <td>civil partnership</td>\n",
       "      <td>1</td>\n",
       "      <td>M</td>\n",
       "      <td>retiree</td>\n",
       "      <td>0</td>\n",
       "      <td>25501</td>\n",
       "      <td>to have a wedding</td>\n",
       "      <td>adulto mayor</td>\n",
       "    </tr>\n",
       "    <tr>\n",
       "      <th>12</th>\n",
       "      <td>13</td>\n",
       "      <td>0</td>\n",
       "      <td>1846.641941</td>\n",
       "      <td>54</td>\n",
       "      <td>some college</td>\n",
       "      <td>2</td>\n",
       "      <td>married</td>\n",
       "      <td>0</td>\n",
       "      <td>F</td>\n",
       "      <td>employee</td>\n",
       "      <td>0</td>\n",
       "      <td>20873</td>\n",
       "      <td>car purchase</td>\n",
       "      <td>adulto</td>\n",
       "    </tr>\n",
       "    <tr>\n",
       "      <th>13</th>\n",
       "      <td>14</td>\n",
       "      <td>0</td>\n",
       "      <td>1844.956182</td>\n",
       "      <td>56</td>\n",
       "      <td>bachelor's degree</td>\n",
       "      <td>0</td>\n",
       "      <td>civil partnership</td>\n",
       "      <td>1</td>\n",
       "      <td>F</td>\n",
       "      <td>business</td>\n",
       "      <td>1</td>\n",
       "      <td>26420</td>\n",
       "      <td>buy residential real estate</td>\n",
       "      <td>adulto</td>\n",
       "    </tr>\n",
       "    <tr>\n",
       "      <th>14</th>\n",
       "      <td>15</td>\n",
       "      <td>1</td>\n",
       "      <td>972.364419</td>\n",
       "      <td>26</td>\n",
       "      <td>secondary education</td>\n",
       "      <td>1</td>\n",
       "      <td>married</td>\n",
       "      <td>0</td>\n",
       "      <td>F</td>\n",
       "      <td>employee</td>\n",
       "      <td>0</td>\n",
       "      <td>18691</td>\n",
       "      <td>construction of own property</td>\n",
       "      <td>joven</td>\n",
       "    </tr>\n",
       "  </tbody>\n",
       "</table>\n",
       "</div>"
      ],
      "text/plain": [
       "    index  children  days_employed  dob_years            education  \\\n",
       "0       0         1    8437.673028         42    bachelor's degree   \n",
       "1       1         1    4024.803754         36  secondary education   \n",
       "2       2         0    5623.422610         33  secondary education   \n",
       "3       3         3    4124.747207         32  secondary education   \n",
       "4       5         0     926.185831         27    bachelor's degree   \n",
       "5       6         0    2879.202052         43    bachelor's degree   \n",
       "6       7         0     152.779569         50  secondary education   \n",
       "7       8         2    6929.865299         35    bachelor's degree   \n",
       "8       9         0    2188.756445         41  secondary education   \n",
       "9      10         2    4171.483647         36    bachelor's degree   \n",
       "10     11         0     792.701887         40  secondary education   \n",
       "11     12         0            NaN         65  secondary education   \n",
       "12     13         0    1846.641941         54         some college   \n",
       "13     14         0    1844.956182         56    bachelor's degree   \n",
       "14     15         1     972.364419         26  secondary education   \n",
       "\n",
       "    education_id      family_status  family_status_id gender income_type  \\\n",
       "0              0            married                 0      F    employee   \n",
       "1              1            married                 0      F    employee   \n",
       "2              1            married                 0      M    employee   \n",
       "3              1            married                 0      M    employee   \n",
       "4              0  civil partnership                 1      M    business   \n",
       "5              0            married                 0      F    business   \n",
       "6              1            married                 0      M    employee   \n",
       "7              0  civil partnership                 1      F    employee   \n",
       "8              1            married                 0      M    employee   \n",
       "9              0            married                 0      M    business   \n",
       "10             1            married                 0      F    employee   \n",
       "11             1  civil partnership                 1      M     retiree   \n",
       "12             2            married                 0      F    employee   \n",
       "13             0  civil partnership                 1      F    business   \n",
       "14             1            married                 0      F    employee   \n",
       "\n",
       "    debt  total_income                              purpose     age_group  \n",
       "0      0         40620                purchase of the house        adulto  \n",
       "1      0         17932                         car purchase        adulto  \n",
       "2      0         23341                purchase of the house         joven  \n",
       "3      0         42820              supplementary education         joven  \n",
       "4      0         40922                purchase of the house         joven  \n",
       "5      0         38484                 housing transactions        adulto  \n",
       "6      0         21731                            education        adulto  \n",
       "7      0         15337                     having a wedding         joven  \n",
       "8      0         23108  purchase of the house for my family        adulto  \n",
       "9      0         18230                      buy real estate        adulto  \n",
       "10     0         12331           buy commercial real estate        adulto  \n",
       "11     0         25501                    to have a wedding  adulto mayor  \n",
       "12     0         20873                         car purchase        adulto  \n",
       "13     1         26420          buy residential real estate        adulto  \n",
       "14     0         18691         construction of own property         joven  "
      ]
     },
     "execution_count": 81,
     "metadata": {},
     "output_type": "execute_result"
    }
   ],
   "source": [
    "credit_proyect.head(15)"
   ]
  },
  {
   "cell_type": "code",
   "execution_count": 82,
   "metadata": {},
   "outputs": [
    {
     "name": "stdout",
     "output_type": "stream",
     "text": [
      "       index  children  days_employed  dob_years            education  \\\n",
      "0          0         1    8437.673028         42    bachelor's degree   \n",
      "1          1         1    4024.803754         36  secondary education   \n",
      "2          2         0    5623.422610         33  secondary education   \n",
      "3          3         3    4124.747207         32  secondary education   \n",
      "4          5         0     926.185831         27    bachelor's degree   \n",
      "...      ...       ...            ...        ...                  ...   \n",
      "17851  21519         1    2351.431934         37      graduate degree   \n",
      "17852  21520         1    4529.316663         43  secondary education   \n",
      "17853  21522         1    2113.346888         38  secondary education   \n",
      "17854  21523         3    3112.481705         38  secondary education   \n",
      "17855  21524         2    1984.507589         40  secondary education   \n",
      "\n",
      "       education_id      family_status  family_status_id gender income_type  \\\n",
      "0                 0            married                 0      F    employee   \n",
      "1                 1            married                 0      F    employee   \n",
      "2                 1            married                 0      M    employee   \n",
      "3                 1            married                 0      M    employee   \n",
      "4                 0  civil partnership                 1      M    business   \n",
      "...             ...                ...               ...    ...         ...   \n",
      "17851             4           divorced                 3      M    employee   \n",
      "17852             1  civil partnership                 1      F    business   \n",
      "17853             1  civil partnership                 1      M    employee   \n",
      "17854             1            married                 0      M    employee   \n",
      "17855             1            married                 0      F    employee   \n",
      "\n",
      "       debt  total_income                     purpose age_group  \n",
      "0         0         40620       purchase of the house    adulto  \n",
      "1         0         17932                car purchase    adulto  \n",
      "2         0         23341       purchase of the house     joven  \n",
      "3         0         42820     supplementary education     joven  \n",
      "4         0         40922       purchase of the house     joven  \n",
      "...     ...           ...                         ...       ...  \n",
      "17851     0         18551  buy commercial real estate    adulto  \n",
      "17852     0         35966        housing transactions    adulto  \n",
      "17853     1         14347                    property    adulto  \n",
      "17854     1         39054           buying my own car    adulto  \n",
      "17855     0         13127                to buy a car    adulto  \n",
      "\n",
      "[17856 rows x 14 columns]\n"
     ]
    }
   ],
   "source": [
    "# Escribamos una función que calcule medias o medianas (dependiendo de tu decisión) según el parámetro identificado\n",
    "def reemplazar_nas_mean(credit_proyect):\n",
    "    mean_values = credit_proyect.groupby(\"income_type\")['days_employed'].mean()\n",
    "    \n",
    "    credit_proyect.loc[(credit_proyect[\"income_type\"] == \"business\") & credit_proyect['days_employed'].isna(), 'days_employed'] = mean_values.loc[\"business\"]\n",
    "    credit_proyect.loc[(credit_proyect[\"income_type\"] == \"civil servant\") & credit_proyect['days_employed'].isna(), 'days_employed'] = mean_values.loc[\"civil servant\"]\n",
    "    credit_proyect.loc[(credit_proyect[\"income_type\"] == \"employee\") & credit_proyect['days_employed'].isna(), 'days_employed'] = mean_values.loc[\"employee\"]\n",
    "    credit_proyect.loc[(credit_proyect[\"income_type\"] == \"entrepreneur\") & credit_proyect['days_employed'].isna(), 'days_employed'] = mean_values.loc[\"entrepreneur\"]\n",
    "    credit_proyect.loc[(credit_proyect[\"income_type\"] == \"paternitys leave\") & credit_proyect['days_employed'].isna(), 'days_employed'] = mean_values.loc[\"paternitys leave\"]\n",
    "    credit_proyect.loc[(credit_proyect[\"income_type\"] == \"retiree\") & credit_proyect['days_employed'].isna(), 'days_employed'] = mean_values.loc[\"employee\"]\n",
    "    credit_proyect.loc[(credit_proyect[\"income_type\"] == \"student\") & credit_proyect['days_employed'].isna(), 'days_employed'] = mean_values.loc[\"student\"]\n",
    "    return credit_proyect\n",
    "\n",
    "print(reemplazar_nas_mean(credit_proyect))\n"
   ]
  },
  {
   "cell_type": "code",
   "execution_count": 83,
   "metadata": {},
   "outputs": [
    {
     "data": {
      "text/plain": [
       "0"
      ]
     },
     "execution_count": 83,
     "metadata": {},
     "output_type": "execute_result"
    }
   ],
   "source": [
    "# Comprueba que la función funciona\n",
    "credit_proyect['days_employed'].isna().sum()\n"
   ]
  },
  {
   "cell_type": "code",
   "execution_count": 84,
   "metadata": {},
   "outputs": [
    {
     "data": {
      "text/plain": [
       "income_type\n",
       "business            2117.879986\n",
       "civil servant       3387.514221\n",
       "employee            2327.164891\n",
       "entrepreneur         520.848083\n",
       "paternitys leave    3296.759962\n",
       "retiree             2327.164891\n",
       "student              578.751554\n",
       "Name: days_employed, dtype: float64"
      ]
     },
     "execution_count": 84,
     "metadata": {},
     "output_type": "execute_result"
    }
   ],
   "source": [
    "# Aplicar la función al income_type\n",
    "\n",
    "credit_proyect.groupby(\"income_type\")['days_employed'].mean()\n"
   ]
  },
  {
   "cell_type": "code",
   "execution_count": 85,
   "metadata": {},
   "outputs": [
    {
     "data": {
      "text/plain": [
       "0        False\n",
       "1        False\n",
       "2        False\n",
       "3        False\n",
       "4        False\n",
       "         ...  \n",
       "17851    False\n",
       "17852    False\n",
       "17853    False\n",
       "17854    False\n",
       "17855    False\n",
       "Name: days_employed, Length: 17856, dtype: bool"
      ]
     },
     "execution_count": 85,
     "metadata": {},
     "output_type": "execute_result"
    }
   ],
   "source": [
    "# Comprueba si la función funcionó\n",
    "\n",
    "credit_proyect['days_employed'].isnull()"
   ]
  },
  {
   "cell_type": "code",
   "execution_count": 86,
   "metadata": {},
   "outputs": [],
   "source": [
    "# Reemplazar valores ausentes\n",
    "\n",
    "#Se reemplazaron"
   ]
  },
  {
   "cell_type": "markdown",
   "metadata": {},
   "source": [
    "[Cuando creas que has terminado con `total_income`, comprueba que el número total de valores en esta columna coincida con el número de valores en otras columnas.]"
   ]
  },
  {
   "cell_type": "code",
   "execution_count": 87,
   "metadata": {},
   "outputs": [
    {
     "name": "stdout",
     "output_type": "stream",
     "text": [
      "<class 'pandas.core.frame.DataFrame'>\n",
      "RangeIndex: 17856 entries, 0 to 17855\n",
      "Data columns (total 14 columns):\n",
      " #   Column            Non-Null Count  Dtype  \n",
      "---  ------            --------------  -----  \n",
      " 0   index             17856 non-null  int64  \n",
      " 1   children          17856 non-null  int64  \n",
      " 2   days_employed     17856 non-null  float64\n",
      " 3   dob_years         17856 non-null  int64  \n",
      " 4   education         17856 non-null  object \n",
      " 5   education_id      17856 non-null  int64  \n",
      " 6   family_status     17856 non-null  object \n",
      " 7   family_status_id  17856 non-null  int64  \n",
      " 8   gender            17856 non-null  object \n",
      " 9   income_type       17856 non-null  object \n",
      " 10  debt              17856 non-null  int64  \n",
      " 11  total_income      17856 non-null  int64  \n",
      " 12  purpose           17856 non-null  object \n",
      " 13  age_group         17856 non-null  object \n",
      "dtypes: float64(1), int64(7), object(6)\n",
      "memory usage: 1.9+ MB\n"
     ]
    }
   ],
   "source": [
    "# Comprueba las entradas en todas las columnas: asegúrate de que hayamos corregido todos los valores ausentes\n",
    "credit_proyect.info()"
   ]
  },
  {
   "cell_type": "code",
   "execution_count": 88,
   "metadata": {},
   "outputs": [
    {
     "name": "stdout",
     "output_type": "stream",
     "text": [
      "<class 'pandas.core.frame.DataFrame'>\n",
      "RangeIndex: 17856 entries, 0 to 17855\n",
      "Data columns (total 14 columns):\n",
      " #   Column            Non-Null Count  Dtype \n",
      "---  ------            --------------  ----- \n",
      " 0   index             17856 non-null  int64 \n",
      " 1   children          17856 non-null  int64 \n",
      " 2   days_employed     17856 non-null  int64 \n",
      " 3   dob_years         17856 non-null  int64 \n",
      " 4   education         17856 non-null  object\n",
      " 5   education_id      17856 non-null  int64 \n",
      " 6   family_status     17856 non-null  object\n",
      " 7   family_status_id  17856 non-null  int64 \n",
      " 8   gender            17856 non-null  object\n",
      " 9   income_type       17856 non-null  object\n",
      " 10  debt              17856 non-null  int64 \n",
      " 11  total_income      17856 non-null  int64 \n",
      " 12  purpose           17856 non-null  object\n",
      " 13  age_group         17856 non-null  object\n",
      "dtypes: int64(8), object(6)\n",
      "memory usage: 1.9+ MB\n"
     ]
    }
   ],
   "source": [
    "credit_proyect['days_employed'] = credit_proyect['days_employed'].astype('int')\n",
    "\n",
    "credit_proyect.info()"
   ]
  },
  {
   "cell_type": "markdown",
   "metadata": {},
   "source": [
    "## Clasificación de datos\n",
    "\n",
    "[Para poder responder a las preguntas y probar las diferentes hipótesis, querrás trabajar con datos clasificados. Mira las preguntas formuladas que debes responder. Piensa qué parte de los datos tiene que ser clasificada para responder a estas preguntas. A continuación, encontrarás una plantilla a través de la cual puedes trabajar para clasificar los datos. El primer procesamiento paso a paso cubre los datos de texto; el segundo aborda los datos numéricos que necesitan ser clasificados. Puedes usar ambas o ninguna de las instrucciones sugeridas, eso solo depende de ti.]\n",
    "\n",
    "[Independientemente de cómo decidas abordar la clasificación, asegúrate de proporcionar una explicación clara de la razón por la que tomaste tu decisión. Recuerda: este es tu trabajo y aquí tú tomas todas las decisiones.]\n",
    "\n",
    "- Tomé la determinación de trabajar clasificando los datos por categóricos y otra clasificación con datos numéricos. Para tener un orden y poder ir respondiendo las hipotesis\n"
   ]
  },
  {
   "cell_type": "code",
   "execution_count": 89,
   "metadata": {
    "scrolled": true
   },
   "outputs": [
    {
     "data": {
      "text/html": [
       "<div>\n",
       "<style scoped>\n",
       "    .dataframe tbody tr th:only-of-type {\n",
       "        vertical-align: middle;\n",
       "    }\n",
       "\n",
       "    .dataframe tbody tr th {\n",
       "        vertical-align: top;\n",
       "    }\n",
       "\n",
       "    .dataframe thead th {\n",
       "        text-align: right;\n",
       "    }\n",
       "</style>\n",
       "<table border=\"1\" class=\"dataframe\">\n",
       "  <thead>\n",
       "    <tr style=\"text-align: right;\">\n",
       "      <th></th>\n",
       "      <th>purpose</th>\n",
       "      <th>family_status</th>\n",
       "    </tr>\n",
       "  </thead>\n",
       "  <tbody>\n",
       "    <tr>\n",
       "      <th>0</th>\n",
       "      <td>purchase of the house</td>\n",
       "      <td>married</td>\n",
       "    </tr>\n",
       "    <tr>\n",
       "      <th>1</th>\n",
       "      <td>car purchase</td>\n",
       "      <td>married</td>\n",
       "    </tr>\n",
       "    <tr>\n",
       "      <th>2</th>\n",
       "      <td>purchase of the house</td>\n",
       "      <td>married</td>\n",
       "    </tr>\n",
       "    <tr>\n",
       "      <th>3</th>\n",
       "      <td>supplementary education</td>\n",
       "      <td>married</td>\n",
       "    </tr>\n",
       "    <tr>\n",
       "      <th>4</th>\n",
       "      <td>purchase of the house</td>\n",
       "      <td>civil partnership</td>\n",
       "    </tr>\n",
       "    <tr>\n",
       "      <th>...</th>\n",
       "      <td>...</td>\n",
       "      <td>...</td>\n",
       "    </tr>\n",
       "    <tr>\n",
       "      <th>17851</th>\n",
       "      <td>buy commercial real estate</td>\n",
       "      <td>divorced</td>\n",
       "    </tr>\n",
       "    <tr>\n",
       "      <th>17852</th>\n",
       "      <td>housing transactions</td>\n",
       "      <td>civil partnership</td>\n",
       "    </tr>\n",
       "    <tr>\n",
       "      <th>17853</th>\n",
       "      <td>property</td>\n",
       "      <td>civil partnership</td>\n",
       "    </tr>\n",
       "    <tr>\n",
       "      <th>17854</th>\n",
       "      <td>buying my own car</td>\n",
       "      <td>married</td>\n",
       "    </tr>\n",
       "    <tr>\n",
       "      <th>17855</th>\n",
       "      <td>to buy a car</td>\n",
       "      <td>married</td>\n",
       "    </tr>\n",
       "  </tbody>\n",
       "</table>\n",
       "<p>17856 rows × 2 columns</p>\n",
       "</div>"
      ],
      "text/plain": [
       "                          purpose      family_status\n",
       "0           purchase of the house            married\n",
       "1                    car purchase            married\n",
       "2           purchase of the house            married\n",
       "3         supplementary education            married\n",
       "4           purchase of the house  civil partnership\n",
       "...                           ...                ...\n",
       "17851  buy commercial real estate           divorced\n",
       "17852        housing transactions  civil partnership\n",
       "17853                    property  civil partnership\n",
       "17854           buying my own car            married\n",
       "17855                to buy a car            married\n",
       "\n",
       "[17856 rows x 2 columns]"
      ]
     },
     "execution_count": 89,
     "metadata": {},
     "output_type": "execute_result"
    }
   ],
   "source": [
    "# Muestra los valores de los datos seleccionados para la clasificación\n",
    "# Datos Categóricos.\n",
    "grupo1 = credit_proyect[['purpose', \"family_status\"]]\n",
    "grupo1\n"
   ]
  },
  {
   "cell_type": "markdown",
   "metadata": {},
   "source": [
    "[Vamos a comprobar los valores únicos]"
   ]
  },
  {
   "cell_type": "code",
   "execution_count": 90,
   "metadata": {},
   "outputs": [
    {
     "name": "stdout",
     "output_type": "stream",
     "text": [
      "['purchase of the house' 'car purchase' 'supplementary education'\n",
      " 'housing transactions' 'education' 'having a wedding'\n",
      " 'purchase of the house for my family' 'buy real estate'\n",
      " 'buy commercial real estate' 'to have a wedding'\n",
      " 'buy residential real estate' 'construction of own property' 'property'\n",
      " 'building a property' 'buying my own car' 'buying a second-hand car'\n",
      " 'building a real estate' 'housing' 'transactions with my real estate'\n",
      " 'cars' 'to become educated' 'second-hand car purchase'\n",
      " 'getting an education' 'car' 'wedding ceremony'\n",
      " 'to get a supplementary education' 'purchase of my own house'\n",
      " 'real estate transactions' 'getting higher education'\n",
      " 'transactions with commercial real estate' 'to own a car'\n",
      " 'purchase of a car' 'profile education' 'university education'\n",
      " 'to buy a car' 'buying property for renting out' 'housing renovation'\n",
      " 'going to university']\n",
      "-----\n",
      "['married' 'civil partnership' 'divorced' 'unmarried' 'widow / widower']\n"
     ]
    }
   ],
   "source": [
    "# Comprobar los valores únicos\n",
    "print(grupo1['purpose'].unique())\n",
    "print(\"-----\")\n",
    "print(grupo1[\"family_status\"].unique())"
   ]
  },
  {
   "cell_type": "code",
   "execution_count": 91,
   "metadata": {},
   "outputs": [
    {
     "data": {
      "text/plain": [
       "17856"
      ]
     },
     "execution_count": 91,
     "metadata": {},
     "output_type": "execute_result"
    }
   ],
   "source": [
    "grupo1['purpose'].count()"
   ]
  },
  {
   "cell_type": "code",
   "execution_count": 92,
   "metadata": {},
   "outputs": [
    {
     "data": {
      "text/plain": [
       "wedding ceremony                            664\n",
       "having a wedding                            634\n",
       "to have a wedding                           629\n",
       "real estate transactions                    559\n",
       "buy commercial real estate                  551\n",
       "housing transactions                        548\n",
       "buying property for renting out             546\n",
       "transactions with commercial real estate    538\n",
       "purchase of my own house                    538\n",
       "property                                    537\n",
       "housing                                     535\n",
       "purchase of the house for my family         529\n",
       "transactions with my real estate            529\n",
       "construction of own property                528\n",
       "purchase of the house                       527\n",
       "building a property                         523\n",
       "buy residential real estate                 516\n",
       "buy real estate                             514\n",
       "housing renovation                          512\n",
       "building a real estate                      508\n",
       "buying my own car                           432\n",
       "going to university                         418\n",
       "second-hand car purchase                    402\n",
       "to own a car                                399\n",
       "car                                         399\n",
       "cars                                        395\n",
       "buying a second-hand car                    388\n",
       "to buy a car                                382\n",
       "car purchase                                382\n",
       "purchase of a car                           380\n",
       "university education                        375\n",
       "supplementary education                     373\n",
       "education                                   370\n",
       "getting an education                        365\n",
       "to get a supplementary education            364\n",
       "profile education                           363\n",
       "getting higher education                    356\n",
       "to become educated                          348\n",
       "Name: purpose, dtype: int64"
      ]
     },
     "execution_count": 92,
     "metadata": {},
     "output_type": "execute_result"
    }
   ],
   "source": [
    "grupo1['purpose'].value_counts()"
   ]
  },
  {
   "cell_type": "markdown",
   "metadata": {},
   "source": [
    "[¿Qué grupos principales puedes identificar en función de los valores únicos?]\n",
    "- Hay muchos datos que podriamos agrupar por valores únicos. Por ejemplo: Comprar una casa, Construir una casa propia. Ambas podrían estar en la categoria de Propiedad.\n",
    "\n",
    "[Según estos temas, probablemente querremos clasificar nuestros datos.]\n"
   ]
  },
  {
   "cell_type": "code",
   "execution_count": 93,
   "metadata": {},
   "outputs": [],
   "source": [
    "# Escribamos una función para clasificar los datos en función de temas comunes\n",
    "def tem_com(comun):\n",
    "    if comun == 'purchase of the house' or comun == \"purchase of the house for my family\" or comun == \"construction of own property\" or comun == \"property\" or comun == \"building a property\" or comun == \"purchase of my own house\" or comun == \"housing renovation\" or comun == \"housing\":\n",
    "        return \"propiedad\"\n",
    "    if comun == \"car purchase\" or comun == \"buying a second-hand car\" or comun == \"buying my own car\" or comun == \"cars\" or comun == \"second-hand car purchase\" or comun == \"car\" or comun == \"to own a car\" or comun == \"purchase of a car\" or comun == \"to buy a car\":\n",
    "        return \"vehiculo\"\n",
    "    if comun == \"supplementary education\" or comun == \"education\" or comun == \"to become educated\" or comun == \"getting an education\" or comun == \"to get a supplementary education\" or comun == \"getting higher education\" or comun == \"profile education\" or comun == \"university education\" or comun == \"going to university\":\n",
    "        return \"educacion\"\n",
    "    if comun == \"to have a wedding\" or comun == \"having a wedding\" or comun == \"wedding ceremony\":\n",
    "        return \"matrimonio\"\n",
    "    if comun == \"housing transactions\" or comun == \"buy real estate\" or comun == \"buy commercial real estate\" or comun == \"buy residential real estate\" or comun == \"transactions with commercial real estate\" or comun == \"building a real estate\" or comun == \"transactions with my real estate\" or comun == \"real estate transactions\" or comun == \"buying property for renting out\":\n",
    "        return \"negocio\""
   ]
  },
  {
   "cell_type": "code",
   "execution_count": 94,
   "metadata": {
    "scrolled": true
   },
   "outputs": [
    {
     "data": {
      "text/plain": [
       "negocio       4809\n",
       "propiedad     4229\n",
       "vehiculo      3559\n",
       "educacion     3332\n",
       "matrimonio    1927\n",
       "Name: category, dtype: int64"
      ]
     },
     "execution_count": 94,
     "metadata": {},
     "output_type": "execute_result"
    }
   ],
   "source": [
    "# Crea una columna con las categorías y cuenta los valores en ellas\n",
    "credit_proyect['category'] = credit_proyect['purpose'].apply(tem_com)\n",
    "credit_proyect['category'].value_counts()"
   ]
  },
  {
   "cell_type": "code",
   "execution_count": 95,
   "metadata": {},
   "outputs": [
    {
     "data": {
      "text/plain": [
       "17856"
      ]
     },
     "execution_count": 95,
     "metadata": {},
     "output_type": "execute_result"
    }
   ],
   "source": [
    "credit_proyect['category'].count()"
   ]
  },
  {
   "cell_type": "markdown",
   "metadata": {},
   "source": [
    "[Si decides clasificar los datos numéricos, también tendrás que crear las categorías para ello.]"
   ]
  },
  {
   "cell_type": "code",
   "execution_count": 96,
   "metadata": {},
   "outputs": [],
   "source": [
    "# Revisar todos los datos numéricos en la columna seleccionada para la clasificación\n",
    "# La siguiente clasificación son datos numéricos que pueden servir para responder las hipotesis\n",
    "grupo2 = credit_proyect[[\"children\", \"debt\", \"total_income\"]]"
   ]
  },
  {
   "cell_type": "code",
   "execution_count": 97,
   "metadata": {},
   "outputs": [
    {
     "data": {
      "text/html": [
       "<div>\n",
       "<style scoped>\n",
       "    .dataframe tbody tr th:only-of-type {\n",
       "        vertical-align: middle;\n",
       "    }\n",
       "\n",
       "    .dataframe tbody tr th {\n",
       "        vertical-align: top;\n",
       "    }\n",
       "\n",
       "    .dataframe thead th {\n",
       "        text-align: right;\n",
       "    }\n",
       "</style>\n",
       "<table border=\"1\" class=\"dataframe\">\n",
       "  <thead>\n",
       "    <tr style=\"text-align: right;\">\n",
       "      <th></th>\n",
       "      <th>children</th>\n",
       "      <th>debt</th>\n",
       "      <th>total_income</th>\n",
       "    </tr>\n",
       "  </thead>\n",
       "  <tbody>\n",
       "    <tr>\n",
       "      <th>count</th>\n",
       "      <td>17856.000000</td>\n",
       "      <td>17856.000000</td>\n",
       "      <td>17856.000000</td>\n",
       "    </tr>\n",
       "    <tr>\n",
       "      <th>mean</th>\n",
       "      <td>0.548499</td>\n",
       "      <td>0.086470</td>\n",
       "      <td>27436.874552</td>\n",
       "    </tr>\n",
       "    <tr>\n",
       "      <th>std</th>\n",
       "      <td>0.786970</td>\n",
       "      <td>0.281064</td>\n",
       "      <td>16032.245725</td>\n",
       "    </tr>\n",
       "    <tr>\n",
       "      <th>min</th>\n",
       "      <td>0.000000</td>\n",
       "      <td>0.000000</td>\n",
       "      <td>3418.000000</td>\n",
       "    </tr>\n",
       "    <tr>\n",
       "      <th>25%</th>\n",
       "      <td>0.000000</td>\n",
       "      <td>0.000000</td>\n",
       "      <td>18129.000000</td>\n",
       "    </tr>\n",
       "    <tr>\n",
       "      <th>50%</th>\n",
       "      <td>0.000000</td>\n",
       "      <td>0.000000</td>\n",
       "      <td>24547.000000</td>\n",
       "    </tr>\n",
       "    <tr>\n",
       "      <th>75%</th>\n",
       "      <td>1.000000</td>\n",
       "      <td>0.000000</td>\n",
       "      <td>32010.750000</td>\n",
       "    </tr>\n",
       "    <tr>\n",
       "      <th>max</th>\n",
       "      <td>5.000000</td>\n",
       "      <td>1.000000</td>\n",
       "      <td>362496.000000</td>\n",
       "    </tr>\n",
       "  </tbody>\n",
       "</table>\n",
       "</div>"
      ],
      "text/plain": [
       "           children          debt   total_income\n",
       "count  17856.000000  17856.000000   17856.000000\n",
       "mean       0.548499      0.086470   27436.874552\n",
       "std        0.786970      0.281064   16032.245725\n",
       "min        0.000000      0.000000    3418.000000\n",
       "25%        0.000000      0.000000   18129.000000\n",
       "50%        0.000000      0.000000   24547.000000\n",
       "75%        1.000000      0.000000   32010.750000\n",
       "max        5.000000      1.000000  362496.000000"
      ]
     },
     "execution_count": 97,
     "metadata": {},
     "output_type": "execute_result"
    }
   ],
   "source": [
    "# Obtener estadísticas resumidas para la columna\n",
    "grupo2.describe()\n"
   ]
  },
  {
   "cell_type": "markdown",
   "metadata": {},
   "source": [
    "[Decide qué rangos utilizarás para agrupar y explica por qué.]\n",
    "\n",
    "- Decidí agrupar la total_income y clasificarlo en rangos de sueldos, ya que es donde están las diferencias de datos mas grandes entre mínimo y máximo. Además son muchisimos datos, por lo que lo mejor es agruparlos por rango."
   ]
  },
  {
   "cell_type": "code",
   "execution_count": 98,
   "metadata": {},
   "outputs": [
    {
     "name": "stdout",
     "output_type": "stream",
     "text": [
      "salario medio\n"
     ]
    }
   ],
   "source": [
    "# Crear una función para clasificar en diferentes grupos numéricos basándose en rangos\n",
    "def salary_range(salary):\n",
    "    if salary <= 30000:\n",
    "        return \"salario bajo\"\n",
    "    if salary <= 180000:\n",
    "        return \"salario medio\"\n",
    "    if salary <= 363000:\n",
    "        return \"salario alto\"\n",
    "    \n",
    "print(salary_range(180000))\n"
   ]
  },
  {
   "cell_type": "code",
   "execution_count": 99,
   "metadata": {},
   "outputs": [],
   "source": [
    "# Crear una columna con categorías\n",
    "credit_proyect['salary_level'] = credit_proyect['total_income'].apply(salary_range)"
   ]
  },
  {
   "cell_type": "code",
   "execution_count": 100,
   "metadata": {},
   "outputs": [
    {
     "data": {
      "text/html": [
       "<div>\n",
       "<style scoped>\n",
       "    .dataframe tbody tr th:only-of-type {\n",
       "        vertical-align: middle;\n",
       "    }\n",
       "\n",
       "    .dataframe tbody tr th {\n",
       "        vertical-align: top;\n",
       "    }\n",
       "\n",
       "    .dataframe thead th {\n",
       "        text-align: right;\n",
       "    }\n",
       "</style>\n",
       "<table border=\"1\" class=\"dataframe\">\n",
       "  <thead>\n",
       "    <tr style=\"text-align: right;\">\n",
       "      <th></th>\n",
       "      <th>index</th>\n",
       "      <th>children</th>\n",
       "      <th>days_employed</th>\n",
       "      <th>dob_years</th>\n",
       "      <th>education</th>\n",
       "      <th>education_id</th>\n",
       "      <th>family_status</th>\n",
       "      <th>family_status_id</th>\n",
       "      <th>gender</th>\n",
       "      <th>income_type</th>\n",
       "      <th>debt</th>\n",
       "      <th>total_income</th>\n",
       "      <th>purpose</th>\n",
       "      <th>age_group</th>\n",
       "      <th>category</th>\n",
       "      <th>salary_level</th>\n",
       "    </tr>\n",
       "  </thead>\n",
       "  <tbody>\n",
       "    <tr>\n",
       "      <th>0</th>\n",
       "      <td>0</td>\n",
       "      <td>1</td>\n",
       "      <td>8437</td>\n",
       "      <td>42</td>\n",
       "      <td>bachelor's degree</td>\n",
       "      <td>0</td>\n",
       "      <td>married</td>\n",
       "      <td>0</td>\n",
       "      <td>F</td>\n",
       "      <td>employee</td>\n",
       "      <td>0</td>\n",
       "      <td>40620</td>\n",
       "      <td>purchase of the house</td>\n",
       "      <td>adulto</td>\n",
       "      <td>propiedad</td>\n",
       "      <td>salario medio</td>\n",
       "    </tr>\n",
       "    <tr>\n",
       "      <th>1</th>\n",
       "      <td>1</td>\n",
       "      <td>1</td>\n",
       "      <td>4024</td>\n",
       "      <td>36</td>\n",
       "      <td>secondary education</td>\n",
       "      <td>1</td>\n",
       "      <td>married</td>\n",
       "      <td>0</td>\n",
       "      <td>F</td>\n",
       "      <td>employee</td>\n",
       "      <td>0</td>\n",
       "      <td>17932</td>\n",
       "      <td>car purchase</td>\n",
       "      <td>adulto</td>\n",
       "      <td>vehiculo</td>\n",
       "      <td>salario bajo</td>\n",
       "    </tr>\n",
       "    <tr>\n",
       "      <th>2</th>\n",
       "      <td>2</td>\n",
       "      <td>0</td>\n",
       "      <td>5623</td>\n",
       "      <td>33</td>\n",
       "      <td>secondary education</td>\n",
       "      <td>1</td>\n",
       "      <td>married</td>\n",
       "      <td>0</td>\n",
       "      <td>M</td>\n",
       "      <td>employee</td>\n",
       "      <td>0</td>\n",
       "      <td>23341</td>\n",
       "      <td>purchase of the house</td>\n",
       "      <td>joven</td>\n",
       "      <td>propiedad</td>\n",
       "      <td>salario bajo</td>\n",
       "    </tr>\n",
       "    <tr>\n",
       "      <th>3</th>\n",
       "      <td>3</td>\n",
       "      <td>3</td>\n",
       "      <td>4124</td>\n",
       "      <td>32</td>\n",
       "      <td>secondary education</td>\n",
       "      <td>1</td>\n",
       "      <td>married</td>\n",
       "      <td>0</td>\n",
       "      <td>M</td>\n",
       "      <td>employee</td>\n",
       "      <td>0</td>\n",
       "      <td>42820</td>\n",
       "      <td>supplementary education</td>\n",
       "      <td>joven</td>\n",
       "      <td>educacion</td>\n",
       "      <td>salario medio</td>\n",
       "    </tr>\n",
       "    <tr>\n",
       "      <th>4</th>\n",
       "      <td>5</td>\n",
       "      <td>0</td>\n",
       "      <td>926</td>\n",
       "      <td>27</td>\n",
       "      <td>bachelor's degree</td>\n",
       "      <td>0</td>\n",
       "      <td>civil partnership</td>\n",
       "      <td>1</td>\n",
       "      <td>M</td>\n",
       "      <td>business</td>\n",
       "      <td>0</td>\n",
       "      <td>40922</td>\n",
       "      <td>purchase of the house</td>\n",
       "      <td>joven</td>\n",
       "      <td>propiedad</td>\n",
       "      <td>salario medio</td>\n",
       "    </tr>\n",
       "    <tr>\n",
       "      <th>...</th>\n",
       "      <td>...</td>\n",
       "      <td>...</td>\n",
       "      <td>...</td>\n",
       "      <td>...</td>\n",
       "      <td>...</td>\n",
       "      <td>...</td>\n",
       "      <td>...</td>\n",
       "      <td>...</td>\n",
       "      <td>...</td>\n",
       "      <td>...</td>\n",
       "      <td>...</td>\n",
       "      <td>...</td>\n",
       "      <td>...</td>\n",
       "      <td>...</td>\n",
       "      <td>...</td>\n",
       "      <td>...</td>\n",
       "    </tr>\n",
       "    <tr>\n",
       "      <th>17851</th>\n",
       "      <td>21519</td>\n",
       "      <td>1</td>\n",
       "      <td>2351</td>\n",
       "      <td>37</td>\n",
       "      <td>graduate degree</td>\n",
       "      <td>4</td>\n",
       "      <td>divorced</td>\n",
       "      <td>3</td>\n",
       "      <td>M</td>\n",
       "      <td>employee</td>\n",
       "      <td>0</td>\n",
       "      <td>18551</td>\n",
       "      <td>buy commercial real estate</td>\n",
       "      <td>adulto</td>\n",
       "      <td>negocio</td>\n",
       "      <td>salario bajo</td>\n",
       "    </tr>\n",
       "    <tr>\n",
       "      <th>17852</th>\n",
       "      <td>21520</td>\n",
       "      <td>1</td>\n",
       "      <td>4529</td>\n",
       "      <td>43</td>\n",
       "      <td>secondary education</td>\n",
       "      <td>1</td>\n",
       "      <td>civil partnership</td>\n",
       "      <td>1</td>\n",
       "      <td>F</td>\n",
       "      <td>business</td>\n",
       "      <td>0</td>\n",
       "      <td>35966</td>\n",
       "      <td>housing transactions</td>\n",
       "      <td>adulto</td>\n",
       "      <td>negocio</td>\n",
       "      <td>salario medio</td>\n",
       "    </tr>\n",
       "    <tr>\n",
       "      <th>17853</th>\n",
       "      <td>21522</td>\n",
       "      <td>1</td>\n",
       "      <td>2113</td>\n",
       "      <td>38</td>\n",
       "      <td>secondary education</td>\n",
       "      <td>1</td>\n",
       "      <td>civil partnership</td>\n",
       "      <td>1</td>\n",
       "      <td>M</td>\n",
       "      <td>employee</td>\n",
       "      <td>1</td>\n",
       "      <td>14347</td>\n",
       "      <td>property</td>\n",
       "      <td>adulto</td>\n",
       "      <td>propiedad</td>\n",
       "      <td>salario bajo</td>\n",
       "    </tr>\n",
       "    <tr>\n",
       "      <th>17854</th>\n",
       "      <td>21523</td>\n",
       "      <td>3</td>\n",
       "      <td>3112</td>\n",
       "      <td>38</td>\n",
       "      <td>secondary education</td>\n",
       "      <td>1</td>\n",
       "      <td>married</td>\n",
       "      <td>0</td>\n",
       "      <td>M</td>\n",
       "      <td>employee</td>\n",
       "      <td>1</td>\n",
       "      <td>39054</td>\n",
       "      <td>buying my own car</td>\n",
       "      <td>adulto</td>\n",
       "      <td>vehiculo</td>\n",
       "      <td>salario medio</td>\n",
       "    </tr>\n",
       "    <tr>\n",
       "      <th>17855</th>\n",
       "      <td>21524</td>\n",
       "      <td>2</td>\n",
       "      <td>1984</td>\n",
       "      <td>40</td>\n",
       "      <td>secondary education</td>\n",
       "      <td>1</td>\n",
       "      <td>married</td>\n",
       "      <td>0</td>\n",
       "      <td>F</td>\n",
       "      <td>employee</td>\n",
       "      <td>0</td>\n",
       "      <td>13127</td>\n",
       "      <td>to buy a car</td>\n",
       "      <td>adulto</td>\n",
       "      <td>vehiculo</td>\n",
       "      <td>salario bajo</td>\n",
       "    </tr>\n",
       "  </tbody>\n",
       "</table>\n",
       "<p>17856 rows × 16 columns</p>\n",
       "</div>"
      ],
      "text/plain": [
       "       index  children  days_employed  dob_years            education  \\\n",
       "0          0         1           8437         42    bachelor's degree   \n",
       "1          1         1           4024         36  secondary education   \n",
       "2          2         0           5623         33  secondary education   \n",
       "3          3         3           4124         32  secondary education   \n",
       "4          5         0            926         27    bachelor's degree   \n",
       "...      ...       ...            ...        ...                  ...   \n",
       "17851  21519         1           2351         37      graduate degree   \n",
       "17852  21520         1           4529         43  secondary education   \n",
       "17853  21522         1           2113         38  secondary education   \n",
       "17854  21523         3           3112         38  secondary education   \n",
       "17855  21524         2           1984         40  secondary education   \n",
       "\n",
       "       education_id      family_status  family_status_id gender income_type  \\\n",
       "0                 0            married                 0      F    employee   \n",
       "1                 1            married                 0      F    employee   \n",
       "2                 1            married                 0      M    employee   \n",
       "3                 1            married                 0      M    employee   \n",
       "4                 0  civil partnership                 1      M    business   \n",
       "...             ...                ...               ...    ...         ...   \n",
       "17851             4           divorced                 3      M    employee   \n",
       "17852             1  civil partnership                 1      F    business   \n",
       "17853             1  civil partnership                 1      M    employee   \n",
       "17854             1            married                 0      M    employee   \n",
       "17855             1            married                 0      F    employee   \n",
       "\n",
       "       debt  total_income                     purpose age_group   category  \\\n",
       "0         0         40620       purchase of the house    adulto  propiedad   \n",
       "1         0         17932                car purchase    adulto   vehiculo   \n",
       "2         0         23341       purchase of the house     joven  propiedad   \n",
       "3         0         42820     supplementary education     joven  educacion   \n",
       "4         0         40922       purchase of the house     joven  propiedad   \n",
       "...     ...           ...                         ...       ...        ...   \n",
       "17851     0         18551  buy commercial real estate    adulto    negocio   \n",
       "17852     0         35966        housing transactions    adulto    negocio   \n",
       "17853     1         14347                    property    adulto  propiedad   \n",
       "17854     1         39054           buying my own car    adulto   vehiculo   \n",
       "17855     0         13127                to buy a car    adulto   vehiculo   \n",
       "\n",
       "        salary_level  \n",
       "0      salario medio  \n",
       "1       salario bajo  \n",
       "2       salario bajo  \n",
       "3      salario medio  \n",
       "4      salario medio  \n",
       "...              ...  \n",
       "17851   salario bajo  \n",
       "17852  salario medio  \n",
       "17853   salario bajo  \n",
       "17854  salario medio  \n",
       "17855   salario bajo  \n",
       "\n",
       "[17856 rows x 16 columns]"
      ]
     },
     "execution_count": 100,
     "metadata": {},
     "output_type": "execute_result"
    }
   ],
   "source": [
    "credit_proyect"
   ]
  },
  {
   "cell_type": "code",
   "execution_count": 101,
   "metadata": {
    "scrolled": true
   },
   "outputs": [
    {
     "name": "stdout",
     "output_type": "stream",
     "text": [
      "adulto          10709\n",
      "joven            6542\n",
      "adulto mayor      605\n",
      "Name: age_group, dtype: int64\n",
      "-----\n",
      "negocio       4809\n",
      "propiedad     4229\n",
      "vehiculo      3559\n",
      "educacion     3332\n",
      "matrimonio    1927\n",
      "Name: category, dtype: int64\n",
      "-----\n",
      "salario bajo     12658\n",
      "salario medio     5183\n",
      "salario alto        15\n",
      "Name: salary_level, dtype: int64\n"
     ]
    }
   ],
   "source": [
    "# Contar los valores de cada categoría para ver la distribución\n",
    "print(credit_proyect['age_group'].value_counts())\n",
    "print(\"-----\")\n",
    "print(credit_proyect['category'].value_counts())\n",
    "print(\"-----\")\n",
    "print(credit_proyect['salary_level'].value_counts())"
   ]
  },
  {
   "cell_type": "markdown",
   "metadata": {},
   "source": [
    "## Comprobación de las hipótesis\n"
   ]
  },
  {
   "cell_type": "markdown",
   "metadata": {},
   "source": [
    "**¿Existe una correlación entre tener hijos y pagar a tiempo?**"
   ]
  },
  {
   "cell_type": "code",
   "execution_count": 118,
   "metadata": {},
   "outputs": [
    {
     "name": "stdout",
     "output_type": "stream",
     "text": [
      "children  debt\n",
      "0         0       9992\n",
      "          1        892\n",
      "1         0       4149\n",
      "          1        430\n",
      "2         0       1830\n",
      "          1        192\n",
      "3         0        296\n",
      "          1         26\n",
      "4         0         36\n",
      "          1          4\n",
      "5         0          9\n",
      "Name: debt, dtype: int64\n",
      "-----\n",
      "10.0\n",
      "La tasa de incumplimiento en el pago de cuotas de créditos para las personas con 0 hijos es del 8,2%\n",
      "La tasa de incumplimiento en el pago de cuotas de créditos para las personas con 1 hijo es del 9,39%\n",
      "La tasa de incumplimiento en el pago de cuotas de créditos para las personas con 2 hijos es del 9,5%\n",
      "La tasa de incumplimiento en el pago de cuotas de créditos para las personas con 3 hijos es del 8,07%\n",
      "La tasa de incumplimiento en el pago de cuotas de créditos para las personas con 4 hijos es del 10%\n",
      "La tasa de incumplimiento en el pago de cuotas de créditos para las personas con 5 hijos es del 0%\n"
     ]
    }
   ],
   "source": [
    "# Comprueba los datos sobre los hijos y los pagos puntuales\n",
    "print(credit_proyect.groupby(\"children\")['debt'].value_counts())\n",
    "print(\"-----\")\n",
    "\n",
    "# Calcular la tasa de incumplimiento en función del número de hijos\n",
    "def porcent_data(nopay, pay):\n",
    "    pago_porcent = round((nopay / pay) * 100,2)\n",
    "    return pago_porcent\n",
    "\n",
    "print(porcent_data(4,40))\n",
    "print(\"La tasa de incumplimiento en el pago de cuotas de créditos para las personas con 0 hijos es del 8,2%\")\n",
    "print(\"La tasa de incumplimiento en el pago de cuotas de créditos para las personas con 1 hijo es del 9,39%\")\n",
    "print(\"La tasa de incumplimiento en el pago de cuotas de créditos para las personas con 2 hijos es del 9,5%\")\n",
    "print(\"La tasa de incumplimiento en el pago de cuotas de créditos para las personas con 3 hijos es del 8,07%\")\n",
    "print(\"La tasa de incumplimiento en el pago de cuotas de créditos para las personas con 4 hijos es del 10%\")\n",
    "print(\"La tasa de incumplimiento en el pago de cuotas de créditos para las personas con 5 hijos es del 0%\")\n",
    "\n"
   ]
  },
  {
   "cell_type": "code",
   "execution_count": 103,
   "metadata": {},
   "outputs": [
    {
     "data": {
      "text/html": [
       "<div>\n",
       "<style scoped>\n",
       "    .dataframe tbody tr th:only-of-type {\n",
       "        vertical-align: middle;\n",
       "    }\n",
       "\n",
       "    .dataframe tbody tr th {\n",
       "        vertical-align: top;\n",
       "    }\n",
       "\n",
       "    .dataframe thead tr th {\n",
       "        text-align: left;\n",
       "    }\n",
       "\n",
       "    .dataframe thead tr:last-of-type th {\n",
       "        text-align: right;\n",
       "    }\n",
       "</style>\n",
       "<table border=\"1\" class=\"dataframe\">\n",
       "  <thead>\n",
       "    <tr>\n",
       "      <th></th>\n",
       "      <th>sum</th>\n",
       "      <th>len</th>\n",
       "      <th>mean</th>\n",
       "    </tr>\n",
       "    <tr>\n",
       "      <th></th>\n",
       "      <th>debt</th>\n",
       "      <th>debt</th>\n",
       "      <th>debt</th>\n",
       "    </tr>\n",
       "    <tr>\n",
       "      <th>children</th>\n",
       "      <th></th>\n",
       "      <th></th>\n",
       "      <th></th>\n",
       "    </tr>\n",
       "  </thead>\n",
       "  <tbody>\n",
       "    <tr>\n",
       "      <th>0</th>\n",
       "      <td>892</td>\n",
       "      <td>10884</td>\n",
       "      <td>0.081955</td>\n",
       "    </tr>\n",
       "    <tr>\n",
       "      <th>1</th>\n",
       "      <td>430</td>\n",
       "      <td>4579</td>\n",
       "      <td>0.093907</td>\n",
       "    </tr>\n",
       "    <tr>\n",
       "      <th>2</th>\n",
       "      <td>192</td>\n",
       "      <td>2022</td>\n",
       "      <td>0.094955</td>\n",
       "    </tr>\n",
       "    <tr>\n",
       "      <th>3</th>\n",
       "      <td>26</td>\n",
       "      <td>322</td>\n",
       "      <td>0.080745</td>\n",
       "    </tr>\n",
       "    <tr>\n",
       "      <th>4</th>\n",
       "      <td>4</td>\n",
       "      <td>40</td>\n",
       "      <td>0.100000</td>\n",
       "    </tr>\n",
       "    <tr>\n",
       "      <th>5</th>\n",
       "      <td>0</td>\n",
       "      <td>9</td>\n",
       "      <td>0.000000</td>\n",
       "    </tr>\n",
       "  </tbody>\n",
       "</table>\n",
       "</div>"
      ],
      "text/plain": [
       "          sum    len      mean\n",
       "         debt   debt      debt\n",
       "children                      \n",
       "0         892  10884  0.081955\n",
       "1         430   4579  0.093907\n",
       "2         192   2022  0.094955\n",
       "3          26    322  0.080745\n",
       "4           4     40  0.100000\n",
       "5           0      9  0.000000"
      ]
     },
     "execution_count": 103,
     "metadata": {},
     "output_type": "execute_result"
    }
   ],
   "source": [
    "loan_table = pd.pivot_table(credit_proyect, \n",
    "                             index = ['children'], \n",
    "                             values= 'debt', \n",
    "                             aggfunc = ['sum', len, 'mean']\n",
    "                            )\n",
    "loan_table"
   ]
  },
  {
   "cell_type": "markdown",
   "metadata": {},
   "source": [
    "**Conclusión**\n",
    "\n",
    "[Escribe tus conclusiones en base a tus manipulaciones y observaciones.]\n",
    "- Primero se agrupo por \"children\" en la columna debt, para ver la relación hijos y pago, luego se hizo un value_counts(), para ver la cantidad de personas en las cuales han pagado y las personas que no han pagado la cuota.\n",
    "- Despues realizo una función para sacar el porcentaje de manera automatizada (en forma de calculadora), y sacar cada tasa de incumplimiento dependiendo de los hijos que tengan.\n",
    "\n",
    "- Se realiza tabla dinámica que refleja el número de no pagos, número total entre pagos y no pagos y la relación media de ambas.\n",
    "\n",
    "\n",
    "**Se saca por conclusión que las personas de 0 a 4 hijos, el porcentaje de incumplimiento es bastante parecida, aunque las personas con 4 hijos tienden a tener mayor deuda al pagar**"
   ]
  },
  {
   "cell_type": "markdown",
   "metadata": {},
   "source": [
    "**¿Existe una correlación entre la situación familiar y el pago a tiempo?**"
   ]
  },
  {
   "cell_type": "code",
   "execution_count": 104,
   "metadata": {},
   "outputs": [
    {
     "name": "stdout",
     "output_type": "stream",
     "text": [
      "family_status      debt\n",
      "civil partnership  0       3187\n",
      "                   1        354\n",
      "divorced           0        913\n",
      "                   1         73\n",
      "married            0       9555\n",
      "                   1        826\n",
      "unmarried          0       2216\n",
      "                   1        260\n",
      "widow / widower    0        441\n",
      "                   1         31\n",
      "Name: debt, dtype: int64\n",
      "-----\n",
      "7.03\n",
      "El porcentaje de incumplimiento en el pago de crédito para las uniones civiles es de 11,11%\n",
      "El porcentaje de incumplimiento en el pago de crédito para las personas divorciadas es de 8,0%\n",
      "El porcentaje de incumplimiento en el pago de crédito para las personas casadas es de 8,64%\n",
      "El porcentaje de incumplimiento en el pago de crédito para las personas solteras es de 11,73\n",
      "El porcentaje de incumplimiento en el pago de crédito para las personas viudas es de 7,03%\n"
     ]
    }
   ],
   "source": [
    "# Comprueba los datos del estado familiar y los pagos a tiempo\n",
    "print(credit_proyect.groupby(\"family_status\")['debt'].value_counts())\n",
    "print(\"-----\")\n",
    "\n",
    " #Calcular la tasa de incumplimiento basada en el estado familiar\n",
    "def porcent_data(nopay, pay):\n",
    "    pago_porcent = round((nopay / pay) * 100,2)\n",
    "    return pago_porcent\n",
    "print(porcent_data(31,441))\n",
    "\n",
    "print(\"El porcentaje de incumplimiento en el pago de crédito para las uniones civiles es de 11,11%\")\n",
    "print(\"El porcentaje de incumplimiento en el pago de crédito para las personas divorciadas es de 8,0%\")\n",
    "print(\"El porcentaje de incumplimiento en el pago de crédito para las personas casadas es de 8,64%\")\n",
    "print(\"El porcentaje de incumplimiento en el pago de crédito para las personas solteras es de 11,73\")\n",
    "print(\"El porcentaje de incumplimiento en el pago de crédito para las personas viudas es de 7,03%\")\n"
   ]
  },
  {
   "cell_type": "code",
   "execution_count": 105,
   "metadata": {},
   "outputs": [
    {
     "data": {
      "text/html": [
       "<div>\n",
       "<style scoped>\n",
       "    .dataframe tbody tr th:only-of-type {\n",
       "        vertical-align: middle;\n",
       "    }\n",
       "\n",
       "    .dataframe tbody tr th {\n",
       "        vertical-align: top;\n",
       "    }\n",
       "\n",
       "    .dataframe thead tr th {\n",
       "        text-align: left;\n",
       "    }\n",
       "\n",
       "    .dataframe thead tr:last-of-type th {\n",
       "        text-align: right;\n",
       "    }\n",
       "</style>\n",
       "<table border=\"1\" class=\"dataframe\">\n",
       "  <thead>\n",
       "    <tr>\n",
       "      <th></th>\n",
       "      <th>sum</th>\n",
       "      <th>len</th>\n",
       "      <th>mean</th>\n",
       "    </tr>\n",
       "    <tr>\n",
       "      <th></th>\n",
       "      <th>debt</th>\n",
       "      <th>debt</th>\n",
       "      <th>debt</th>\n",
       "    </tr>\n",
       "    <tr>\n",
       "      <th>family_status</th>\n",
       "      <th></th>\n",
       "      <th></th>\n",
       "      <th></th>\n",
       "    </tr>\n",
       "  </thead>\n",
       "  <tbody>\n",
       "    <tr>\n",
       "      <th>civil partnership</th>\n",
       "      <td>354</td>\n",
       "      <td>3541</td>\n",
       "      <td>0.099972</td>\n",
       "    </tr>\n",
       "    <tr>\n",
       "      <th>divorced</th>\n",
       "      <td>73</td>\n",
       "      <td>986</td>\n",
       "      <td>0.074037</td>\n",
       "    </tr>\n",
       "    <tr>\n",
       "      <th>married</th>\n",
       "      <td>826</td>\n",
       "      <td>10381</td>\n",
       "      <td>0.079568</td>\n",
       "    </tr>\n",
       "    <tr>\n",
       "      <th>unmarried</th>\n",
       "      <td>260</td>\n",
       "      <td>2476</td>\n",
       "      <td>0.105008</td>\n",
       "    </tr>\n",
       "    <tr>\n",
       "      <th>widow / widower</th>\n",
       "      <td>31</td>\n",
       "      <td>472</td>\n",
       "      <td>0.065678</td>\n",
       "    </tr>\n",
       "  </tbody>\n",
       "</table>\n",
       "</div>"
      ],
      "text/plain": [
       "                   sum    len      mean\n",
       "                  debt   debt      debt\n",
       "family_status                          \n",
       "civil partnership  354   3541  0.099972\n",
       "divorced            73    986  0.074037\n",
       "married            826  10381  0.079568\n",
       "unmarried          260   2476  0.105008\n",
       "widow / widower     31    472  0.065678"
      ]
     },
     "execution_count": 105,
     "metadata": {},
     "output_type": "execute_result"
    }
   ],
   "source": [
    "loan_table2 = pd.pivot_table(credit_proyect, \n",
    "                             index = ['family_status'], \n",
    "                             values= 'debt', \n",
    "                             aggfunc = ['sum', len, 'mean']\n",
    "                            )\n",
    "loan_table2"
   ]
  },
  {
   "cell_type": "markdown",
   "metadata": {},
   "source": [
    "**Conclusión**\n",
    "\n",
    "[Escribe tus conclusiones en base a tus manipulaciones y observaciones.]\n",
    "- Se hizo lo mismo que en la hipotesis anterior\n",
    "\n",
    "- Se realiza tabla dinámica que refleja el número de no pagos, número total entre pagos y no pagos y la relación media de ambas."
   ]
  },
  {
   "cell_type": "markdown",
   "metadata": {},
   "source": [
    "**Las personas viudas tienen mejor tendencia a la hora de pagar un crédito, al igual que las personas que estan divorciadas**"
   ]
  },
  {
   "cell_type": "markdown",
   "metadata": {},
   "source": [
    "**¿Existe una correlación entre el nivel de ingresos y el pago a tiempo?**"
   ]
  },
  {
   "cell_type": "code",
   "execution_count": 106,
   "metadata": {},
   "outputs": [
    {
     "name": "stdout",
     "output_type": "stream",
     "text": [
      "salary_level   debt\n",
      "salario alto   0          14\n",
      "               1           1\n",
      "salario bajo   0       11509\n",
      "               1        1149\n",
      "salario medio  0        4789\n",
      "               1         394\n",
      "Name: debt, dtype: int64\n",
      "-----\n",
      "8.23\n",
      "El porcentaje de incumplimiento en el pago de crédito para los salarios altos es de 7,14%\n",
      "El porcentaje de incumplimiento en el pago de crédito para los salarios bajos es de 9,98%\n",
      "El porcentaje de incumplimiento en el pago de crédito para los salarios medios es de 8,93%\n"
     ]
    }
   ],
   "source": [
    "# Comprueba los datos del nivel de ingresos y los pagos a tiempo\n",
    "print(credit_proyect.groupby(\"salary_level\")['debt'].value_counts())\n",
    "print(\"-----\")\n",
    "\n",
    "\n",
    "# Calcular la tasa de incumplimiento basada en el nivel de ingresos\n",
    "def porcent_data(nopay, pay):\n",
    "    pago_porcent = round((nopay / pay) * 100,2)\n",
    "    return pago_porcent\n",
    "print(porcent_data(394,4789))\n",
    "\n",
    "print(\"El porcentaje de incumplimiento en el pago de crédito para los salarios altos es de 7,14%\")\n",
    "print(\"El porcentaje de incumplimiento en el pago de crédito para los salarios bajos es de 9,98%\")\n",
    "print(\"El porcentaje de incumplimiento en el pago de crédito para los salarios medios es de 8,93%\")"
   ]
  },
  {
   "cell_type": "code",
   "execution_count": 107,
   "metadata": {},
   "outputs": [
    {
     "data": {
      "text/html": [
       "<div>\n",
       "<style scoped>\n",
       "    .dataframe tbody tr th:only-of-type {\n",
       "        vertical-align: middle;\n",
       "    }\n",
       "\n",
       "    .dataframe tbody tr th {\n",
       "        vertical-align: top;\n",
       "    }\n",
       "\n",
       "    .dataframe thead tr th {\n",
       "        text-align: left;\n",
       "    }\n",
       "\n",
       "    .dataframe thead tr:last-of-type th {\n",
       "        text-align: right;\n",
       "    }\n",
       "</style>\n",
       "<table border=\"1\" class=\"dataframe\">\n",
       "  <thead>\n",
       "    <tr>\n",
       "      <th></th>\n",
       "      <th>sum</th>\n",
       "      <th>len</th>\n",
       "      <th>mean</th>\n",
       "    </tr>\n",
       "    <tr>\n",
       "      <th></th>\n",
       "      <th>debt</th>\n",
       "      <th>debt</th>\n",
       "      <th>debt</th>\n",
       "    </tr>\n",
       "    <tr>\n",
       "      <th>salary_level</th>\n",
       "      <th></th>\n",
       "      <th></th>\n",
       "      <th></th>\n",
       "    </tr>\n",
       "  </thead>\n",
       "  <tbody>\n",
       "    <tr>\n",
       "      <th>salario alto</th>\n",
       "      <td>1</td>\n",
       "      <td>15</td>\n",
       "      <td>0.066667</td>\n",
       "    </tr>\n",
       "    <tr>\n",
       "      <th>salario bajo</th>\n",
       "      <td>1149</td>\n",
       "      <td>12658</td>\n",
       "      <td>0.090773</td>\n",
       "    </tr>\n",
       "    <tr>\n",
       "      <th>salario medio</th>\n",
       "      <td>394</td>\n",
       "      <td>5183</td>\n",
       "      <td>0.076018</td>\n",
       "    </tr>\n",
       "  </tbody>\n",
       "</table>\n",
       "</div>"
      ],
      "text/plain": [
       "                sum    len      mean\n",
       "               debt   debt      debt\n",
       "salary_level                        \n",
       "salario alto      1     15  0.066667\n",
       "salario bajo   1149  12658  0.090773\n",
       "salario medio   394   5183  0.076018"
      ]
     },
     "execution_count": 107,
     "metadata": {},
     "output_type": "execute_result"
    }
   ],
   "source": [
    "loan_table3 = pd.pivot_table(credit_proyect, \n",
    "                             index = ['salary_level'], \n",
    "                             values= 'debt', \n",
    "                             aggfunc = ['sum', len, 'mean']\n",
    "                            )\n",
    "loan_table3"
   ]
  },
  {
   "cell_type": "markdown",
   "metadata": {},
   "source": [
    "**Conclusión**\n",
    "\n",
    "[Escribe tus conclusiones en base a tus manipulaciones y observaciones.]\n",
    "- Se realizó el mismo metodo que las hipotesis anteriores\n",
    "\n",
    "- Se realiza tabla dinámica que refleja el número de no pagos, número total entre pagos y no pagos y la relación media de ambas."
   ]
  },
  {
   "cell_type": "markdown",
   "metadata": {},
   "source": [
    "**Se concluye que entre la tasa de incumplimiento entre salarios alto y salarios medios no hay diferencias. Sin embargo los salarios bajos tienden a tener mayor incumplimiento**"
   ]
  },
  {
   "cell_type": "markdown",
   "metadata": {},
   "source": [
    "**¿Cómo afecta el propósito del crédito a la tasa de incumplimiento?**"
   ]
  },
  {
   "cell_type": "code",
   "execution_count": 108,
   "metadata": {},
   "outputs": [
    {
     "name": "stdout",
     "output_type": "stream",
     "text": [
      "category    debt\n",
      "educacion   0       3005\n",
      "            1        327\n",
      "matrimonio  0       1765\n",
      "            1        162\n",
      "negocio     0       4414\n",
      "            1        395\n",
      "propiedad   0       3925\n",
      "            1        304\n",
      "vehiculo    0       3203\n",
      "            1        356\n",
      "Name: debt, dtype: int64\n",
      "-----\n",
      "10.88\n",
      "La tasa de incumplimiento para las personas que piden crédito para la educación es de 10,88% \n",
      "La tasa de incumplimiento para las personas que piden crédito para matrimonios es de 9,18%\n",
      "La tasa de incumplimiento para las personas que piden crédito para negocios es de 8,95%\n",
      "La tasa de incumplimiento para las personas que piden crédito para gastos de propiedad es de 7,75%\n",
      "La tasa de incumplimiento para las personas que piden crédito para gastos de vehículos es de 11,11%\n"
     ]
    }
   ],
   "source": [
    "# Consulta los porcentajes de tasa de incumplimiento para cada propósito del crédito y analízalos\n",
    "print(credit_proyect.groupby(\"category\")['debt'].value_counts())\n",
    "print(\"-----\")\n",
    "\n",
    "def porcent_data(nopay, pay):\n",
    "    pago_porcent = round((nopay / pay) * 100,2)\n",
    "    return pago_porcent\n",
    "print(porcent_data(327,3005))\n",
    "\n",
    "print(\"La tasa de incumplimiento para las personas que piden crédito para la educación es de 10,88% \")\n",
    "print(\"La tasa de incumplimiento para las personas que piden crédito para matrimonios es de 9,18%\")\n",
    "print(\"La tasa de incumplimiento para las personas que piden crédito para negocios es de 8,95%\")\n",
    "print(\"La tasa de incumplimiento para las personas que piden crédito para gastos de propiedad es de 7,75%\")\n",
    "print(\"La tasa de incumplimiento para las personas que piden crédito para gastos de vehículos es de 11,11%\")"
   ]
  },
  {
   "cell_type": "markdown",
   "metadata": {},
   "source": [
    "**Conclusión**\n",
    "\n",
    "[Escribe tus conclusiones en base a tus manipulaciones y observaciones.]\n",
    "- Se utilizó el mismo metodo que en las otras hipotesis.\n",
    "\n",
    "- Se realiza tabla dinámica que refleja el número de no pagos, número total entre pagos y no pagos y la relación media de ambas.\n",
    "\n",
    "**Se pueden sacar varias conclusiones con estos datos**\n",
    "- Las personas que tienen mayores problemas para pagar las cuotas de los créditos son las personas que utilizan el crédito para los gastos de vehículos y educación.\n",
    "\n",
    "- Las personas que quieren el crédito para gastos en sus propiedades, son las personas que tienen mejor % de pago de cuotas.\n"
   ]
  },
  {
   "cell_type": "code",
   "execution_count": 109,
   "metadata": {},
   "outputs": [
    {
     "data": {
      "text/html": [
       "<div>\n",
       "<style scoped>\n",
       "    .dataframe tbody tr th:only-of-type {\n",
       "        vertical-align: middle;\n",
       "    }\n",
       "\n",
       "    .dataframe tbody tr th {\n",
       "        vertical-align: top;\n",
       "    }\n",
       "\n",
       "    .dataframe thead tr th {\n",
       "        text-align: left;\n",
       "    }\n",
       "\n",
       "    .dataframe thead tr:last-of-type th {\n",
       "        text-align: right;\n",
       "    }\n",
       "</style>\n",
       "<table border=\"1\" class=\"dataframe\">\n",
       "  <thead>\n",
       "    <tr>\n",
       "      <th></th>\n",
       "      <th>sum</th>\n",
       "      <th>len</th>\n",
       "      <th>mean</th>\n",
       "    </tr>\n",
       "    <tr>\n",
       "      <th></th>\n",
       "      <th>debt</th>\n",
       "      <th>debt</th>\n",
       "      <th>debt</th>\n",
       "    </tr>\n",
       "    <tr>\n",
       "      <th>category</th>\n",
       "      <th></th>\n",
       "      <th></th>\n",
       "      <th></th>\n",
       "    </tr>\n",
       "  </thead>\n",
       "  <tbody>\n",
       "    <tr>\n",
       "      <th>educacion</th>\n",
       "      <td>327</td>\n",
       "      <td>3332</td>\n",
       "      <td>0.098139</td>\n",
       "    </tr>\n",
       "    <tr>\n",
       "      <th>matrimonio</th>\n",
       "      <td>162</td>\n",
       "      <td>1927</td>\n",
       "      <td>0.084069</td>\n",
       "    </tr>\n",
       "    <tr>\n",
       "      <th>negocio</th>\n",
       "      <td>395</td>\n",
       "      <td>4809</td>\n",
       "      <td>0.082138</td>\n",
       "    </tr>\n",
       "    <tr>\n",
       "      <th>propiedad</th>\n",
       "      <td>304</td>\n",
       "      <td>4229</td>\n",
       "      <td>0.071885</td>\n",
       "    </tr>\n",
       "    <tr>\n",
       "      <th>vehiculo</th>\n",
       "      <td>356</td>\n",
       "      <td>3559</td>\n",
       "      <td>0.100028</td>\n",
       "    </tr>\n",
       "  </tbody>\n",
       "</table>\n",
       "</div>"
      ],
      "text/plain": [
       "            sum   len      mean\n",
       "           debt  debt      debt\n",
       "category                       \n",
       "educacion   327  3332  0.098139\n",
       "matrimonio  162  1927  0.084069\n",
       "negocio     395  4809  0.082138\n",
       "propiedad   304  4229  0.071885\n",
       "vehiculo    356  3559  0.100028"
      ]
     },
     "execution_count": 109,
     "metadata": {},
     "output_type": "execute_result"
    }
   ],
   "source": [
    "loan_table4 = pd.pivot_table(credit_proyect, \n",
    "                             index = ['category'], \n",
    "                             values= 'debt', \n",
    "                             aggfunc = ['sum', len, 'mean']\n",
    "                            )\n",
    "loan_table4"
   ]
  },
  {
   "cell_type": "markdown",
   "metadata": {},
   "source": [
    "# Conclusión general \n",
    "\n",
    "[Enumera tus conclusiones en esta última sección. Asegúrate de incluir todas las conclusiones importantes que hiciste y que te llevaron a la forma en que procesaste y analizaste los datos. Habla de los valores ausentes, los duplicados y las posibles razones y soluciones para los artefactos problemáticos que tuviste que abordar.]\n",
    "\n",
    "1. **Al final de este proyecto, pudimos llevar a cabo un preprocesamiento de datos para nuestro cliente que está tratando de analizar el riesgo de incumplimiento en el pago del préstamo de crédito. En este proyecto se realizó lo suguiente:**\n",
    "\n",
    "1.1. **limpiamos algunos datos**\n",
    "\n",
    "1.2. **hicimos alguna conversión de tipos**.\n",
    "\n",
    "1.3. **categorizamos los datos**.\n",
    "\n",
    "1.4. **procesamos los duplicados en los datos**.\n",
    "\n",
    "1.5. **Realizamos algunas funciones**.\n",
    "\n",
    "1.6. **preparamos los datos para el análisis**.\n",
    "\n",
    "1.7. **se realizaron tablas dinámicas para que confirmaran nuestras hipotesis**.\n",
    "\n",
    "- **Al realizar lo antes mencionado, concluimos que:**\n",
    "\n",
    "2. **Las personas con 5 hijos practicamente no piden créditos, ya que tienen mayores gastos, y les es mas dificil pagar un crédito, por lo que las pocas personas con 5 hijos que piden crédito, son en casos excepcionales, y éstos si los pagan.**\n",
    "\n",
    "3. **Las personas viudas y solteras, tienen el mejor porcentaje de pago entre los estados civiles. Las personas solteras tienen una tasa de incumplimiento mayor.**\n",
    "\n",
    "4. **No veo una correlación entre el nivel de ingresos y la morosidad en el pago del préstamo.**\n",
    "\n",
    "5. **Las personas que piden crédito para la educación o para la compra de vehículos, tienen la peor tasa de pago del crédito. En cambio las personas que utilizan el crédito para su propiedad, ya sea comprar o modificar, tienen la mejor tasa de pago**\n",
    "\n",
    "[Enumera tus conclusiones con respecto a las preguntas planteadas aquí también.]\n"
   ]
  }
 ],
 "metadata": {
  "ExecuteTimeLog": [
   {
    "duration": 2741,
    "start_time": "2021-10-21T01:08:49.480Z"
   },
   {
    "duration": 52,
    "start_time": "2021-10-21T01:08:53.315Z"
   },
   {
    "duration": 49,
    "start_time": "2021-10-21T01:08:57.432Z"
   },
   {
    "duration": 70,
    "start_time": "2021-10-21T01:09:07.706Z"
   }
  ],
  "kernelspec": {
   "display_name": "Python 3 (ipykernel)",
   "language": "python",
   "name": "python3"
  },
  "language_info": {
   "codemirror_mode": {
    "name": "ipython",
    "version": 3
   },
   "file_extension": ".py",
   "mimetype": "text/x-python",
   "name": "python",
   "nbconvert_exporter": "python",
   "pygments_lexer": "ipython3",
   "version": "3.9.13"
  },
  "toc": {
   "base_numbering": 1,
   "nav_menu": {},
   "number_sections": true,
   "sideBar": true,
   "skip_h1_title": true,
   "title_cell": "Table of Contents",
   "title_sidebar": "Contents",
   "toc_cell": false,
   "toc_position": {
    "height": "calc(100% - 180px)",
    "left": "10px",
    "top": "150px",
    "width": "501.594px"
   },
   "toc_section_display": true,
   "toc_window_display": true
  }
 },
 "nbformat": 4,
 "nbformat_minor": 2
}
